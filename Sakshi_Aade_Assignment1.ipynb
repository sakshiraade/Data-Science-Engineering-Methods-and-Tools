{
  "cells": [
    {
      "cell_type": "markdown",
      "source": [
        "## **INTRODUCTION**"
      ],
      "metadata": {
        "id": "Wxw4oSJ1qYBa"
      }
    },
    {
      "cell_type": "markdown",
      "source": [
        "**Title:** Data Science Analysis of Pizza Sales\n",
        "\n",
        "**Introduction**\n",
        "\n",
        "In the ever-evolving landscape of the food industry, understanding customer preferences and sales patterns is crucial for business success. This analysis delves into a comprehensive dataset on pizza sales, aiming to uncover patterns and insights that can drive informed business decisions.\n",
        "\n",
        "**Dataset Overview**\n",
        "\n",
        "The dataset at hand offers a rich collection of features, encapsulating the dynamics of pizza sales. Key columns include:\n",
        "\n",
        "**Pizza Attributes:**\n",
        "\n",
        "pizza_id: Identifier for different types of pizzas.\n",
        "pizza_name_id: A unique combination of pizza name and size.\n",
        "pizza_size: Categorization of pizzas based on size.\n",
        "pizza_category: Classification of pizzas into various categories.\n",
        "pizza_ingredients: List of ingredients used in each pizza.\n",
        "pizza_name: Name of the pizza.\n",
        "\n",
        "**Order Details:**\n",
        "\n",
        "order_id: Unique identifier for each order.\n",
        "quantity: Number of pizzas ordered per transaction.\n",
        "order_date & order_time: Timestamps providing temporal context to each order.\n",
        "\n",
        "**Pricing Information:**\n",
        "\n",
        "unit_price: Price of a single unit of pizza.\n",
        "total_price: Total price for the order, serving as the target variable for our analysis.\n",
        "\n",
        "**Objective**\n",
        "\n",
        "The primary goal of this analysis is to understand the factors influencing total_price, with a particular focus on its relationship with unit_price and quantity. By analyzing these relationships, we aim to:\n",
        "\n",
        "Identify trends and patterns in pizza sales.\n",
        "Understand the impact of different pizza attributes on sales value.\n",
        "Explore how temporal factors (date and time) affect total sales.\n",
        "\n",
        "**Significance**\n",
        "\n",
        "The insights derived from this study are expected to guide strategic decisions in menu planning, pricing strategies, and marketing efforts. Additionally, this analysis serves as a blueprint for leveraging data science in understanding consumer behavior in the food industry."
      ],
      "metadata": {
        "id": "n5QsPf3jp5qT"
      }
    },
    {
      "cell_type": "markdown",
      "source": [
        "## **Importing the libraries**"
      ],
      "metadata": {
        "id": "w3ney2HBQ293"
      }
    },
    {
      "cell_type": "code",
      "source": [
        "import pandas as pd\n",
        "import numpy as np\n",
        "from sklearn.preprocessing import LabelEncoder\n",
        "import matplotlib.pyplot as plt\n",
        "import seaborn as sns\n",
        "from sklearn.ensemble import RandomForestRegressor\n",
        "from sklearn.linear_model import LassoCV\n",
        "from sklearn.model_selection import train_test_split\n",
        "from sklearn.linear_model import LinearRegression\n",
        "from sklearn.metrics import mean_squared_error\n",
        "from sklearn.ensemble import GradientBoostingRegressor"
      ],
      "metadata": {
        "id": "vtkVg0k_OC4L"
      },
      "execution_count": 224,
      "outputs": []
    },
    {
      "cell_type": "markdown",
      "source": [
        "## **Importing the Dataset**"
      ],
      "metadata": {
        "id": "i-fNq_nOaDYx"
      }
    },
    {
      "cell_type": "code",
      "source": [
        "df=pd.read_csv('/content/pizza_sales.csv')\n",
        "df.head()"
      ],
      "metadata": {
        "colab": {
          "base_uri": "https://localhost:8080/",
          "height": 397
        },
        "id": "3HdHsIhPaCWS",
        "outputId": "825e84cf-a545-48d1-fe2e-9d436abb6292"
      },
      "execution_count": 225,
      "outputs": [
        {
          "output_type": "execute_result",
          "data": {
            "text/plain": [
              "   pizza_id  order_id  pizza_name_id  quantity order_date order_time  \\\n",
              "0       1.0       1.0     hawaiian_m       1.0   1/1/2015   11:38:36   \n",
              "1       2.0       2.0  classic_dlx_m       1.0   1/1/2015   11:57:40   \n",
              "2       3.0       2.0  five_cheese_l       1.0   1/1/2015   11:57:40   \n",
              "3       4.0       2.0    ital_supr_l       1.0   1/1/2015   11:57:40   \n",
              "4       5.0       2.0     mexicana_m       1.0   1/1/2015   11:57:40   \n",
              "\n",
              "   unit_price  total_price pizza_size pizza_category  \\\n",
              "0       13.25        13.25          M        Classic   \n",
              "1       16.00        16.00          M        Classic   \n",
              "2       18.50        18.50          L         Veggie   \n",
              "3       20.75        20.75          L        Supreme   \n",
              "4       16.00        16.00          M         Veggie   \n",
              "\n",
              "                                   pizza_ingredients  \\\n",
              "0           Sliced Ham, Pineapple, Mozzarella Cheese   \n",
              "1  Pepperoni, Mushrooms, Red Onions, Red Peppers,...   \n",
              "2  Mozzarella Cheese, Provolone Cheese, Smoked Go...   \n",
              "3  Calabrese Salami, Capocollo, Tomatoes, Red Oni...   \n",
              "4  Tomatoes, Red Peppers, Jalapeno Peppers, Red O...   \n",
              "\n",
              "                  pizza_name  \n",
              "0         The Hawaiian Pizza  \n",
              "1   The Classic Deluxe Pizza  \n",
              "2      The Five Cheese Pizza  \n",
              "3  The Italian Supreme Pizza  \n",
              "4         The Mexicana Pizza  "
            ],
            "text/html": [
              "\n",
              "  <div id=\"df-133e7132-451f-4e0a-8a31-ffc3dfb8ebe4\" class=\"colab-df-container\">\n",
              "    <div>\n",
              "<style scoped>\n",
              "    .dataframe tbody tr th:only-of-type {\n",
              "        vertical-align: middle;\n",
              "    }\n",
              "\n",
              "    .dataframe tbody tr th {\n",
              "        vertical-align: top;\n",
              "    }\n",
              "\n",
              "    .dataframe thead th {\n",
              "        text-align: right;\n",
              "    }\n",
              "</style>\n",
              "<table border=\"1\" class=\"dataframe\">\n",
              "  <thead>\n",
              "    <tr style=\"text-align: right;\">\n",
              "      <th></th>\n",
              "      <th>pizza_id</th>\n",
              "      <th>order_id</th>\n",
              "      <th>pizza_name_id</th>\n",
              "      <th>quantity</th>\n",
              "      <th>order_date</th>\n",
              "      <th>order_time</th>\n",
              "      <th>unit_price</th>\n",
              "      <th>total_price</th>\n",
              "      <th>pizza_size</th>\n",
              "      <th>pizza_category</th>\n",
              "      <th>pizza_ingredients</th>\n",
              "      <th>pizza_name</th>\n",
              "    </tr>\n",
              "  </thead>\n",
              "  <tbody>\n",
              "    <tr>\n",
              "      <th>0</th>\n",
              "      <td>1.0</td>\n",
              "      <td>1.0</td>\n",
              "      <td>hawaiian_m</td>\n",
              "      <td>1.0</td>\n",
              "      <td>1/1/2015</td>\n",
              "      <td>11:38:36</td>\n",
              "      <td>13.25</td>\n",
              "      <td>13.25</td>\n",
              "      <td>M</td>\n",
              "      <td>Classic</td>\n",
              "      <td>Sliced Ham, Pineapple, Mozzarella Cheese</td>\n",
              "      <td>The Hawaiian Pizza</td>\n",
              "    </tr>\n",
              "    <tr>\n",
              "      <th>1</th>\n",
              "      <td>2.0</td>\n",
              "      <td>2.0</td>\n",
              "      <td>classic_dlx_m</td>\n",
              "      <td>1.0</td>\n",
              "      <td>1/1/2015</td>\n",
              "      <td>11:57:40</td>\n",
              "      <td>16.00</td>\n",
              "      <td>16.00</td>\n",
              "      <td>M</td>\n",
              "      <td>Classic</td>\n",
              "      <td>Pepperoni, Mushrooms, Red Onions, Red Peppers,...</td>\n",
              "      <td>The Classic Deluxe Pizza</td>\n",
              "    </tr>\n",
              "    <tr>\n",
              "      <th>2</th>\n",
              "      <td>3.0</td>\n",
              "      <td>2.0</td>\n",
              "      <td>five_cheese_l</td>\n",
              "      <td>1.0</td>\n",
              "      <td>1/1/2015</td>\n",
              "      <td>11:57:40</td>\n",
              "      <td>18.50</td>\n",
              "      <td>18.50</td>\n",
              "      <td>L</td>\n",
              "      <td>Veggie</td>\n",
              "      <td>Mozzarella Cheese, Provolone Cheese, Smoked Go...</td>\n",
              "      <td>The Five Cheese Pizza</td>\n",
              "    </tr>\n",
              "    <tr>\n",
              "      <th>3</th>\n",
              "      <td>4.0</td>\n",
              "      <td>2.0</td>\n",
              "      <td>ital_supr_l</td>\n",
              "      <td>1.0</td>\n",
              "      <td>1/1/2015</td>\n",
              "      <td>11:57:40</td>\n",
              "      <td>20.75</td>\n",
              "      <td>20.75</td>\n",
              "      <td>L</td>\n",
              "      <td>Supreme</td>\n",
              "      <td>Calabrese Salami, Capocollo, Tomatoes, Red Oni...</td>\n",
              "      <td>The Italian Supreme Pizza</td>\n",
              "    </tr>\n",
              "    <tr>\n",
              "      <th>4</th>\n",
              "      <td>5.0</td>\n",
              "      <td>2.0</td>\n",
              "      <td>mexicana_m</td>\n",
              "      <td>1.0</td>\n",
              "      <td>1/1/2015</td>\n",
              "      <td>11:57:40</td>\n",
              "      <td>16.00</td>\n",
              "      <td>16.00</td>\n",
              "      <td>M</td>\n",
              "      <td>Veggie</td>\n",
              "      <td>Tomatoes, Red Peppers, Jalapeno Peppers, Red O...</td>\n",
              "      <td>The Mexicana Pizza</td>\n",
              "    </tr>\n",
              "  </tbody>\n",
              "</table>\n",
              "</div>\n",
              "    <div class=\"colab-df-buttons\">\n",
              "\n",
              "  <div class=\"colab-df-container\">\n",
              "    <button class=\"colab-df-convert\" onclick=\"convertToInteractive('df-133e7132-451f-4e0a-8a31-ffc3dfb8ebe4')\"\n",
              "            title=\"Convert this dataframe to an interactive table.\"\n",
              "            style=\"display:none;\">\n",
              "\n",
              "  <svg xmlns=\"http://www.w3.org/2000/svg\" height=\"24px\" viewBox=\"0 -960 960 960\">\n",
              "    <path d=\"M120-120v-720h720v720H120Zm60-500h600v-160H180v160Zm220 220h160v-160H400v160Zm0 220h160v-160H400v160ZM180-400h160v-160H180v160Zm440 0h160v-160H620v160ZM180-180h160v-160H180v160Zm440 0h160v-160H620v160Z\"/>\n",
              "  </svg>\n",
              "    </button>\n",
              "\n",
              "  <style>\n",
              "    .colab-df-container {\n",
              "      display:flex;\n",
              "      gap: 12px;\n",
              "    }\n",
              "\n",
              "    .colab-df-convert {\n",
              "      background-color: #E8F0FE;\n",
              "      border: none;\n",
              "      border-radius: 50%;\n",
              "      cursor: pointer;\n",
              "      display: none;\n",
              "      fill: #1967D2;\n",
              "      height: 32px;\n",
              "      padding: 0 0 0 0;\n",
              "      width: 32px;\n",
              "    }\n",
              "\n",
              "    .colab-df-convert:hover {\n",
              "      background-color: #E2EBFA;\n",
              "      box-shadow: 0px 1px 2px rgba(60, 64, 67, 0.3), 0px 1px 3px 1px rgba(60, 64, 67, 0.15);\n",
              "      fill: #174EA6;\n",
              "    }\n",
              "\n",
              "    .colab-df-buttons div {\n",
              "      margin-bottom: 4px;\n",
              "    }\n",
              "\n",
              "    [theme=dark] .colab-df-convert {\n",
              "      background-color: #3B4455;\n",
              "      fill: #D2E3FC;\n",
              "    }\n",
              "\n",
              "    [theme=dark] .colab-df-convert:hover {\n",
              "      background-color: #434B5C;\n",
              "      box-shadow: 0px 1px 3px 1px rgba(0, 0, 0, 0.15);\n",
              "      filter: drop-shadow(0px 1px 2px rgba(0, 0, 0, 0.3));\n",
              "      fill: #FFFFFF;\n",
              "    }\n",
              "  </style>\n",
              "\n",
              "    <script>\n",
              "      const buttonEl =\n",
              "        document.querySelector('#df-133e7132-451f-4e0a-8a31-ffc3dfb8ebe4 button.colab-df-convert');\n",
              "      buttonEl.style.display =\n",
              "        google.colab.kernel.accessAllowed ? 'block' : 'none';\n",
              "\n",
              "      async function convertToInteractive(key) {\n",
              "        const element = document.querySelector('#df-133e7132-451f-4e0a-8a31-ffc3dfb8ebe4');\n",
              "        const dataTable =\n",
              "          await google.colab.kernel.invokeFunction('convertToInteractive',\n",
              "                                                    [key], {});\n",
              "        if (!dataTable) return;\n",
              "\n",
              "        const docLinkHtml = 'Like what you see? Visit the ' +\n",
              "          '<a target=\"_blank\" href=https://colab.research.google.com/notebooks/data_table.ipynb>data table notebook</a>'\n",
              "          + ' to learn more about interactive tables.';\n",
              "        element.innerHTML = '';\n",
              "        dataTable['output_type'] = 'display_data';\n",
              "        await google.colab.output.renderOutput(dataTable, element);\n",
              "        const docLink = document.createElement('div');\n",
              "        docLink.innerHTML = docLinkHtml;\n",
              "        element.appendChild(docLink);\n",
              "      }\n",
              "    </script>\n",
              "  </div>\n",
              "\n",
              "\n",
              "<div id=\"df-0e0f1bf5-1e65-4c94-9561-f8b3693739c3\">\n",
              "  <button class=\"colab-df-quickchart\" onclick=\"quickchart('df-0e0f1bf5-1e65-4c94-9561-f8b3693739c3')\"\n",
              "            title=\"Suggest charts\"\n",
              "            style=\"display:none;\">\n",
              "\n",
              "<svg xmlns=\"http://www.w3.org/2000/svg\" height=\"24px\"viewBox=\"0 0 24 24\"\n",
              "     width=\"24px\">\n",
              "    <g>\n",
              "        <path d=\"M19 3H5c-1.1 0-2 .9-2 2v14c0 1.1.9 2 2 2h14c1.1 0 2-.9 2-2V5c0-1.1-.9-2-2-2zM9 17H7v-7h2v7zm4 0h-2V7h2v10zm4 0h-2v-4h2v4z\"/>\n",
              "    </g>\n",
              "</svg>\n",
              "  </button>\n",
              "\n",
              "<style>\n",
              "  .colab-df-quickchart {\n",
              "      --bg-color: #E8F0FE;\n",
              "      --fill-color: #1967D2;\n",
              "      --hover-bg-color: #E2EBFA;\n",
              "      --hover-fill-color: #174EA6;\n",
              "      --disabled-fill-color: #AAA;\n",
              "      --disabled-bg-color: #DDD;\n",
              "  }\n",
              "\n",
              "  [theme=dark] .colab-df-quickchart {\n",
              "      --bg-color: #3B4455;\n",
              "      --fill-color: #D2E3FC;\n",
              "      --hover-bg-color: #434B5C;\n",
              "      --hover-fill-color: #FFFFFF;\n",
              "      --disabled-bg-color: #3B4455;\n",
              "      --disabled-fill-color: #666;\n",
              "  }\n",
              "\n",
              "  .colab-df-quickchart {\n",
              "    background-color: var(--bg-color);\n",
              "    border: none;\n",
              "    border-radius: 50%;\n",
              "    cursor: pointer;\n",
              "    display: none;\n",
              "    fill: var(--fill-color);\n",
              "    height: 32px;\n",
              "    padding: 0;\n",
              "    width: 32px;\n",
              "  }\n",
              "\n",
              "  .colab-df-quickchart:hover {\n",
              "    background-color: var(--hover-bg-color);\n",
              "    box-shadow: 0 1px 2px rgba(60, 64, 67, 0.3), 0 1px 3px 1px rgba(60, 64, 67, 0.15);\n",
              "    fill: var(--button-hover-fill-color);\n",
              "  }\n",
              "\n",
              "  .colab-df-quickchart-complete:disabled,\n",
              "  .colab-df-quickchart-complete:disabled:hover {\n",
              "    background-color: var(--disabled-bg-color);\n",
              "    fill: var(--disabled-fill-color);\n",
              "    box-shadow: none;\n",
              "  }\n",
              "\n",
              "  .colab-df-spinner {\n",
              "    border: 2px solid var(--fill-color);\n",
              "    border-color: transparent;\n",
              "    border-bottom-color: var(--fill-color);\n",
              "    animation:\n",
              "      spin 1s steps(1) infinite;\n",
              "  }\n",
              "\n",
              "  @keyframes spin {\n",
              "    0% {\n",
              "      border-color: transparent;\n",
              "      border-bottom-color: var(--fill-color);\n",
              "      border-left-color: var(--fill-color);\n",
              "    }\n",
              "    20% {\n",
              "      border-color: transparent;\n",
              "      border-left-color: var(--fill-color);\n",
              "      border-top-color: var(--fill-color);\n",
              "    }\n",
              "    30% {\n",
              "      border-color: transparent;\n",
              "      border-left-color: var(--fill-color);\n",
              "      border-top-color: var(--fill-color);\n",
              "      border-right-color: var(--fill-color);\n",
              "    }\n",
              "    40% {\n",
              "      border-color: transparent;\n",
              "      border-right-color: var(--fill-color);\n",
              "      border-top-color: var(--fill-color);\n",
              "    }\n",
              "    60% {\n",
              "      border-color: transparent;\n",
              "      border-right-color: var(--fill-color);\n",
              "    }\n",
              "    80% {\n",
              "      border-color: transparent;\n",
              "      border-right-color: var(--fill-color);\n",
              "      border-bottom-color: var(--fill-color);\n",
              "    }\n",
              "    90% {\n",
              "      border-color: transparent;\n",
              "      border-bottom-color: var(--fill-color);\n",
              "    }\n",
              "  }\n",
              "</style>\n",
              "\n",
              "  <script>\n",
              "    async function quickchart(key) {\n",
              "      const quickchartButtonEl =\n",
              "        document.querySelector('#' + key + ' button');\n",
              "      quickchartButtonEl.disabled = true;  // To prevent multiple clicks.\n",
              "      quickchartButtonEl.classList.add('colab-df-spinner');\n",
              "      try {\n",
              "        const charts = await google.colab.kernel.invokeFunction(\n",
              "            'suggestCharts', [key], {});\n",
              "      } catch (error) {\n",
              "        console.error('Error during call to suggestCharts:', error);\n",
              "      }\n",
              "      quickchartButtonEl.classList.remove('colab-df-spinner');\n",
              "      quickchartButtonEl.classList.add('colab-df-quickchart-complete');\n",
              "    }\n",
              "    (() => {\n",
              "      let quickchartButtonEl =\n",
              "        document.querySelector('#df-0e0f1bf5-1e65-4c94-9561-f8b3693739c3 button');\n",
              "      quickchartButtonEl.style.display =\n",
              "        google.colab.kernel.accessAllowed ? 'block' : 'none';\n",
              "    })();\n",
              "  </script>\n",
              "</div>\n",
              "\n",
              "    </div>\n",
              "  </div>\n"
            ]
          },
          "metadata": {},
          "execution_count": 225
        }
      ]
    },
    {
      "cell_type": "markdown",
      "source": [
        "# **Q1. What are the data types? (Only numeric and categorical)**"
      ],
      "metadata": {
        "id": "_1e0cfAYea3i"
      }
    },
    {
      "cell_type": "code",
      "source": [
        "df.dtypes"
      ],
      "metadata": {
        "colab": {
          "base_uri": "https://localhost:8080/"
        },
        "id": "G9QYVhpFeUj1",
        "outputId": "dad7663b-1547-42da-cc80-c8ce2dabd43b"
      },
      "execution_count": 226,
      "outputs": [
        {
          "output_type": "execute_result",
          "data": {
            "text/plain": [
              "pizza_id             float64\n",
              "order_id             float64\n",
              "pizza_name_id         object\n",
              "quantity             float64\n",
              "order_date            object\n",
              "order_time            object\n",
              "unit_price           float64\n",
              "total_price          float64\n",
              "pizza_size            object\n",
              "pizza_category        object\n",
              "pizza_ingredients     object\n",
              "pizza_name            object\n",
              "dtype: object"
            ]
          },
          "metadata": {},
          "execution_count": 226
        }
      ]
    },
    {
      "cell_type": "markdown",
      "source": [
        "The dataset contains both categorical and numeric dats types.\n",
        "There are 7 categorical data columns and 5 numerical data columns"
      ],
      "metadata": {
        "id": "xajZyMwQeh8d"
      }
    },
    {
      "cell_type": "markdown",
      "source": [
        "## **Q2. Are there missing values?**"
      ],
      "metadata": {
        "id": "enYErSuCez4B"
      }
    },
    {
      "cell_type": "code",
      "source": [
        "df.isnull().sum()"
      ],
      "metadata": {
        "colab": {
          "base_uri": "https://localhost:8080/"
        },
        "id": "jprH3yKje4Lc",
        "outputId": "2b8bae97-270a-4e90-ad26-d299042f6db2"
      },
      "execution_count": 227,
      "outputs": [
        {
          "output_type": "execute_result",
          "data": {
            "text/plain": [
              "pizza_id             0\n",
              "order_id             0\n",
              "pizza_name_id        0\n",
              "quantity             0\n",
              "order_date           0\n",
              "order_time           0\n",
              "unit_price           0\n",
              "total_price          0\n",
              "pizza_size           0\n",
              "pizza_category       0\n",
              "pizza_ingredients    0\n",
              "pizza_name           0\n",
              "dtype: int64"
            ]
          },
          "metadata": {},
          "execution_count": 227
        }
      ]
    },
    {
      "cell_type": "markdown",
      "source": [
        "The dataset has no null values in any of the columns."
      ],
      "metadata": {
        "id": "l6ruWaswe9FD"
      }
    },
    {
      "cell_type": "markdown",
      "source": [
        "Drop the columns containing IDs"
      ],
      "metadata": {
        "id": "jllfsN3eaJ2-"
      }
    },
    {
      "cell_type": "code",
      "source": [
        "df.drop(['order_id', 'pizza_id'], axis=1, inplace=True)"
      ],
      "metadata": {
        "id": "GPxUQQ8aOG96"
      },
      "execution_count": 139,
      "outputs": []
    },
    {
      "cell_type": "markdown",
      "source": [
        "## **LABEL ENCODING**"
      ],
      "metadata": {
        "id": "dzFrHjFmaQHr"
      }
    },
    {
      "cell_type": "markdown",
      "source": [
        "Label encoding for pizza_size and pizza_column"
      ],
      "metadata": {
        "id": "w9VoOiDAacz3"
      }
    },
    {
      "cell_type": "code",
      "source": [
        "# Create label encoders\n",
        "label_encoder_name = LabelEncoder()\n",
        "label_encoder_size = LabelEncoder()\n",
        "\n",
        "# Fit and transform the label encoders for 'pizza_name' and 'pizza_size'\n",
        "df['pizza_name'] = label_encoder_name.fit_transform(df['pizza_name'])\n",
        "df['pizza_size'] = label_encoder_size.fit_transform(df['pizza_size'])\n",
        "df.head()"
      ],
      "metadata": {
        "colab": {
          "base_uri": "https://localhost:8080/",
          "height": 380
        },
        "id": "4Qb8EltWOJgl",
        "outputId": "d1366816-f669-411c-df60-0298d91bbc66"
      },
      "execution_count": 228,
      "outputs": [
        {
          "output_type": "execute_result",
          "data": {
            "text/plain": [
              "   pizza_id  order_id  pizza_name_id  quantity order_date order_time  \\\n",
              "0       1.0       1.0     hawaiian_m       1.0   1/1/2015   11:38:36   \n",
              "1       2.0       2.0  classic_dlx_m       1.0   1/1/2015   11:57:40   \n",
              "2       3.0       2.0  five_cheese_l       1.0   1/1/2015   11:57:40   \n",
              "3       4.0       2.0    ital_supr_l       1.0   1/1/2015   11:57:40   \n",
              "4       5.0       2.0     mexicana_m       1.0   1/1/2015   11:57:40   \n",
              "\n",
              "   unit_price  total_price  pizza_size pizza_category  \\\n",
              "0       13.25        13.25           1        Classic   \n",
              "1       16.00        16.00           1        Classic   \n",
              "2       18.50        18.50           0         Veggie   \n",
              "3       20.75        20.75           0        Supreme   \n",
              "4       16.00        16.00           1         Veggie   \n",
              "\n",
              "                                   pizza_ingredients  pizza_name  \n",
              "0           Sliced Ham, Pineapple, Mozzarella Cheese          12  \n",
              "1  Pepperoni, Mushrooms, Red Onions, Red Peppers,...           7  \n",
              "2  Mozzarella Cheese, Provolone Cheese, Smoked Go...           8  \n",
              "3  Calabrese Salami, Capocollo, Tomatoes, Red Oni...          14  \n",
              "4  Tomatoes, Red Peppers, Jalapeno Peppers, Red O...          17  "
            ],
            "text/html": [
              "\n",
              "  <div id=\"df-6afedafb-4df6-4136-aec9-8be553104a97\" class=\"colab-df-container\">\n",
              "    <div>\n",
              "<style scoped>\n",
              "    .dataframe tbody tr th:only-of-type {\n",
              "        vertical-align: middle;\n",
              "    }\n",
              "\n",
              "    .dataframe tbody tr th {\n",
              "        vertical-align: top;\n",
              "    }\n",
              "\n",
              "    .dataframe thead th {\n",
              "        text-align: right;\n",
              "    }\n",
              "</style>\n",
              "<table border=\"1\" class=\"dataframe\">\n",
              "  <thead>\n",
              "    <tr style=\"text-align: right;\">\n",
              "      <th></th>\n",
              "      <th>pizza_id</th>\n",
              "      <th>order_id</th>\n",
              "      <th>pizza_name_id</th>\n",
              "      <th>quantity</th>\n",
              "      <th>order_date</th>\n",
              "      <th>order_time</th>\n",
              "      <th>unit_price</th>\n",
              "      <th>total_price</th>\n",
              "      <th>pizza_size</th>\n",
              "      <th>pizza_category</th>\n",
              "      <th>pizza_ingredients</th>\n",
              "      <th>pizza_name</th>\n",
              "    </tr>\n",
              "  </thead>\n",
              "  <tbody>\n",
              "    <tr>\n",
              "      <th>0</th>\n",
              "      <td>1.0</td>\n",
              "      <td>1.0</td>\n",
              "      <td>hawaiian_m</td>\n",
              "      <td>1.0</td>\n",
              "      <td>1/1/2015</td>\n",
              "      <td>11:38:36</td>\n",
              "      <td>13.25</td>\n",
              "      <td>13.25</td>\n",
              "      <td>1</td>\n",
              "      <td>Classic</td>\n",
              "      <td>Sliced Ham, Pineapple, Mozzarella Cheese</td>\n",
              "      <td>12</td>\n",
              "    </tr>\n",
              "    <tr>\n",
              "      <th>1</th>\n",
              "      <td>2.0</td>\n",
              "      <td>2.0</td>\n",
              "      <td>classic_dlx_m</td>\n",
              "      <td>1.0</td>\n",
              "      <td>1/1/2015</td>\n",
              "      <td>11:57:40</td>\n",
              "      <td>16.00</td>\n",
              "      <td>16.00</td>\n",
              "      <td>1</td>\n",
              "      <td>Classic</td>\n",
              "      <td>Pepperoni, Mushrooms, Red Onions, Red Peppers,...</td>\n",
              "      <td>7</td>\n",
              "    </tr>\n",
              "    <tr>\n",
              "      <th>2</th>\n",
              "      <td>3.0</td>\n",
              "      <td>2.0</td>\n",
              "      <td>five_cheese_l</td>\n",
              "      <td>1.0</td>\n",
              "      <td>1/1/2015</td>\n",
              "      <td>11:57:40</td>\n",
              "      <td>18.50</td>\n",
              "      <td>18.50</td>\n",
              "      <td>0</td>\n",
              "      <td>Veggie</td>\n",
              "      <td>Mozzarella Cheese, Provolone Cheese, Smoked Go...</td>\n",
              "      <td>8</td>\n",
              "    </tr>\n",
              "    <tr>\n",
              "      <th>3</th>\n",
              "      <td>4.0</td>\n",
              "      <td>2.0</td>\n",
              "      <td>ital_supr_l</td>\n",
              "      <td>1.0</td>\n",
              "      <td>1/1/2015</td>\n",
              "      <td>11:57:40</td>\n",
              "      <td>20.75</td>\n",
              "      <td>20.75</td>\n",
              "      <td>0</td>\n",
              "      <td>Supreme</td>\n",
              "      <td>Calabrese Salami, Capocollo, Tomatoes, Red Oni...</td>\n",
              "      <td>14</td>\n",
              "    </tr>\n",
              "    <tr>\n",
              "      <th>4</th>\n",
              "      <td>5.0</td>\n",
              "      <td>2.0</td>\n",
              "      <td>mexicana_m</td>\n",
              "      <td>1.0</td>\n",
              "      <td>1/1/2015</td>\n",
              "      <td>11:57:40</td>\n",
              "      <td>16.00</td>\n",
              "      <td>16.00</td>\n",
              "      <td>1</td>\n",
              "      <td>Veggie</td>\n",
              "      <td>Tomatoes, Red Peppers, Jalapeno Peppers, Red O...</td>\n",
              "      <td>17</td>\n",
              "    </tr>\n",
              "  </tbody>\n",
              "</table>\n",
              "</div>\n",
              "    <div class=\"colab-df-buttons\">\n",
              "\n",
              "  <div class=\"colab-df-container\">\n",
              "    <button class=\"colab-df-convert\" onclick=\"convertToInteractive('df-6afedafb-4df6-4136-aec9-8be553104a97')\"\n",
              "            title=\"Convert this dataframe to an interactive table.\"\n",
              "            style=\"display:none;\">\n",
              "\n",
              "  <svg xmlns=\"http://www.w3.org/2000/svg\" height=\"24px\" viewBox=\"0 -960 960 960\">\n",
              "    <path d=\"M120-120v-720h720v720H120Zm60-500h600v-160H180v160Zm220 220h160v-160H400v160Zm0 220h160v-160H400v160ZM180-400h160v-160H180v160Zm440 0h160v-160H620v160ZM180-180h160v-160H180v160Zm440 0h160v-160H620v160Z\"/>\n",
              "  </svg>\n",
              "    </button>\n",
              "\n",
              "  <style>\n",
              "    .colab-df-container {\n",
              "      display:flex;\n",
              "      gap: 12px;\n",
              "    }\n",
              "\n",
              "    .colab-df-convert {\n",
              "      background-color: #E8F0FE;\n",
              "      border: none;\n",
              "      border-radius: 50%;\n",
              "      cursor: pointer;\n",
              "      display: none;\n",
              "      fill: #1967D2;\n",
              "      height: 32px;\n",
              "      padding: 0 0 0 0;\n",
              "      width: 32px;\n",
              "    }\n",
              "\n",
              "    .colab-df-convert:hover {\n",
              "      background-color: #E2EBFA;\n",
              "      box-shadow: 0px 1px 2px rgba(60, 64, 67, 0.3), 0px 1px 3px 1px rgba(60, 64, 67, 0.15);\n",
              "      fill: #174EA6;\n",
              "    }\n",
              "\n",
              "    .colab-df-buttons div {\n",
              "      margin-bottom: 4px;\n",
              "    }\n",
              "\n",
              "    [theme=dark] .colab-df-convert {\n",
              "      background-color: #3B4455;\n",
              "      fill: #D2E3FC;\n",
              "    }\n",
              "\n",
              "    [theme=dark] .colab-df-convert:hover {\n",
              "      background-color: #434B5C;\n",
              "      box-shadow: 0px 1px 3px 1px rgba(0, 0, 0, 0.15);\n",
              "      filter: drop-shadow(0px 1px 2px rgba(0, 0, 0, 0.3));\n",
              "      fill: #FFFFFF;\n",
              "    }\n",
              "  </style>\n",
              "\n",
              "    <script>\n",
              "      const buttonEl =\n",
              "        document.querySelector('#df-6afedafb-4df6-4136-aec9-8be553104a97 button.colab-df-convert');\n",
              "      buttonEl.style.display =\n",
              "        google.colab.kernel.accessAllowed ? 'block' : 'none';\n",
              "\n",
              "      async function convertToInteractive(key) {\n",
              "        const element = document.querySelector('#df-6afedafb-4df6-4136-aec9-8be553104a97');\n",
              "        const dataTable =\n",
              "          await google.colab.kernel.invokeFunction('convertToInteractive',\n",
              "                                                    [key], {});\n",
              "        if (!dataTable) return;\n",
              "\n",
              "        const docLinkHtml = 'Like what you see? Visit the ' +\n",
              "          '<a target=\"_blank\" href=https://colab.research.google.com/notebooks/data_table.ipynb>data table notebook</a>'\n",
              "          + ' to learn more about interactive tables.';\n",
              "        element.innerHTML = '';\n",
              "        dataTable['output_type'] = 'display_data';\n",
              "        await google.colab.output.renderOutput(dataTable, element);\n",
              "        const docLink = document.createElement('div');\n",
              "        docLink.innerHTML = docLinkHtml;\n",
              "        element.appendChild(docLink);\n",
              "      }\n",
              "    </script>\n",
              "  </div>\n",
              "\n",
              "\n",
              "<div id=\"df-8335082d-0db0-424b-97b3-f9159107b307\">\n",
              "  <button class=\"colab-df-quickchart\" onclick=\"quickchart('df-8335082d-0db0-424b-97b3-f9159107b307')\"\n",
              "            title=\"Suggest charts\"\n",
              "            style=\"display:none;\">\n",
              "\n",
              "<svg xmlns=\"http://www.w3.org/2000/svg\" height=\"24px\"viewBox=\"0 0 24 24\"\n",
              "     width=\"24px\">\n",
              "    <g>\n",
              "        <path d=\"M19 3H5c-1.1 0-2 .9-2 2v14c0 1.1.9 2 2 2h14c1.1 0 2-.9 2-2V5c0-1.1-.9-2-2-2zM9 17H7v-7h2v7zm4 0h-2V7h2v10zm4 0h-2v-4h2v4z\"/>\n",
              "    </g>\n",
              "</svg>\n",
              "  </button>\n",
              "\n",
              "<style>\n",
              "  .colab-df-quickchart {\n",
              "      --bg-color: #E8F0FE;\n",
              "      --fill-color: #1967D2;\n",
              "      --hover-bg-color: #E2EBFA;\n",
              "      --hover-fill-color: #174EA6;\n",
              "      --disabled-fill-color: #AAA;\n",
              "      --disabled-bg-color: #DDD;\n",
              "  }\n",
              "\n",
              "  [theme=dark] .colab-df-quickchart {\n",
              "      --bg-color: #3B4455;\n",
              "      --fill-color: #D2E3FC;\n",
              "      --hover-bg-color: #434B5C;\n",
              "      --hover-fill-color: #FFFFFF;\n",
              "      --disabled-bg-color: #3B4455;\n",
              "      --disabled-fill-color: #666;\n",
              "  }\n",
              "\n",
              "  .colab-df-quickchart {\n",
              "    background-color: var(--bg-color);\n",
              "    border: none;\n",
              "    border-radius: 50%;\n",
              "    cursor: pointer;\n",
              "    display: none;\n",
              "    fill: var(--fill-color);\n",
              "    height: 32px;\n",
              "    padding: 0;\n",
              "    width: 32px;\n",
              "  }\n",
              "\n",
              "  .colab-df-quickchart:hover {\n",
              "    background-color: var(--hover-bg-color);\n",
              "    box-shadow: 0 1px 2px rgba(60, 64, 67, 0.3), 0 1px 3px 1px rgba(60, 64, 67, 0.15);\n",
              "    fill: var(--button-hover-fill-color);\n",
              "  }\n",
              "\n",
              "  .colab-df-quickchart-complete:disabled,\n",
              "  .colab-df-quickchart-complete:disabled:hover {\n",
              "    background-color: var(--disabled-bg-color);\n",
              "    fill: var(--disabled-fill-color);\n",
              "    box-shadow: none;\n",
              "  }\n",
              "\n",
              "  .colab-df-spinner {\n",
              "    border: 2px solid var(--fill-color);\n",
              "    border-color: transparent;\n",
              "    border-bottom-color: var(--fill-color);\n",
              "    animation:\n",
              "      spin 1s steps(1) infinite;\n",
              "  }\n",
              "\n",
              "  @keyframes spin {\n",
              "    0% {\n",
              "      border-color: transparent;\n",
              "      border-bottom-color: var(--fill-color);\n",
              "      border-left-color: var(--fill-color);\n",
              "    }\n",
              "    20% {\n",
              "      border-color: transparent;\n",
              "      border-left-color: var(--fill-color);\n",
              "      border-top-color: var(--fill-color);\n",
              "    }\n",
              "    30% {\n",
              "      border-color: transparent;\n",
              "      border-left-color: var(--fill-color);\n",
              "      border-top-color: var(--fill-color);\n",
              "      border-right-color: var(--fill-color);\n",
              "    }\n",
              "    40% {\n",
              "      border-color: transparent;\n",
              "      border-right-color: var(--fill-color);\n",
              "      border-top-color: var(--fill-color);\n",
              "    }\n",
              "    60% {\n",
              "      border-color: transparent;\n",
              "      border-right-color: var(--fill-color);\n",
              "    }\n",
              "    80% {\n",
              "      border-color: transparent;\n",
              "      border-right-color: var(--fill-color);\n",
              "      border-bottom-color: var(--fill-color);\n",
              "    }\n",
              "    90% {\n",
              "      border-color: transparent;\n",
              "      border-bottom-color: var(--fill-color);\n",
              "    }\n",
              "  }\n",
              "</style>\n",
              "\n",
              "  <script>\n",
              "    async function quickchart(key) {\n",
              "      const quickchartButtonEl =\n",
              "        document.querySelector('#' + key + ' button');\n",
              "      quickchartButtonEl.disabled = true;  // To prevent multiple clicks.\n",
              "      quickchartButtonEl.classList.add('colab-df-spinner');\n",
              "      try {\n",
              "        const charts = await google.colab.kernel.invokeFunction(\n",
              "            'suggestCharts', [key], {});\n",
              "      } catch (error) {\n",
              "        console.error('Error during call to suggestCharts:', error);\n",
              "      }\n",
              "      quickchartButtonEl.classList.remove('colab-df-spinner');\n",
              "      quickchartButtonEl.classList.add('colab-df-quickchart-complete');\n",
              "    }\n",
              "    (() => {\n",
              "      let quickchartButtonEl =\n",
              "        document.querySelector('#df-8335082d-0db0-424b-97b3-f9159107b307 button');\n",
              "      quickchartButtonEl.style.display =\n",
              "        google.colab.kernel.accessAllowed ? 'block' : 'none';\n",
              "    })();\n",
              "  </script>\n",
              "</div>\n",
              "\n",
              "    </div>\n",
              "  </div>\n"
            ]
          },
          "metadata": {},
          "execution_count": 228
        }
      ]
    },
    {
      "cell_type": "markdown",
      "source": [
        "Label encoding for pizza_name_id by grouping pizza_name and pizza_size column"
      ],
      "metadata": {
        "id": "IKHTcj4oakQ_"
      }
    },
    {
      "cell_type": "code",
      "source": [
        "df['pizza_name_id'] = df['pizza_name'] * 100 + df['pizza_size']\n",
        "df.head()"
      ],
      "metadata": {
        "colab": {
          "base_uri": "https://localhost:8080/",
          "height": 380
        },
        "id": "CdGMAHf_OMvT",
        "outputId": "e86a4c16-23d9-4297-b991-248f8c05cef9"
      },
      "execution_count": 229,
      "outputs": [
        {
          "output_type": "execute_result",
          "data": {
            "text/plain": [
              "   pizza_id  order_id  pizza_name_id  quantity order_date order_time  \\\n",
              "0       1.0       1.0           1201       1.0   1/1/2015   11:38:36   \n",
              "1       2.0       2.0            701       1.0   1/1/2015   11:57:40   \n",
              "2       3.0       2.0            800       1.0   1/1/2015   11:57:40   \n",
              "3       4.0       2.0           1400       1.0   1/1/2015   11:57:40   \n",
              "4       5.0       2.0           1701       1.0   1/1/2015   11:57:40   \n",
              "\n",
              "   unit_price  total_price  pizza_size pizza_category  \\\n",
              "0       13.25        13.25           1        Classic   \n",
              "1       16.00        16.00           1        Classic   \n",
              "2       18.50        18.50           0         Veggie   \n",
              "3       20.75        20.75           0        Supreme   \n",
              "4       16.00        16.00           1         Veggie   \n",
              "\n",
              "                                   pizza_ingredients  pizza_name  \n",
              "0           Sliced Ham, Pineapple, Mozzarella Cheese          12  \n",
              "1  Pepperoni, Mushrooms, Red Onions, Red Peppers,...           7  \n",
              "2  Mozzarella Cheese, Provolone Cheese, Smoked Go...           8  \n",
              "3  Calabrese Salami, Capocollo, Tomatoes, Red Oni...          14  \n",
              "4  Tomatoes, Red Peppers, Jalapeno Peppers, Red O...          17  "
            ],
            "text/html": [
              "\n",
              "  <div id=\"df-a4bf2992-cb3d-4888-b289-bb9f3f78dd0d\" class=\"colab-df-container\">\n",
              "    <div>\n",
              "<style scoped>\n",
              "    .dataframe tbody tr th:only-of-type {\n",
              "        vertical-align: middle;\n",
              "    }\n",
              "\n",
              "    .dataframe tbody tr th {\n",
              "        vertical-align: top;\n",
              "    }\n",
              "\n",
              "    .dataframe thead th {\n",
              "        text-align: right;\n",
              "    }\n",
              "</style>\n",
              "<table border=\"1\" class=\"dataframe\">\n",
              "  <thead>\n",
              "    <tr style=\"text-align: right;\">\n",
              "      <th></th>\n",
              "      <th>pizza_id</th>\n",
              "      <th>order_id</th>\n",
              "      <th>pizza_name_id</th>\n",
              "      <th>quantity</th>\n",
              "      <th>order_date</th>\n",
              "      <th>order_time</th>\n",
              "      <th>unit_price</th>\n",
              "      <th>total_price</th>\n",
              "      <th>pizza_size</th>\n",
              "      <th>pizza_category</th>\n",
              "      <th>pizza_ingredients</th>\n",
              "      <th>pizza_name</th>\n",
              "    </tr>\n",
              "  </thead>\n",
              "  <tbody>\n",
              "    <tr>\n",
              "      <th>0</th>\n",
              "      <td>1.0</td>\n",
              "      <td>1.0</td>\n",
              "      <td>1201</td>\n",
              "      <td>1.0</td>\n",
              "      <td>1/1/2015</td>\n",
              "      <td>11:38:36</td>\n",
              "      <td>13.25</td>\n",
              "      <td>13.25</td>\n",
              "      <td>1</td>\n",
              "      <td>Classic</td>\n",
              "      <td>Sliced Ham, Pineapple, Mozzarella Cheese</td>\n",
              "      <td>12</td>\n",
              "    </tr>\n",
              "    <tr>\n",
              "      <th>1</th>\n",
              "      <td>2.0</td>\n",
              "      <td>2.0</td>\n",
              "      <td>701</td>\n",
              "      <td>1.0</td>\n",
              "      <td>1/1/2015</td>\n",
              "      <td>11:57:40</td>\n",
              "      <td>16.00</td>\n",
              "      <td>16.00</td>\n",
              "      <td>1</td>\n",
              "      <td>Classic</td>\n",
              "      <td>Pepperoni, Mushrooms, Red Onions, Red Peppers,...</td>\n",
              "      <td>7</td>\n",
              "    </tr>\n",
              "    <tr>\n",
              "      <th>2</th>\n",
              "      <td>3.0</td>\n",
              "      <td>2.0</td>\n",
              "      <td>800</td>\n",
              "      <td>1.0</td>\n",
              "      <td>1/1/2015</td>\n",
              "      <td>11:57:40</td>\n",
              "      <td>18.50</td>\n",
              "      <td>18.50</td>\n",
              "      <td>0</td>\n",
              "      <td>Veggie</td>\n",
              "      <td>Mozzarella Cheese, Provolone Cheese, Smoked Go...</td>\n",
              "      <td>8</td>\n",
              "    </tr>\n",
              "    <tr>\n",
              "      <th>3</th>\n",
              "      <td>4.0</td>\n",
              "      <td>2.0</td>\n",
              "      <td>1400</td>\n",
              "      <td>1.0</td>\n",
              "      <td>1/1/2015</td>\n",
              "      <td>11:57:40</td>\n",
              "      <td>20.75</td>\n",
              "      <td>20.75</td>\n",
              "      <td>0</td>\n",
              "      <td>Supreme</td>\n",
              "      <td>Calabrese Salami, Capocollo, Tomatoes, Red Oni...</td>\n",
              "      <td>14</td>\n",
              "    </tr>\n",
              "    <tr>\n",
              "      <th>4</th>\n",
              "      <td>5.0</td>\n",
              "      <td>2.0</td>\n",
              "      <td>1701</td>\n",
              "      <td>1.0</td>\n",
              "      <td>1/1/2015</td>\n",
              "      <td>11:57:40</td>\n",
              "      <td>16.00</td>\n",
              "      <td>16.00</td>\n",
              "      <td>1</td>\n",
              "      <td>Veggie</td>\n",
              "      <td>Tomatoes, Red Peppers, Jalapeno Peppers, Red O...</td>\n",
              "      <td>17</td>\n",
              "    </tr>\n",
              "  </tbody>\n",
              "</table>\n",
              "</div>\n",
              "    <div class=\"colab-df-buttons\">\n",
              "\n",
              "  <div class=\"colab-df-container\">\n",
              "    <button class=\"colab-df-convert\" onclick=\"convertToInteractive('df-a4bf2992-cb3d-4888-b289-bb9f3f78dd0d')\"\n",
              "            title=\"Convert this dataframe to an interactive table.\"\n",
              "            style=\"display:none;\">\n",
              "\n",
              "  <svg xmlns=\"http://www.w3.org/2000/svg\" height=\"24px\" viewBox=\"0 -960 960 960\">\n",
              "    <path d=\"M120-120v-720h720v720H120Zm60-500h600v-160H180v160Zm220 220h160v-160H400v160Zm0 220h160v-160H400v160ZM180-400h160v-160H180v160Zm440 0h160v-160H620v160ZM180-180h160v-160H180v160Zm440 0h160v-160H620v160Z\"/>\n",
              "  </svg>\n",
              "    </button>\n",
              "\n",
              "  <style>\n",
              "    .colab-df-container {\n",
              "      display:flex;\n",
              "      gap: 12px;\n",
              "    }\n",
              "\n",
              "    .colab-df-convert {\n",
              "      background-color: #E8F0FE;\n",
              "      border: none;\n",
              "      border-radius: 50%;\n",
              "      cursor: pointer;\n",
              "      display: none;\n",
              "      fill: #1967D2;\n",
              "      height: 32px;\n",
              "      padding: 0 0 0 0;\n",
              "      width: 32px;\n",
              "    }\n",
              "\n",
              "    .colab-df-convert:hover {\n",
              "      background-color: #E2EBFA;\n",
              "      box-shadow: 0px 1px 2px rgba(60, 64, 67, 0.3), 0px 1px 3px 1px rgba(60, 64, 67, 0.15);\n",
              "      fill: #174EA6;\n",
              "    }\n",
              "\n",
              "    .colab-df-buttons div {\n",
              "      margin-bottom: 4px;\n",
              "    }\n",
              "\n",
              "    [theme=dark] .colab-df-convert {\n",
              "      background-color: #3B4455;\n",
              "      fill: #D2E3FC;\n",
              "    }\n",
              "\n",
              "    [theme=dark] .colab-df-convert:hover {\n",
              "      background-color: #434B5C;\n",
              "      box-shadow: 0px 1px 3px 1px rgba(0, 0, 0, 0.15);\n",
              "      filter: drop-shadow(0px 1px 2px rgba(0, 0, 0, 0.3));\n",
              "      fill: #FFFFFF;\n",
              "    }\n",
              "  </style>\n",
              "\n",
              "    <script>\n",
              "      const buttonEl =\n",
              "        document.querySelector('#df-a4bf2992-cb3d-4888-b289-bb9f3f78dd0d button.colab-df-convert');\n",
              "      buttonEl.style.display =\n",
              "        google.colab.kernel.accessAllowed ? 'block' : 'none';\n",
              "\n",
              "      async function convertToInteractive(key) {\n",
              "        const element = document.querySelector('#df-a4bf2992-cb3d-4888-b289-bb9f3f78dd0d');\n",
              "        const dataTable =\n",
              "          await google.colab.kernel.invokeFunction('convertToInteractive',\n",
              "                                                    [key], {});\n",
              "        if (!dataTable) return;\n",
              "\n",
              "        const docLinkHtml = 'Like what you see? Visit the ' +\n",
              "          '<a target=\"_blank\" href=https://colab.research.google.com/notebooks/data_table.ipynb>data table notebook</a>'\n",
              "          + ' to learn more about interactive tables.';\n",
              "        element.innerHTML = '';\n",
              "        dataTable['output_type'] = 'display_data';\n",
              "        await google.colab.output.renderOutput(dataTable, element);\n",
              "        const docLink = document.createElement('div');\n",
              "        docLink.innerHTML = docLinkHtml;\n",
              "        element.appendChild(docLink);\n",
              "      }\n",
              "    </script>\n",
              "  </div>\n",
              "\n",
              "\n",
              "<div id=\"df-bf079032-7618-4312-bc04-52d1af9fd680\">\n",
              "  <button class=\"colab-df-quickchart\" onclick=\"quickchart('df-bf079032-7618-4312-bc04-52d1af9fd680')\"\n",
              "            title=\"Suggest charts\"\n",
              "            style=\"display:none;\">\n",
              "\n",
              "<svg xmlns=\"http://www.w3.org/2000/svg\" height=\"24px\"viewBox=\"0 0 24 24\"\n",
              "     width=\"24px\">\n",
              "    <g>\n",
              "        <path d=\"M19 3H5c-1.1 0-2 .9-2 2v14c0 1.1.9 2 2 2h14c1.1 0 2-.9 2-2V5c0-1.1-.9-2-2-2zM9 17H7v-7h2v7zm4 0h-2V7h2v10zm4 0h-2v-4h2v4z\"/>\n",
              "    </g>\n",
              "</svg>\n",
              "  </button>\n",
              "\n",
              "<style>\n",
              "  .colab-df-quickchart {\n",
              "      --bg-color: #E8F0FE;\n",
              "      --fill-color: #1967D2;\n",
              "      --hover-bg-color: #E2EBFA;\n",
              "      --hover-fill-color: #174EA6;\n",
              "      --disabled-fill-color: #AAA;\n",
              "      --disabled-bg-color: #DDD;\n",
              "  }\n",
              "\n",
              "  [theme=dark] .colab-df-quickchart {\n",
              "      --bg-color: #3B4455;\n",
              "      --fill-color: #D2E3FC;\n",
              "      --hover-bg-color: #434B5C;\n",
              "      --hover-fill-color: #FFFFFF;\n",
              "      --disabled-bg-color: #3B4455;\n",
              "      --disabled-fill-color: #666;\n",
              "  }\n",
              "\n",
              "  .colab-df-quickchart {\n",
              "    background-color: var(--bg-color);\n",
              "    border: none;\n",
              "    border-radius: 50%;\n",
              "    cursor: pointer;\n",
              "    display: none;\n",
              "    fill: var(--fill-color);\n",
              "    height: 32px;\n",
              "    padding: 0;\n",
              "    width: 32px;\n",
              "  }\n",
              "\n",
              "  .colab-df-quickchart:hover {\n",
              "    background-color: var(--hover-bg-color);\n",
              "    box-shadow: 0 1px 2px rgba(60, 64, 67, 0.3), 0 1px 3px 1px rgba(60, 64, 67, 0.15);\n",
              "    fill: var(--button-hover-fill-color);\n",
              "  }\n",
              "\n",
              "  .colab-df-quickchart-complete:disabled,\n",
              "  .colab-df-quickchart-complete:disabled:hover {\n",
              "    background-color: var(--disabled-bg-color);\n",
              "    fill: var(--disabled-fill-color);\n",
              "    box-shadow: none;\n",
              "  }\n",
              "\n",
              "  .colab-df-spinner {\n",
              "    border: 2px solid var(--fill-color);\n",
              "    border-color: transparent;\n",
              "    border-bottom-color: var(--fill-color);\n",
              "    animation:\n",
              "      spin 1s steps(1) infinite;\n",
              "  }\n",
              "\n",
              "  @keyframes spin {\n",
              "    0% {\n",
              "      border-color: transparent;\n",
              "      border-bottom-color: var(--fill-color);\n",
              "      border-left-color: var(--fill-color);\n",
              "    }\n",
              "    20% {\n",
              "      border-color: transparent;\n",
              "      border-left-color: var(--fill-color);\n",
              "      border-top-color: var(--fill-color);\n",
              "    }\n",
              "    30% {\n",
              "      border-color: transparent;\n",
              "      border-left-color: var(--fill-color);\n",
              "      border-top-color: var(--fill-color);\n",
              "      border-right-color: var(--fill-color);\n",
              "    }\n",
              "    40% {\n",
              "      border-color: transparent;\n",
              "      border-right-color: var(--fill-color);\n",
              "      border-top-color: var(--fill-color);\n",
              "    }\n",
              "    60% {\n",
              "      border-color: transparent;\n",
              "      border-right-color: var(--fill-color);\n",
              "    }\n",
              "    80% {\n",
              "      border-color: transparent;\n",
              "      border-right-color: var(--fill-color);\n",
              "      border-bottom-color: var(--fill-color);\n",
              "    }\n",
              "    90% {\n",
              "      border-color: transparent;\n",
              "      border-bottom-color: var(--fill-color);\n",
              "    }\n",
              "  }\n",
              "</style>\n",
              "\n",
              "  <script>\n",
              "    async function quickchart(key) {\n",
              "      const quickchartButtonEl =\n",
              "        document.querySelector('#' + key + ' button');\n",
              "      quickchartButtonEl.disabled = true;  // To prevent multiple clicks.\n",
              "      quickchartButtonEl.classList.add('colab-df-spinner');\n",
              "      try {\n",
              "        const charts = await google.colab.kernel.invokeFunction(\n",
              "            'suggestCharts', [key], {});\n",
              "      } catch (error) {\n",
              "        console.error('Error during call to suggestCharts:', error);\n",
              "      }\n",
              "      quickchartButtonEl.classList.remove('colab-df-spinner');\n",
              "      quickchartButtonEl.classList.add('colab-df-quickchart-complete');\n",
              "    }\n",
              "    (() => {\n",
              "      let quickchartButtonEl =\n",
              "        document.querySelector('#df-bf079032-7618-4312-bc04-52d1af9fd680 button');\n",
              "      quickchartButtonEl.style.display =\n",
              "        google.colab.kernel.accessAllowed ? 'block' : 'none';\n",
              "    })();\n",
              "  </script>\n",
              "</div>\n",
              "\n",
              "    </div>\n",
              "  </div>\n"
            ]
          },
          "metadata": {},
          "execution_count": 229
        }
      ]
    },
    {
      "cell_type": "markdown",
      "source": [
        "Converting order_date and order_time column"
      ],
      "metadata": {
        "id": "5T_-0mBXatmk"
      }
    },
    {
      "cell_type": "code",
      "source": [
        "# Convert 'order_date' to datetime and replace values in the same column\n",
        "df['order_date'] = pd.to_datetime(df['order_date'], errors='coerce', dayfirst=True)\n",
        "\n",
        "# Extract the hour from 'order_time' and replace values in the same column\n",
        "df['order_time'] = pd.to_datetime(df['order_time'], format='%H:%M:%S').dt.strftime('%H')\n",
        "\n",
        "# Create 'order_date' column and replace values in the same 'order_date' column\n",
        "df['order_date'] = df['order_date'].dt.day_name()\n",
        "df.head()"
      ],
      "metadata": {
        "colab": {
          "base_uri": "https://localhost:8080/",
          "height": 380
        },
        "id": "M70PmYbZOQNb",
        "outputId": "2d3aaf0e-f6a4-45c8-a1b4-6d231e43f8f5"
      },
      "execution_count": 230,
      "outputs": [
        {
          "output_type": "execute_result",
          "data": {
            "text/plain": [
              "   pizza_id  order_id  pizza_name_id  quantity order_date order_time  \\\n",
              "0       1.0       1.0           1201       1.0   Thursday         11   \n",
              "1       2.0       2.0            701       1.0   Thursday         11   \n",
              "2       3.0       2.0            800       1.0   Thursday         11   \n",
              "3       4.0       2.0           1400       1.0   Thursday         11   \n",
              "4       5.0       2.0           1701       1.0   Thursday         11   \n",
              "\n",
              "   unit_price  total_price  pizza_size pizza_category  \\\n",
              "0       13.25        13.25           1        Classic   \n",
              "1       16.00        16.00           1        Classic   \n",
              "2       18.50        18.50           0         Veggie   \n",
              "3       20.75        20.75           0        Supreme   \n",
              "4       16.00        16.00           1         Veggie   \n",
              "\n",
              "                                   pizza_ingredients  pizza_name  \n",
              "0           Sliced Ham, Pineapple, Mozzarella Cheese          12  \n",
              "1  Pepperoni, Mushrooms, Red Onions, Red Peppers,...           7  \n",
              "2  Mozzarella Cheese, Provolone Cheese, Smoked Go...           8  \n",
              "3  Calabrese Salami, Capocollo, Tomatoes, Red Oni...          14  \n",
              "4  Tomatoes, Red Peppers, Jalapeno Peppers, Red O...          17  "
            ],
            "text/html": [
              "\n",
              "  <div id=\"df-4447dc03-9283-4371-8359-3908a909b399\" class=\"colab-df-container\">\n",
              "    <div>\n",
              "<style scoped>\n",
              "    .dataframe tbody tr th:only-of-type {\n",
              "        vertical-align: middle;\n",
              "    }\n",
              "\n",
              "    .dataframe tbody tr th {\n",
              "        vertical-align: top;\n",
              "    }\n",
              "\n",
              "    .dataframe thead th {\n",
              "        text-align: right;\n",
              "    }\n",
              "</style>\n",
              "<table border=\"1\" class=\"dataframe\">\n",
              "  <thead>\n",
              "    <tr style=\"text-align: right;\">\n",
              "      <th></th>\n",
              "      <th>pizza_id</th>\n",
              "      <th>order_id</th>\n",
              "      <th>pizza_name_id</th>\n",
              "      <th>quantity</th>\n",
              "      <th>order_date</th>\n",
              "      <th>order_time</th>\n",
              "      <th>unit_price</th>\n",
              "      <th>total_price</th>\n",
              "      <th>pizza_size</th>\n",
              "      <th>pizza_category</th>\n",
              "      <th>pizza_ingredients</th>\n",
              "      <th>pizza_name</th>\n",
              "    </tr>\n",
              "  </thead>\n",
              "  <tbody>\n",
              "    <tr>\n",
              "      <th>0</th>\n",
              "      <td>1.0</td>\n",
              "      <td>1.0</td>\n",
              "      <td>1201</td>\n",
              "      <td>1.0</td>\n",
              "      <td>Thursday</td>\n",
              "      <td>11</td>\n",
              "      <td>13.25</td>\n",
              "      <td>13.25</td>\n",
              "      <td>1</td>\n",
              "      <td>Classic</td>\n",
              "      <td>Sliced Ham, Pineapple, Mozzarella Cheese</td>\n",
              "      <td>12</td>\n",
              "    </tr>\n",
              "    <tr>\n",
              "      <th>1</th>\n",
              "      <td>2.0</td>\n",
              "      <td>2.0</td>\n",
              "      <td>701</td>\n",
              "      <td>1.0</td>\n",
              "      <td>Thursday</td>\n",
              "      <td>11</td>\n",
              "      <td>16.00</td>\n",
              "      <td>16.00</td>\n",
              "      <td>1</td>\n",
              "      <td>Classic</td>\n",
              "      <td>Pepperoni, Mushrooms, Red Onions, Red Peppers,...</td>\n",
              "      <td>7</td>\n",
              "    </tr>\n",
              "    <tr>\n",
              "      <th>2</th>\n",
              "      <td>3.0</td>\n",
              "      <td>2.0</td>\n",
              "      <td>800</td>\n",
              "      <td>1.0</td>\n",
              "      <td>Thursday</td>\n",
              "      <td>11</td>\n",
              "      <td>18.50</td>\n",
              "      <td>18.50</td>\n",
              "      <td>0</td>\n",
              "      <td>Veggie</td>\n",
              "      <td>Mozzarella Cheese, Provolone Cheese, Smoked Go...</td>\n",
              "      <td>8</td>\n",
              "    </tr>\n",
              "    <tr>\n",
              "      <th>3</th>\n",
              "      <td>4.0</td>\n",
              "      <td>2.0</td>\n",
              "      <td>1400</td>\n",
              "      <td>1.0</td>\n",
              "      <td>Thursday</td>\n",
              "      <td>11</td>\n",
              "      <td>20.75</td>\n",
              "      <td>20.75</td>\n",
              "      <td>0</td>\n",
              "      <td>Supreme</td>\n",
              "      <td>Calabrese Salami, Capocollo, Tomatoes, Red Oni...</td>\n",
              "      <td>14</td>\n",
              "    </tr>\n",
              "    <tr>\n",
              "      <th>4</th>\n",
              "      <td>5.0</td>\n",
              "      <td>2.0</td>\n",
              "      <td>1701</td>\n",
              "      <td>1.0</td>\n",
              "      <td>Thursday</td>\n",
              "      <td>11</td>\n",
              "      <td>16.00</td>\n",
              "      <td>16.00</td>\n",
              "      <td>1</td>\n",
              "      <td>Veggie</td>\n",
              "      <td>Tomatoes, Red Peppers, Jalapeno Peppers, Red O...</td>\n",
              "      <td>17</td>\n",
              "    </tr>\n",
              "  </tbody>\n",
              "</table>\n",
              "</div>\n",
              "    <div class=\"colab-df-buttons\">\n",
              "\n",
              "  <div class=\"colab-df-container\">\n",
              "    <button class=\"colab-df-convert\" onclick=\"convertToInteractive('df-4447dc03-9283-4371-8359-3908a909b399')\"\n",
              "            title=\"Convert this dataframe to an interactive table.\"\n",
              "            style=\"display:none;\">\n",
              "\n",
              "  <svg xmlns=\"http://www.w3.org/2000/svg\" height=\"24px\" viewBox=\"0 -960 960 960\">\n",
              "    <path d=\"M120-120v-720h720v720H120Zm60-500h600v-160H180v160Zm220 220h160v-160H400v160Zm0 220h160v-160H400v160ZM180-400h160v-160H180v160Zm440 0h160v-160H620v160ZM180-180h160v-160H180v160Zm440 0h160v-160H620v160Z\"/>\n",
              "  </svg>\n",
              "    </button>\n",
              "\n",
              "  <style>\n",
              "    .colab-df-container {\n",
              "      display:flex;\n",
              "      gap: 12px;\n",
              "    }\n",
              "\n",
              "    .colab-df-convert {\n",
              "      background-color: #E8F0FE;\n",
              "      border: none;\n",
              "      border-radius: 50%;\n",
              "      cursor: pointer;\n",
              "      display: none;\n",
              "      fill: #1967D2;\n",
              "      height: 32px;\n",
              "      padding: 0 0 0 0;\n",
              "      width: 32px;\n",
              "    }\n",
              "\n",
              "    .colab-df-convert:hover {\n",
              "      background-color: #E2EBFA;\n",
              "      box-shadow: 0px 1px 2px rgba(60, 64, 67, 0.3), 0px 1px 3px 1px rgba(60, 64, 67, 0.15);\n",
              "      fill: #174EA6;\n",
              "    }\n",
              "\n",
              "    .colab-df-buttons div {\n",
              "      margin-bottom: 4px;\n",
              "    }\n",
              "\n",
              "    [theme=dark] .colab-df-convert {\n",
              "      background-color: #3B4455;\n",
              "      fill: #D2E3FC;\n",
              "    }\n",
              "\n",
              "    [theme=dark] .colab-df-convert:hover {\n",
              "      background-color: #434B5C;\n",
              "      box-shadow: 0px 1px 3px 1px rgba(0, 0, 0, 0.15);\n",
              "      filter: drop-shadow(0px 1px 2px rgba(0, 0, 0, 0.3));\n",
              "      fill: #FFFFFF;\n",
              "    }\n",
              "  </style>\n",
              "\n",
              "    <script>\n",
              "      const buttonEl =\n",
              "        document.querySelector('#df-4447dc03-9283-4371-8359-3908a909b399 button.colab-df-convert');\n",
              "      buttonEl.style.display =\n",
              "        google.colab.kernel.accessAllowed ? 'block' : 'none';\n",
              "\n",
              "      async function convertToInteractive(key) {\n",
              "        const element = document.querySelector('#df-4447dc03-9283-4371-8359-3908a909b399');\n",
              "        const dataTable =\n",
              "          await google.colab.kernel.invokeFunction('convertToInteractive',\n",
              "                                                    [key], {});\n",
              "        if (!dataTable) return;\n",
              "\n",
              "        const docLinkHtml = 'Like what you see? Visit the ' +\n",
              "          '<a target=\"_blank\" href=https://colab.research.google.com/notebooks/data_table.ipynb>data table notebook</a>'\n",
              "          + ' to learn more about interactive tables.';\n",
              "        element.innerHTML = '';\n",
              "        dataTable['output_type'] = 'display_data';\n",
              "        await google.colab.output.renderOutput(dataTable, element);\n",
              "        const docLink = document.createElement('div');\n",
              "        docLink.innerHTML = docLinkHtml;\n",
              "        element.appendChild(docLink);\n",
              "      }\n",
              "    </script>\n",
              "  </div>\n",
              "\n",
              "\n",
              "<div id=\"df-4b0a8e3e-7ddc-42e6-b0fa-c67dbe787c89\">\n",
              "  <button class=\"colab-df-quickchart\" onclick=\"quickchart('df-4b0a8e3e-7ddc-42e6-b0fa-c67dbe787c89')\"\n",
              "            title=\"Suggest charts\"\n",
              "            style=\"display:none;\">\n",
              "\n",
              "<svg xmlns=\"http://www.w3.org/2000/svg\" height=\"24px\"viewBox=\"0 0 24 24\"\n",
              "     width=\"24px\">\n",
              "    <g>\n",
              "        <path d=\"M19 3H5c-1.1 0-2 .9-2 2v14c0 1.1.9 2 2 2h14c1.1 0 2-.9 2-2V5c0-1.1-.9-2-2-2zM9 17H7v-7h2v7zm4 0h-2V7h2v10zm4 0h-2v-4h2v4z\"/>\n",
              "    </g>\n",
              "</svg>\n",
              "  </button>\n",
              "\n",
              "<style>\n",
              "  .colab-df-quickchart {\n",
              "      --bg-color: #E8F0FE;\n",
              "      --fill-color: #1967D2;\n",
              "      --hover-bg-color: #E2EBFA;\n",
              "      --hover-fill-color: #174EA6;\n",
              "      --disabled-fill-color: #AAA;\n",
              "      --disabled-bg-color: #DDD;\n",
              "  }\n",
              "\n",
              "  [theme=dark] .colab-df-quickchart {\n",
              "      --bg-color: #3B4455;\n",
              "      --fill-color: #D2E3FC;\n",
              "      --hover-bg-color: #434B5C;\n",
              "      --hover-fill-color: #FFFFFF;\n",
              "      --disabled-bg-color: #3B4455;\n",
              "      --disabled-fill-color: #666;\n",
              "  }\n",
              "\n",
              "  .colab-df-quickchart {\n",
              "    background-color: var(--bg-color);\n",
              "    border: none;\n",
              "    border-radius: 50%;\n",
              "    cursor: pointer;\n",
              "    display: none;\n",
              "    fill: var(--fill-color);\n",
              "    height: 32px;\n",
              "    padding: 0;\n",
              "    width: 32px;\n",
              "  }\n",
              "\n",
              "  .colab-df-quickchart:hover {\n",
              "    background-color: var(--hover-bg-color);\n",
              "    box-shadow: 0 1px 2px rgba(60, 64, 67, 0.3), 0 1px 3px 1px rgba(60, 64, 67, 0.15);\n",
              "    fill: var(--button-hover-fill-color);\n",
              "  }\n",
              "\n",
              "  .colab-df-quickchart-complete:disabled,\n",
              "  .colab-df-quickchart-complete:disabled:hover {\n",
              "    background-color: var(--disabled-bg-color);\n",
              "    fill: var(--disabled-fill-color);\n",
              "    box-shadow: none;\n",
              "  }\n",
              "\n",
              "  .colab-df-spinner {\n",
              "    border: 2px solid var(--fill-color);\n",
              "    border-color: transparent;\n",
              "    border-bottom-color: var(--fill-color);\n",
              "    animation:\n",
              "      spin 1s steps(1) infinite;\n",
              "  }\n",
              "\n",
              "  @keyframes spin {\n",
              "    0% {\n",
              "      border-color: transparent;\n",
              "      border-bottom-color: var(--fill-color);\n",
              "      border-left-color: var(--fill-color);\n",
              "    }\n",
              "    20% {\n",
              "      border-color: transparent;\n",
              "      border-left-color: var(--fill-color);\n",
              "      border-top-color: var(--fill-color);\n",
              "    }\n",
              "    30% {\n",
              "      border-color: transparent;\n",
              "      border-left-color: var(--fill-color);\n",
              "      border-top-color: var(--fill-color);\n",
              "      border-right-color: var(--fill-color);\n",
              "    }\n",
              "    40% {\n",
              "      border-color: transparent;\n",
              "      border-right-color: var(--fill-color);\n",
              "      border-top-color: var(--fill-color);\n",
              "    }\n",
              "    60% {\n",
              "      border-color: transparent;\n",
              "      border-right-color: var(--fill-color);\n",
              "    }\n",
              "    80% {\n",
              "      border-color: transparent;\n",
              "      border-right-color: var(--fill-color);\n",
              "      border-bottom-color: var(--fill-color);\n",
              "    }\n",
              "    90% {\n",
              "      border-color: transparent;\n",
              "      border-bottom-color: var(--fill-color);\n",
              "    }\n",
              "  }\n",
              "</style>\n",
              "\n",
              "  <script>\n",
              "    async function quickchart(key) {\n",
              "      const quickchartButtonEl =\n",
              "        document.querySelector('#' + key + ' button');\n",
              "      quickchartButtonEl.disabled = true;  // To prevent multiple clicks.\n",
              "      quickchartButtonEl.classList.add('colab-df-spinner');\n",
              "      try {\n",
              "        const charts = await google.colab.kernel.invokeFunction(\n",
              "            'suggestCharts', [key], {});\n",
              "      } catch (error) {\n",
              "        console.error('Error during call to suggestCharts:', error);\n",
              "      }\n",
              "      quickchartButtonEl.classList.remove('colab-df-spinner');\n",
              "      quickchartButtonEl.classList.add('colab-df-quickchart-complete');\n",
              "    }\n",
              "    (() => {\n",
              "      let quickchartButtonEl =\n",
              "        document.querySelector('#df-4b0a8e3e-7ddc-42e6-b0fa-c67dbe787c89 button');\n",
              "      quickchartButtonEl.style.display =\n",
              "        google.colab.kernel.accessAllowed ? 'block' : 'none';\n",
              "    })();\n",
              "  </script>\n",
              "</div>\n",
              "\n",
              "    </div>\n",
              "  </div>\n"
            ]
          },
          "metadata": {},
          "execution_count": 230
        }
      ]
    },
    {
      "cell_type": "markdown",
      "source": [
        "Calculating the frequency of each ingredient in the 'pizza_ingredients' column and mapping the frequency of the ingridients"
      ],
      "metadata": {
        "id": "qF2u9Nama4u2"
      }
    },
    {
      "cell_type": "code",
      "source": [
        "# Calculate the frequency of each ingredient in the 'pizza_ingredients' column\n",
        "ingredient_freq = df['pizza_ingredients'].value_counts().to_dict()\n",
        "\n",
        "# Map the frequencies to the 'pizza_ingredients' column\n",
        "df['pizza_ingredients'] = df['pizza_ingredients'].map(ingredient_freq)\n",
        "df.head()"
      ],
      "metadata": {
        "colab": {
          "base_uri": "https://localhost:8080/",
          "height": 206
        },
        "id": "lJZaHLFwOTHV",
        "outputId": "e8436227-2308-4e86-ee7a-e03a663b87d5"
      },
      "execution_count": 231,
      "outputs": [
        {
          "output_type": "execute_result",
          "data": {
            "text/plain": [
              "   pizza_id  order_id  pizza_name_id  quantity order_date order_time  \\\n",
              "0       1.0       1.0           1201       1.0   Thursday         11   \n",
              "1       2.0       2.0            701       1.0   Thursday         11   \n",
              "2       3.0       2.0            800       1.0   Thursday         11   \n",
              "3       4.0       2.0           1400       1.0   Thursday         11   \n",
              "4       5.0       2.0           1701       1.0   Thursday         11   \n",
              "\n",
              "   unit_price  total_price  pizza_size pizza_category  pizza_ingredients  \\\n",
              "0       13.25        13.25           1        Classic               2370   \n",
              "1       16.00        16.00           1        Classic               2416   \n",
              "2       18.50        18.50           0         Veggie               1359   \n",
              "3       20.75        20.75           0        Supreme               1849   \n",
              "4       16.00        16.00           1         Veggie               1456   \n",
              "\n",
              "   pizza_name  \n",
              "0          12  \n",
              "1           7  \n",
              "2           8  \n",
              "3          14  \n",
              "4          17  "
            ],
            "text/html": [
              "\n",
              "  <div id=\"df-8fd89907-c9c7-4485-8f9b-b02e723c7e89\" class=\"colab-df-container\">\n",
              "    <div>\n",
              "<style scoped>\n",
              "    .dataframe tbody tr th:only-of-type {\n",
              "        vertical-align: middle;\n",
              "    }\n",
              "\n",
              "    .dataframe tbody tr th {\n",
              "        vertical-align: top;\n",
              "    }\n",
              "\n",
              "    .dataframe thead th {\n",
              "        text-align: right;\n",
              "    }\n",
              "</style>\n",
              "<table border=\"1\" class=\"dataframe\">\n",
              "  <thead>\n",
              "    <tr style=\"text-align: right;\">\n",
              "      <th></th>\n",
              "      <th>pizza_id</th>\n",
              "      <th>order_id</th>\n",
              "      <th>pizza_name_id</th>\n",
              "      <th>quantity</th>\n",
              "      <th>order_date</th>\n",
              "      <th>order_time</th>\n",
              "      <th>unit_price</th>\n",
              "      <th>total_price</th>\n",
              "      <th>pizza_size</th>\n",
              "      <th>pizza_category</th>\n",
              "      <th>pizza_ingredients</th>\n",
              "      <th>pizza_name</th>\n",
              "    </tr>\n",
              "  </thead>\n",
              "  <tbody>\n",
              "    <tr>\n",
              "      <th>0</th>\n",
              "      <td>1.0</td>\n",
              "      <td>1.0</td>\n",
              "      <td>1201</td>\n",
              "      <td>1.0</td>\n",
              "      <td>Thursday</td>\n",
              "      <td>11</td>\n",
              "      <td>13.25</td>\n",
              "      <td>13.25</td>\n",
              "      <td>1</td>\n",
              "      <td>Classic</td>\n",
              "      <td>2370</td>\n",
              "      <td>12</td>\n",
              "    </tr>\n",
              "    <tr>\n",
              "      <th>1</th>\n",
              "      <td>2.0</td>\n",
              "      <td>2.0</td>\n",
              "      <td>701</td>\n",
              "      <td>1.0</td>\n",
              "      <td>Thursday</td>\n",
              "      <td>11</td>\n",
              "      <td>16.00</td>\n",
              "      <td>16.00</td>\n",
              "      <td>1</td>\n",
              "      <td>Classic</td>\n",
              "      <td>2416</td>\n",
              "      <td>7</td>\n",
              "    </tr>\n",
              "    <tr>\n",
              "      <th>2</th>\n",
              "      <td>3.0</td>\n",
              "      <td>2.0</td>\n",
              "      <td>800</td>\n",
              "      <td>1.0</td>\n",
              "      <td>Thursday</td>\n",
              "      <td>11</td>\n",
              "      <td>18.50</td>\n",
              "      <td>18.50</td>\n",
              "      <td>0</td>\n",
              "      <td>Veggie</td>\n",
              "      <td>1359</td>\n",
              "      <td>8</td>\n",
              "    </tr>\n",
              "    <tr>\n",
              "      <th>3</th>\n",
              "      <td>4.0</td>\n",
              "      <td>2.0</td>\n",
              "      <td>1400</td>\n",
              "      <td>1.0</td>\n",
              "      <td>Thursday</td>\n",
              "      <td>11</td>\n",
              "      <td>20.75</td>\n",
              "      <td>20.75</td>\n",
              "      <td>0</td>\n",
              "      <td>Supreme</td>\n",
              "      <td>1849</td>\n",
              "      <td>14</td>\n",
              "    </tr>\n",
              "    <tr>\n",
              "      <th>4</th>\n",
              "      <td>5.0</td>\n",
              "      <td>2.0</td>\n",
              "      <td>1701</td>\n",
              "      <td>1.0</td>\n",
              "      <td>Thursday</td>\n",
              "      <td>11</td>\n",
              "      <td>16.00</td>\n",
              "      <td>16.00</td>\n",
              "      <td>1</td>\n",
              "      <td>Veggie</td>\n",
              "      <td>1456</td>\n",
              "      <td>17</td>\n",
              "    </tr>\n",
              "  </tbody>\n",
              "</table>\n",
              "</div>\n",
              "    <div class=\"colab-df-buttons\">\n",
              "\n",
              "  <div class=\"colab-df-container\">\n",
              "    <button class=\"colab-df-convert\" onclick=\"convertToInteractive('df-8fd89907-c9c7-4485-8f9b-b02e723c7e89')\"\n",
              "            title=\"Convert this dataframe to an interactive table.\"\n",
              "            style=\"display:none;\">\n",
              "\n",
              "  <svg xmlns=\"http://www.w3.org/2000/svg\" height=\"24px\" viewBox=\"0 -960 960 960\">\n",
              "    <path d=\"M120-120v-720h720v720H120Zm60-500h600v-160H180v160Zm220 220h160v-160H400v160Zm0 220h160v-160H400v160ZM180-400h160v-160H180v160Zm440 0h160v-160H620v160ZM180-180h160v-160H180v160Zm440 0h160v-160H620v160Z\"/>\n",
              "  </svg>\n",
              "    </button>\n",
              "\n",
              "  <style>\n",
              "    .colab-df-container {\n",
              "      display:flex;\n",
              "      gap: 12px;\n",
              "    }\n",
              "\n",
              "    .colab-df-convert {\n",
              "      background-color: #E8F0FE;\n",
              "      border: none;\n",
              "      border-radius: 50%;\n",
              "      cursor: pointer;\n",
              "      display: none;\n",
              "      fill: #1967D2;\n",
              "      height: 32px;\n",
              "      padding: 0 0 0 0;\n",
              "      width: 32px;\n",
              "    }\n",
              "\n",
              "    .colab-df-convert:hover {\n",
              "      background-color: #E2EBFA;\n",
              "      box-shadow: 0px 1px 2px rgba(60, 64, 67, 0.3), 0px 1px 3px 1px rgba(60, 64, 67, 0.15);\n",
              "      fill: #174EA6;\n",
              "    }\n",
              "\n",
              "    .colab-df-buttons div {\n",
              "      margin-bottom: 4px;\n",
              "    }\n",
              "\n",
              "    [theme=dark] .colab-df-convert {\n",
              "      background-color: #3B4455;\n",
              "      fill: #D2E3FC;\n",
              "    }\n",
              "\n",
              "    [theme=dark] .colab-df-convert:hover {\n",
              "      background-color: #434B5C;\n",
              "      box-shadow: 0px 1px 3px 1px rgba(0, 0, 0, 0.15);\n",
              "      filter: drop-shadow(0px 1px 2px rgba(0, 0, 0, 0.3));\n",
              "      fill: #FFFFFF;\n",
              "    }\n",
              "  </style>\n",
              "\n",
              "    <script>\n",
              "      const buttonEl =\n",
              "        document.querySelector('#df-8fd89907-c9c7-4485-8f9b-b02e723c7e89 button.colab-df-convert');\n",
              "      buttonEl.style.display =\n",
              "        google.colab.kernel.accessAllowed ? 'block' : 'none';\n",
              "\n",
              "      async function convertToInteractive(key) {\n",
              "        const element = document.querySelector('#df-8fd89907-c9c7-4485-8f9b-b02e723c7e89');\n",
              "        const dataTable =\n",
              "          await google.colab.kernel.invokeFunction('convertToInteractive',\n",
              "                                                    [key], {});\n",
              "        if (!dataTable) return;\n",
              "\n",
              "        const docLinkHtml = 'Like what you see? Visit the ' +\n",
              "          '<a target=\"_blank\" href=https://colab.research.google.com/notebooks/data_table.ipynb>data table notebook</a>'\n",
              "          + ' to learn more about interactive tables.';\n",
              "        element.innerHTML = '';\n",
              "        dataTable['output_type'] = 'display_data';\n",
              "        await google.colab.output.renderOutput(dataTable, element);\n",
              "        const docLink = document.createElement('div');\n",
              "        docLink.innerHTML = docLinkHtml;\n",
              "        element.appendChild(docLink);\n",
              "      }\n",
              "    </script>\n",
              "  </div>\n",
              "\n",
              "\n",
              "<div id=\"df-fa9363cd-48fd-4b7d-9ccc-4238edbfde86\">\n",
              "  <button class=\"colab-df-quickchart\" onclick=\"quickchart('df-fa9363cd-48fd-4b7d-9ccc-4238edbfde86')\"\n",
              "            title=\"Suggest charts\"\n",
              "            style=\"display:none;\">\n",
              "\n",
              "<svg xmlns=\"http://www.w3.org/2000/svg\" height=\"24px\"viewBox=\"0 0 24 24\"\n",
              "     width=\"24px\">\n",
              "    <g>\n",
              "        <path d=\"M19 3H5c-1.1 0-2 .9-2 2v14c0 1.1.9 2 2 2h14c1.1 0 2-.9 2-2V5c0-1.1-.9-2-2-2zM9 17H7v-7h2v7zm4 0h-2V7h2v10zm4 0h-2v-4h2v4z\"/>\n",
              "    </g>\n",
              "</svg>\n",
              "  </button>\n",
              "\n",
              "<style>\n",
              "  .colab-df-quickchart {\n",
              "      --bg-color: #E8F0FE;\n",
              "      --fill-color: #1967D2;\n",
              "      --hover-bg-color: #E2EBFA;\n",
              "      --hover-fill-color: #174EA6;\n",
              "      --disabled-fill-color: #AAA;\n",
              "      --disabled-bg-color: #DDD;\n",
              "  }\n",
              "\n",
              "  [theme=dark] .colab-df-quickchart {\n",
              "      --bg-color: #3B4455;\n",
              "      --fill-color: #D2E3FC;\n",
              "      --hover-bg-color: #434B5C;\n",
              "      --hover-fill-color: #FFFFFF;\n",
              "      --disabled-bg-color: #3B4455;\n",
              "      --disabled-fill-color: #666;\n",
              "  }\n",
              "\n",
              "  .colab-df-quickchart {\n",
              "    background-color: var(--bg-color);\n",
              "    border: none;\n",
              "    border-radius: 50%;\n",
              "    cursor: pointer;\n",
              "    display: none;\n",
              "    fill: var(--fill-color);\n",
              "    height: 32px;\n",
              "    padding: 0;\n",
              "    width: 32px;\n",
              "  }\n",
              "\n",
              "  .colab-df-quickchart:hover {\n",
              "    background-color: var(--hover-bg-color);\n",
              "    box-shadow: 0 1px 2px rgba(60, 64, 67, 0.3), 0 1px 3px 1px rgba(60, 64, 67, 0.15);\n",
              "    fill: var(--button-hover-fill-color);\n",
              "  }\n",
              "\n",
              "  .colab-df-quickchart-complete:disabled,\n",
              "  .colab-df-quickchart-complete:disabled:hover {\n",
              "    background-color: var(--disabled-bg-color);\n",
              "    fill: var(--disabled-fill-color);\n",
              "    box-shadow: none;\n",
              "  }\n",
              "\n",
              "  .colab-df-spinner {\n",
              "    border: 2px solid var(--fill-color);\n",
              "    border-color: transparent;\n",
              "    border-bottom-color: var(--fill-color);\n",
              "    animation:\n",
              "      spin 1s steps(1) infinite;\n",
              "  }\n",
              "\n",
              "  @keyframes spin {\n",
              "    0% {\n",
              "      border-color: transparent;\n",
              "      border-bottom-color: var(--fill-color);\n",
              "      border-left-color: var(--fill-color);\n",
              "    }\n",
              "    20% {\n",
              "      border-color: transparent;\n",
              "      border-left-color: var(--fill-color);\n",
              "      border-top-color: var(--fill-color);\n",
              "    }\n",
              "    30% {\n",
              "      border-color: transparent;\n",
              "      border-left-color: var(--fill-color);\n",
              "      border-top-color: var(--fill-color);\n",
              "      border-right-color: var(--fill-color);\n",
              "    }\n",
              "    40% {\n",
              "      border-color: transparent;\n",
              "      border-right-color: var(--fill-color);\n",
              "      border-top-color: var(--fill-color);\n",
              "    }\n",
              "    60% {\n",
              "      border-color: transparent;\n",
              "      border-right-color: var(--fill-color);\n",
              "    }\n",
              "    80% {\n",
              "      border-color: transparent;\n",
              "      border-right-color: var(--fill-color);\n",
              "      border-bottom-color: var(--fill-color);\n",
              "    }\n",
              "    90% {\n",
              "      border-color: transparent;\n",
              "      border-bottom-color: var(--fill-color);\n",
              "    }\n",
              "  }\n",
              "</style>\n",
              "\n",
              "  <script>\n",
              "    async function quickchart(key) {\n",
              "      const quickchartButtonEl =\n",
              "        document.querySelector('#' + key + ' button');\n",
              "      quickchartButtonEl.disabled = true;  // To prevent multiple clicks.\n",
              "      quickchartButtonEl.classList.add('colab-df-spinner');\n",
              "      try {\n",
              "        const charts = await google.colab.kernel.invokeFunction(\n",
              "            'suggestCharts', [key], {});\n",
              "      } catch (error) {\n",
              "        console.error('Error during call to suggestCharts:', error);\n",
              "      }\n",
              "      quickchartButtonEl.classList.remove('colab-df-spinner');\n",
              "      quickchartButtonEl.classList.add('colab-df-quickchart-complete');\n",
              "    }\n",
              "    (() => {\n",
              "      let quickchartButtonEl =\n",
              "        document.querySelector('#df-fa9363cd-48fd-4b7d-9ccc-4238edbfde86 button');\n",
              "      quickchartButtonEl.style.display =\n",
              "        google.colab.kernel.accessAllowed ? 'block' : 'none';\n",
              "    })();\n",
              "  </script>\n",
              "</div>\n",
              "\n",
              "    </div>\n",
              "  </div>\n"
            ]
          },
          "metadata": {},
          "execution_count": 231
        }
      ]
    },
    {
      "cell_type": "markdown",
      "source": [
        "Label encoding pizza_category"
      ],
      "metadata": {
        "id": "3mjVdFHFbLou"
      }
    },
    {
      "cell_type": "code",
      "source": [
        "# Create a LabelEncoder instance\n",
        "label_encoder = LabelEncoder()\n",
        "# Fit and transform the 'pizza_category' column\n",
        "df['pizza_category'] = label_encoder.fit_transform(df['pizza_category'])\n",
        "df.head()"
      ],
      "metadata": {
        "colab": {
          "base_uri": "https://localhost:8080/",
          "height": 206
        },
        "id": "bq3lJL7qOxoe",
        "outputId": "600e2e77-4fd2-452e-d934-85dcf6ae1090"
      },
      "execution_count": 232,
      "outputs": [
        {
          "output_type": "execute_result",
          "data": {
            "text/plain": [
              "   pizza_id  order_id  pizza_name_id  quantity order_date order_time  \\\n",
              "0       1.0       1.0           1201       1.0   Thursday         11   \n",
              "1       2.0       2.0            701       1.0   Thursday         11   \n",
              "2       3.0       2.0            800       1.0   Thursday         11   \n",
              "3       4.0       2.0           1400       1.0   Thursday         11   \n",
              "4       5.0       2.0           1701       1.0   Thursday         11   \n",
              "\n",
              "   unit_price  total_price  pizza_size  pizza_category  pizza_ingredients  \\\n",
              "0       13.25        13.25           1               1               2370   \n",
              "1       16.00        16.00           1               1               2416   \n",
              "2       18.50        18.50           0               3               1359   \n",
              "3       20.75        20.75           0               2               1849   \n",
              "4       16.00        16.00           1               3               1456   \n",
              "\n",
              "   pizza_name  \n",
              "0          12  \n",
              "1           7  \n",
              "2           8  \n",
              "3          14  \n",
              "4          17  "
            ],
            "text/html": [
              "\n",
              "  <div id=\"df-a5027612-450f-4d01-8a21-be5003295051\" class=\"colab-df-container\">\n",
              "    <div>\n",
              "<style scoped>\n",
              "    .dataframe tbody tr th:only-of-type {\n",
              "        vertical-align: middle;\n",
              "    }\n",
              "\n",
              "    .dataframe tbody tr th {\n",
              "        vertical-align: top;\n",
              "    }\n",
              "\n",
              "    .dataframe thead th {\n",
              "        text-align: right;\n",
              "    }\n",
              "</style>\n",
              "<table border=\"1\" class=\"dataframe\">\n",
              "  <thead>\n",
              "    <tr style=\"text-align: right;\">\n",
              "      <th></th>\n",
              "      <th>pizza_id</th>\n",
              "      <th>order_id</th>\n",
              "      <th>pizza_name_id</th>\n",
              "      <th>quantity</th>\n",
              "      <th>order_date</th>\n",
              "      <th>order_time</th>\n",
              "      <th>unit_price</th>\n",
              "      <th>total_price</th>\n",
              "      <th>pizza_size</th>\n",
              "      <th>pizza_category</th>\n",
              "      <th>pizza_ingredients</th>\n",
              "      <th>pizza_name</th>\n",
              "    </tr>\n",
              "  </thead>\n",
              "  <tbody>\n",
              "    <tr>\n",
              "      <th>0</th>\n",
              "      <td>1.0</td>\n",
              "      <td>1.0</td>\n",
              "      <td>1201</td>\n",
              "      <td>1.0</td>\n",
              "      <td>Thursday</td>\n",
              "      <td>11</td>\n",
              "      <td>13.25</td>\n",
              "      <td>13.25</td>\n",
              "      <td>1</td>\n",
              "      <td>1</td>\n",
              "      <td>2370</td>\n",
              "      <td>12</td>\n",
              "    </tr>\n",
              "    <tr>\n",
              "      <th>1</th>\n",
              "      <td>2.0</td>\n",
              "      <td>2.0</td>\n",
              "      <td>701</td>\n",
              "      <td>1.0</td>\n",
              "      <td>Thursday</td>\n",
              "      <td>11</td>\n",
              "      <td>16.00</td>\n",
              "      <td>16.00</td>\n",
              "      <td>1</td>\n",
              "      <td>1</td>\n",
              "      <td>2416</td>\n",
              "      <td>7</td>\n",
              "    </tr>\n",
              "    <tr>\n",
              "      <th>2</th>\n",
              "      <td>3.0</td>\n",
              "      <td>2.0</td>\n",
              "      <td>800</td>\n",
              "      <td>1.0</td>\n",
              "      <td>Thursday</td>\n",
              "      <td>11</td>\n",
              "      <td>18.50</td>\n",
              "      <td>18.50</td>\n",
              "      <td>0</td>\n",
              "      <td>3</td>\n",
              "      <td>1359</td>\n",
              "      <td>8</td>\n",
              "    </tr>\n",
              "    <tr>\n",
              "      <th>3</th>\n",
              "      <td>4.0</td>\n",
              "      <td>2.0</td>\n",
              "      <td>1400</td>\n",
              "      <td>1.0</td>\n",
              "      <td>Thursday</td>\n",
              "      <td>11</td>\n",
              "      <td>20.75</td>\n",
              "      <td>20.75</td>\n",
              "      <td>0</td>\n",
              "      <td>2</td>\n",
              "      <td>1849</td>\n",
              "      <td>14</td>\n",
              "    </tr>\n",
              "    <tr>\n",
              "      <th>4</th>\n",
              "      <td>5.0</td>\n",
              "      <td>2.0</td>\n",
              "      <td>1701</td>\n",
              "      <td>1.0</td>\n",
              "      <td>Thursday</td>\n",
              "      <td>11</td>\n",
              "      <td>16.00</td>\n",
              "      <td>16.00</td>\n",
              "      <td>1</td>\n",
              "      <td>3</td>\n",
              "      <td>1456</td>\n",
              "      <td>17</td>\n",
              "    </tr>\n",
              "  </tbody>\n",
              "</table>\n",
              "</div>\n",
              "    <div class=\"colab-df-buttons\">\n",
              "\n",
              "  <div class=\"colab-df-container\">\n",
              "    <button class=\"colab-df-convert\" onclick=\"convertToInteractive('df-a5027612-450f-4d01-8a21-be5003295051')\"\n",
              "            title=\"Convert this dataframe to an interactive table.\"\n",
              "            style=\"display:none;\">\n",
              "\n",
              "  <svg xmlns=\"http://www.w3.org/2000/svg\" height=\"24px\" viewBox=\"0 -960 960 960\">\n",
              "    <path d=\"M120-120v-720h720v720H120Zm60-500h600v-160H180v160Zm220 220h160v-160H400v160Zm0 220h160v-160H400v160ZM180-400h160v-160H180v160Zm440 0h160v-160H620v160ZM180-180h160v-160H180v160Zm440 0h160v-160H620v160Z\"/>\n",
              "  </svg>\n",
              "    </button>\n",
              "\n",
              "  <style>\n",
              "    .colab-df-container {\n",
              "      display:flex;\n",
              "      gap: 12px;\n",
              "    }\n",
              "\n",
              "    .colab-df-convert {\n",
              "      background-color: #E8F0FE;\n",
              "      border: none;\n",
              "      border-radius: 50%;\n",
              "      cursor: pointer;\n",
              "      display: none;\n",
              "      fill: #1967D2;\n",
              "      height: 32px;\n",
              "      padding: 0 0 0 0;\n",
              "      width: 32px;\n",
              "    }\n",
              "\n",
              "    .colab-df-convert:hover {\n",
              "      background-color: #E2EBFA;\n",
              "      box-shadow: 0px 1px 2px rgba(60, 64, 67, 0.3), 0px 1px 3px 1px rgba(60, 64, 67, 0.15);\n",
              "      fill: #174EA6;\n",
              "    }\n",
              "\n",
              "    .colab-df-buttons div {\n",
              "      margin-bottom: 4px;\n",
              "    }\n",
              "\n",
              "    [theme=dark] .colab-df-convert {\n",
              "      background-color: #3B4455;\n",
              "      fill: #D2E3FC;\n",
              "    }\n",
              "\n",
              "    [theme=dark] .colab-df-convert:hover {\n",
              "      background-color: #434B5C;\n",
              "      box-shadow: 0px 1px 3px 1px rgba(0, 0, 0, 0.15);\n",
              "      filter: drop-shadow(0px 1px 2px rgba(0, 0, 0, 0.3));\n",
              "      fill: #FFFFFF;\n",
              "    }\n",
              "  </style>\n",
              "\n",
              "    <script>\n",
              "      const buttonEl =\n",
              "        document.querySelector('#df-a5027612-450f-4d01-8a21-be5003295051 button.colab-df-convert');\n",
              "      buttonEl.style.display =\n",
              "        google.colab.kernel.accessAllowed ? 'block' : 'none';\n",
              "\n",
              "      async function convertToInteractive(key) {\n",
              "        const element = document.querySelector('#df-a5027612-450f-4d01-8a21-be5003295051');\n",
              "        const dataTable =\n",
              "          await google.colab.kernel.invokeFunction('convertToInteractive',\n",
              "                                                    [key], {});\n",
              "        if (!dataTable) return;\n",
              "\n",
              "        const docLinkHtml = 'Like what you see? Visit the ' +\n",
              "          '<a target=\"_blank\" href=https://colab.research.google.com/notebooks/data_table.ipynb>data table notebook</a>'\n",
              "          + ' to learn more about interactive tables.';\n",
              "        element.innerHTML = '';\n",
              "        dataTable['output_type'] = 'display_data';\n",
              "        await google.colab.output.renderOutput(dataTable, element);\n",
              "        const docLink = document.createElement('div');\n",
              "        docLink.innerHTML = docLinkHtml;\n",
              "        element.appendChild(docLink);\n",
              "      }\n",
              "    </script>\n",
              "  </div>\n",
              "\n",
              "\n",
              "<div id=\"df-abb50d29-2e66-41d4-87a1-12cf73b55a7e\">\n",
              "  <button class=\"colab-df-quickchart\" onclick=\"quickchart('df-abb50d29-2e66-41d4-87a1-12cf73b55a7e')\"\n",
              "            title=\"Suggest charts\"\n",
              "            style=\"display:none;\">\n",
              "\n",
              "<svg xmlns=\"http://www.w3.org/2000/svg\" height=\"24px\"viewBox=\"0 0 24 24\"\n",
              "     width=\"24px\">\n",
              "    <g>\n",
              "        <path d=\"M19 3H5c-1.1 0-2 .9-2 2v14c0 1.1.9 2 2 2h14c1.1 0 2-.9 2-2V5c0-1.1-.9-2-2-2zM9 17H7v-7h2v7zm4 0h-2V7h2v10zm4 0h-2v-4h2v4z\"/>\n",
              "    </g>\n",
              "</svg>\n",
              "  </button>\n",
              "\n",
              "<style>\n",
              "  .colab-df-quickchart {\n",
              "      --bg-color: #E8F0FE;\n",
              "      --fill-color: #1967D2;\n",
              "      --hover-bg-color: #E2EBFA;\n",
              "      --hover-fill-color: #174EA6;\n",
              "      --disabled-fill-color: #AAA;\n",
              "      --disabled-bg-color: #DDD;\n",
              "  }\n",
              "\n",
              "  [theme=dark] .colab-df-quickchart {\n",
              "      --bg-color: #3B4455;\n",
              "      --fill-color: #D2E3FC;\n",
              "      --hover-bg-color: #434B5C;\n",
              "      --hover-fill-color: #FFFFFF;\n",
              "      --disabled-bg-color: #3B4455;\n",
              "      --disabled-fill-color: #666;\n",
              "  }\n",
              "\n",
              "  .colab-df-quickchart {\n",
              "    background-color: var(--bg-color);\n",
              "    border: none;\n",
              "    border-radius: 50%;\n",
              "    cursor: pointer;\n",
              "    display: none;\n",
              "    fill: var(--fill-color);\n",
              "    height: 32px;\n",
              "    padding: 0;\n",
              "    width: 32px;\n",
              "  }\n",
              "\n",
              "  .colab-df-quickchart:hover {\n",
              "    background-color: var(--hover-bg-color);\n",
              "    box-shadow: 0 1px 2px rgba(60, 64, 67, 0.3), 0 1px 3px 1px rgba(60, 64, 67, 0.15);\n",
              "    fill: var(--button-hover-fill-color);\n",
              "  }\n",
              "\n",
              "  .colab-df-quickchart-complete:disabled,\n",
              "  .colab-df-quickchart-complete:disabled:hover {\n",
              "    background-color: var(--disabled-bg-color);\n",
              "    fill: var(--disabled-fill-color);\n",
              "    box-shadow: none;\n",
              "  }\n",
              "\n",
              "  .colab-df-spinner {\n",
              "    border: 2px solid var(--fill-color);\n",
              "    border-color: transparent;\n",
              "    border-bottom-color: var(--fill-color);\n",
              "    animation:\n",
              "      spin 1s steps(1) infinite;\n",
              "  }\n",
              "\n",
              "  @keyframes spin {\n",
              "    0% {\n",
              "      border-color: transparent;\n",
              "      border-bottom-color: var(--fill-color);\n",
              "      border-left-color: var(--fill-color);\n",
              "    }\n",
              "    20% {\n",
              "      border-color: transparent;\n",
              "      border-left-color: var(--fill-color);\n",
              "      border-top-color: var(--fill-color);\n",
              "    }\n",
              "    30% {\n",
              "      border-color: transparent;\n",
              "      border-left-color: var(--fill-color);\n",
              "      border-top-color: var(--fill-color);\n",
              "      border-right-color: var(--fill-color);\n",
              "    }\n",
              "    40% {\n",
              "      border-color: transparent;\n",
              "      border-right-color: var(--fill-color);\n",
              "      border-top-color: var(--fill-color);\n",
              "    }\n",
              "    60% {\n",
              "      border-color: transparent;\n",
              "      border-right-color: var(--fill-color);\n",
              "    }\n",
              "    80% {\n",
              "      border-color: transparent;\n",
              "      border-right-color: var(--fill-color);\n",
              "      border-bottom-color: var(--fill-color);\n",
              "    }\n",
              "    90% {\n",
              "      border-color: transparent;\n",
              "      border-bottom-color: var(--fill-color);\n",
              "    }\n",
              "  }\n",
              "</style>\n",
              "\n",
              "  <script>\n",
              "    async function quickchart(key) {\n",
              "      const quickchartButtonEl =\n",
              "        document.querySelector('#' + key + ' button');\n",
              "      quickchartButtonEl.disabled = true;  // To prevent multiple clicks.\n",
              "      quickchartButtonEl.classList.add('colab-df-spinner');\n",
              "      try {\n",
              "        const charts = await google.colab.kernel.invokeFunction(\n",
              "            'suggestCharts', [key], {});\n",
              "      } catch (error) {\n",
              "        console.error('Error during call to suggestCharts:', error);\n",
              "      }\n",
              "      quickchartButtonEl.classList.remove('colab-df-spinner');\n",
              "      quickchartButtonEl.classList.add('colab-df-quickchart-complete');\n",
              "    }\n",
              "    (() => {\n",
              "      let quickchartButtonEl =\n",
              "        document.querySelector('#df-abb50d29-2e66-41d4-87a1-12cf73b55a7e button');\n",
              "      quickchartButtonEl.style.display =\n",
              "        google.colab.kernel.accessAllowed ? 'block' : 'none';\n",
              "    })();\n",
              "  </script>\n",
              "</div>\n",
              "\n",
              "    </div>\n",
              "  </div>\n"
            ]
          },
          "metadata": {},
          "execution_count": 232
        }
      ]
    },
    {
      "cell_type": "markdown",
      "source": [
        "Label encoding order_date\n"
      ],
      "metadata": {
        "id": "p3kP-ZkPbX_u"
      }
    },
    {
      "cell_type": "code",
      "source": [
        "# Create a LabelEncoder instance\n",
        "label_encoder = LabelEncoder()\n",
        "# Fit and transform the 'order_date' column\n",
        "df['order_date'] = label_encoder.fit_transform(df['order_date'])\n",
        "df.head()"
      ],
      "metadata": {
        "colab": {
          "base_uri": "https://localhost:8080/",
          "height": 206
        },
        "id": "GghBsN8VO92I",
        "outputId": "779c9682-8a6d-4ef8-d77b-83d3c4ad8a64"
      },
      "execution_count": 233,
      "outputs": [
        {
          "output_type": "execute_result",
          "data": {
            "text/plain": [
              "   pizza_id  order_id  pizza_name_id  quantity  order_date order_time  \\\n",
              "0       1.0       1.0           1201       1.0           4         11   \n",
              "1       2.0       2.0            701       1.0           4         11   \n",
              "2       3.0       2.0            800       1.0           4         11   \n",
              "3       4.0       2.0           1400       1.0           4         11   \n",
              "4       5.0       2.0           1701       1.0           4         11   \n",
              "\n",
              "   unit_price  total_price  pizza_size  pizza_category  pizza_ingredients  \\\n",
              "0       13.25        13.25           1               1               2370   \n",
              "1       16.00        16.00           1               1               2416   \n",
              "2       18.50        18.50           0               3               1359   \n",
              "3       20.75        20.75           0               2               1849   \n",
              "4       16.00        16.00           1               3               1456   \n",
              "\n",
              "   pizza_name  \n",
              "0          12  \n",
              "1           7  \n",
              "2           8  \n",
              "3          14  \n",
              "4          17  "
            ],
            "text/html": [
              "\n",
              "  <div id=\"df-8d71f485-cf84-4c50-b050-7f49f15e3230\" class=\"colab-df-container\">\n",
              "    <div>\n",
              "<style scoped>\n",
              "    .dataframe tbody tr th:only-of-type {\n",
              "        vertical-align: middle;\n",
              "    }\n",
              "\n",
              "    .dataframe tbody tr th {\n",
              "        vertical-align: top;\n",
              "    }\n",
              "\n",
              "    .dataframe thead th {\n",
              "        text-align: right;\n",
              "    }\n",
              "</style>\n",
              "<table border=\"1\" class=\"dataframe\">\n",
              "  <thead>\n",
              "    <tr style=\"text-align: right;\">\n",
              "      <th></th>\n",
              "      <th>pizza_id</th>\n",
              "      <th>order_id</th>\n",
              "      <th>pizza_name_id</th>\n",
              "      <th>quantity</th>\n",
              "      <th>order_date</th>\n",
              "      <th>order_time</th>\n",
              "      <th>unit_price</th>\n",
              "      <th>total_price</th>\n",
              "      <th>pizza_size</th>\n",
              "      <th>pizza_category</th>\n",
              "      <th>pizza_ingredients</th>\n",
              "      <th>pizza_name</th>\n",
              "    </tr>\n",
              "  </thead>\n",
              "  <tbody>\n",
              "    <tr>\n",
              "      <th>0</th>\n",
              "      <td>1.0</td>\n",
              "      <td>1.0</td>\n",
              "      <td>1201</td>\n",
              "      <td>1.0</td>\n",
              "      <td>4</td>\n",
              "      <td>11</td>\n",
              "      <td>13.25</td>\n",
              "      <td>13.25</td>\n",
              "      <td>1</td>\n",
              "      <td>1</td>\n",
              "      <td>2370</td>\n",
              "      <td>12</td>\n",
              "    </tr>\n",
              "    <tr>\n",
              "      <th>1</th>\n",
              "      <td>2.0</td>\n",
              "      <td>2.0</td>\n",
              "      <td>701</td>\n",
              "      <td>1.0</td>\n",
              "      <td>4</td>\n",
              "      <td>11</td>\n",
              "      <td>16.00</td>\n",
              "      <td>16.00</td>\n",
              "      <td>1</td>\n",
              "      <td>1</td>\n",
              "      <td>2416</td>\n",
              "      <td>7</td>\n",
              "    </tr>\n",
              "    <tr>\n",
              "      <th>2</th>\n",
              "      <td>3.0</td>\n",
              "      <td>2.0</td>\n",
              "      <td>800</td>\n",
              "      <td>1.0</td>\n",
              "      <td>4</td>\n",
              "      <td>11</td>\n",
              "      <td>18.50</td>\n",
              "      <td>18.50</td>\n",
              "      <td>0</td>\n",
              "      <td>3</td>\n",
              "      <td>1359</td>\n",
              "      <td>8</td>\n",
              "    </tr>\n",
              "    <tr>\n",
              "      <th>3</th>\n",
              "      <td>4.0</td>\n",
              "      <td>2.0</td>\n",
              "      <td>1400</td>\n",
              "      <td>1.0</td>\n",
              "      <td>4</td>\n",
              "      <td>11</td>\n",
              "      <td>20.75</td>\n",
              "      <td>20.75</td>\n",
              "      <td>0</td>\n",
              "      <td>2</td>\n",
              "      <td>1849</td>\n",
              "      <td>14</td>\n",
              "    </tr>\n",
              "    <tr>\n",
              "      <th>4</th>\n",
              "      <td>5.0</td>\n",
              "      <td>2.0</td>\n",
              "      <td>1701</td>\n",
              "      <td>1.0</td>\n",
              "      <td>4</td>\n",
              "      <td>11</td>\n",
              "      <td>16.00</td>\n",
              "      <td>16.00</td>\n",
              "      <td>1</td>\n",
              "      <td>3</td>\n",
              "      <td>1456</td>\n",
              "      <td>17</td>\n",
              "    </tr>\n",
              "  </tbody>\n",
              "</table>\n",
              "</div>\n",
              "    <div class=\"colab-df-buttons\">\n",
              "\n",
              "  <div class=\"colab-df-container\">\n",
              "    <button class=\"colab-df-convert\" onclick=\"convertToInteractive('df-8d71f485-cf84-4c50-b050-7f49f15e3230')\"\n",
              "            title=\"Convert this dataframe to an interactive table.\"\n",
              "            style=\"display:none;\">\n",
              "\n",
              "  <svg xmlns=\"http://www.w3.org/2000/svg\" height=\"24px\" viewBox=\"0 -960 960 960\">\n",
              "    <path d=\"M120-120v-720h720v720H120Zm60-500h600v-160H180v160Zm220 220h160v-160H400v160Zm0 220h160v-160H400v160ZM180-400h160v-160H180v160Zm440 0h160v-160H620v160ZM180-180h160v-160H180v160Zm440 0h160v-160H620v160Z\"/>\n",
              "  </svg>\n",
              "    </button>\n",
              "\n",
              "  <style>\n",
              "    .colab-df-container {\n",
              "      display:flex;\n",
              "      gap: 12px;\n",
              "    }\n",
              "\n",
              "    .colab-df-convert {\n",
              "      background-color: #E8F0FE;\n",
              "      border: none;\n",
              "      border-radius: 50%;\n",
              "      cursor: pointer;\n",
              "      display: none;\n",
              "      fill: #1967D2;\n",
              "      height: 32px;\n",
              "      padding: 0 0 0 0;\n",
              "      width: 32px;\n",
              "    }\n",
              "\n",
              "    .colab-df-convert:hover {\n",
              "      background-color: #E2EBFA;\n",
              "      box-shadow: 0px 1px 2px rgba(60, 64, 67, 0.3), 0px 1px 3px 1px rgba(60, 64, 67, 0.15);\n",
              "      fill: #174EA6;\n",
              "    }\n",
              "\n",
              "    .colab-df-buttons div {\n",
              "      margin-bottom: 4px;\n",
              "    }\n",
              "\n",
              "    [theme=dark] .colab-df-convert {\n",
              "      background-color: #3B4455;\n",
              "      fill: #D2E3FC;\n",
              "    }\n",
              "\n",
              "    [theme=dark] .colab-df-convert:hover {\n",
              "      background-color: #434B5C;\n",
              "      box-shadow: 0px 1px 3px 1px rgba(0, 0, 0, 0.15);\n",
              "      filter: drop-shadow(0px 1px 2px rgba(0, 0, 0, 0.3));\n",
              "      fill: #FFFFFF;\n",
              "    }\n",
              "  </style>\n",
              "\n",
              "    <script>\n",
              "      const buttonEl =\n",
              "        document.querySelector('#df-8d71f485-cf84-4c50-b050-7f49f15e3230 button.colab-df-convert');\n",
              "      buttonEl.style.display =\n",
              "        google.colab.kernel.accessAllowed ? 'block' : 'none';\n",
              "\n",
              "      async function convertToInteractive(key) {\n",
              "        const element = document.querySelector('#df-8d71f485-cf84-4c50-b050-7f49f15e3230');\n",
              "        const dataTable =\n",
              "          await google.colab.kernel.invokeFunction('convertToInteractive',\n",
              "                                                    [key], {});\n",
              "        if (!dataTable) return;\n",
              "\n",
              "        const docLinkHtml = 'Like what you see? Visit the ' +\n",
              "          '<a target=\"_blank\" href=https://colab.research.google.com/notebooks/data_table.ipynb>data table notebook</a>'\n",
              "          + ' to learn more about interactive tables.';\n",
              "        element.innerHTML = '';\n",
              "        dataTable['output_type'] = 'display_data';\n",
              "        await google.colab.output.renderOutput(dataTable, element);\n",
              "        const docLink = document.createElement('div');\n",
              "        docLink.innerHTML = docLinkHtml;\n",
              "        element.appendChild(docLink);\n",
              "      }\n",
              "    </script>\n",
              "  </div>\n",
              "\n",
              "\n",
              "<div id=\"df-996e062a-79f9-4d33-93dc-c076d4187211\">\n",
              "  <button class=\"colab-df-quickchart\" onclick=\"quickchart('df-996e062a-79f9-4d33-93dc-c076d4187211')\"\n",
              "            title=\"Suggest charts\"\n",
              "            style=\"display:none;\">\n",
              "\n",
              "<svg xmlns=\"http://www.w3.org/2000/svg\" height=\"24px\"viewBox=\"0 0 24 24\"\n",
              "     width=\"24px\">\n",
              "    <g>\n",
              "        <path d=\"M19 3H5c-1.1 0-2 .9-2 2v14c0 1.1.9 2 2 2h14c1.1 0 2-.9 2-2V5c0-1.1-.9-2-2-2zM9 17H7v-7h2v7zm4 0h-2V7h2v10zm4 0h-2v-4h2v4z\"/>\n",
              "    </g>\n",
              "</svg>\n",
              "  </button>\n",
              "\n",
              "<style>\n",
              "  .colab-df-quickchart {\n",
              "      --bg-color: #E8F0FE;\n",
              "      --fill-color: #1967D2;\n",
              "      --hover-bg-color: #E2EBFA;\n",
              "      --hover-fill-color: #174EA6;\n",
              "      --disabled-fill-color: #AAA;\n",
              "      --disabled-bg-color: #DDD;\n",
              "  }\n",
              "\n",
              "  [theme=dark] .colab-df-quickchart {\n",
              "      --bg-color: #3B4455;\n",
              "      --fill-color: #D2E3FC;\n",
              "      --hover-bg-color: #434B5C;\n",
              "      --hover-fill-color: #FFFFFF;\n",
              "      --disabled-bg-color: #3B4455;\n",
              "      --disabled-fill-color: #666;\n",
              "  }\n",
              "\n",
              "  .colab-df-quickchart {\n",
              "    background-color: var(--bg-color);\n",
              "    border: none;\n",
              "    border-radius: 50%;\n",
              "    cursor: pointer;\n",
              "    display: none;\n",
              "    fill: var(--fill-color);\n",
              "    height: 32px;\n",
              "    padding: 0;\n",
              "    width: 32px;\n",
              "  }\n",
              "\n",
              "  .colab-df-quickchart:hover {\n",
              "    background-color: var(--hover-bg-color);\n",
              "    box-shadow: 0 1px 2px rgba(60, 64, 67, 0.3), 0 1px 3px 1px rgba(60, 64, 67, 0.15);\n",
              "    fill: var(--button-hover-fill-color);\n",
              "  }\n",
              "\n",
              "  .colab-df-quickchart-complete:disabled,\n",
              "  .colab-df-quickchart-complete:disabled:hover {\n",
              "    background-color: var(--disabled-bg-color);\n",
              "    fill: var(--disabled-fill-color);\n",
              "    box-shadow: none;\n",
              "  }\n",
              "\n",
              "  .colab-df-spinner {\n",
              "    border: 2px solid var(--fill-color);\n",
              "    border-color: transparent;\n",
              "    border-bottom-color: var(--fill-color);\n",
              "    animation:\n",
              "      spin 1s steps(1) infinite;\n",
              "  }\n",
              "\n",
              "  @keyframes spin {\n",
              "    0% {\n",
              "      border-color: transparent;\n",
              "      border-bottom-color: var(--fill-color);\n",
              "      border-left-color: var(--fill-color);\n",
              "    }\n",
              "    20% {\n",
              "      border-color: transparent;\n",
              "      border-left-color: var(--fill-color);\n",
              "      border-top-color: var(--fill-color);\n",
              "    }\n",
              "    30% {\n",
              "      border-color: transparent;\n",
              "      border-left-color: var(--fill-color);\n",
              "      border-top-color: var(--fill-color);\n",
              "      border-right-color: var(--fill-color);\n",
              "    }\n",
              "    40% {\n",
              "      border-color: transparent;\n",
              "      border-right-color: var(--fill-color);\n",
              "      border-top-color: var(--fill-color);\n",
              "    }\n",
              "    60% {\n",
              "      border-color: transparent;\n",
              "      border-right-color: var(--fill-color);\n",
              "    }\n",
              "    80% {\n",
              "      border-color: transparent;\n",
              "      border-right-color: var(--fill-color);\n",
              "      border-bottom-color: var(--fill-color);\n",
              "    }\n",
              "    90% {\n",
              "      border-color: transparent;\n",
              "      border-bottom-color: var(--fill-color);\n",
              "    }\n",
              "  }\n",
              "</style>\n",
              "\n",
              "  <script>\n",
              "    async function quickchart(key) {\n",
              "      const quickchartButtonEl =\n",
              "        document.querySelector('#' + key + ' button');\n",
              "      quickchartButtonEl.disabled = true;  // To prevent multiple clicks.\n",
              "      quickchartButtonEl.classList.add('colab-df-spinner');\n",
              "      try {\n",
              "        const charts = await google.colab.kernel.invokeFunction(\n",
              "            'suggestCharts', [key], {});\n",
              "      } catch (error) {\n",
              "        console.error('Error during call to suggestCharts:', error);\n",
              "      }\n",
              "      quickchartButtonEl.classList.remove('colab-df-spinner');\n",
              "      quickchartButtonEl.classList.add('colab-df-quickchart-complete');\n",
              "    }\n",
              "    (() => {\n",
              "      let quickchartButtonEl =\n",
              "        document.querySelector('#df-996e062a-79f9-4d33-93dc-c076d4187211 button');\n",
              "      quickchartButtonEl.style.display =\n",
              "        google.colab.kernel.accessAllowed ? 'block' : 'none';\n",
              "    })();\n",
              "  </script>\n",
              "</div>\n",
              "\n",
              "    </div>\n",
              "  </div>\n"
            ]
          },
          "metadata": {},
          "execution_count": 233
        }
      ]
    },
    {
      "cell_type": "markdown",
      "source": [
        "Convert the 'NumericColumn' to 'int' data type"
      ],
      "metadata": {
        "id": "n83dEgjnbiEF"
      }
    },
    {
      "cell_type": "code",
      "source": [
        "# Convert the 'NumericColumn' to 'int' data type\n",
        "df['order_time'] = df['order_time'].astype(int)\n",
        "df.dtypes"
      ],
      "metadata": {
        "colab": {
          "base_uri": "https://localhost:8080/"
        },
        "id": "tJ7fpajTPlII",
        "outputId": "16e7ec8a-c52d-4830-d82a-844279e836e6"
      },
      "execution_count": 234,
      "outputs": [
        {
          "output_type": "execute_result",
          "data": {
            "text/plain": [
              "pizza_id             float64\n",
              "order_id             float64\n",
              "pizza_name_id          int64\n",
              "quantity             float64\n",
              "order_date             int64\n",
              "order_time             int64\n",
              "unit_price           float64\n",
              "total_price          float64\n",
              "pizza_size             int64\n",
              "pizza_category         int64\n",
              "pizza_ingredients      int64\n",
              "pizza_name             int64\n",
              "dtype: object"
            ]
          },
          "metadata": {},
          "execution_count": 234
        }
      ]
    },
    {
      "cell_type": "code",
      "source": [
        "df.head()"
      ],
      "metadata": {
        "colab": {
          "base_uri": "https://localhost:8080/",
          "height": 206
        },
        "id": "X3vIVQfqQVPL",
        "outputId": "0ecea412-82f9-4857-d058-16a83099e591"
      },
      "execution_count": 147,
      "outputs": [
        {
          "output_type": "execute_result",
          "data": {
            "text/plain": [
              "   pizza_name_id  quantity  order_date  order_time  unit_price  total_price  \\\n",
              "0           1201       1.0           4          11       13.25        13.25   \n",
              "1            701       1.0           4          11       16.00        16.00   \n",
              "2            800       1.0           4          11       18.50        18.50   \n",
              "3           1400       1.0           4          11       20.75        20.75   \n",
              "4           1701       1.0           4          11       16.00        16.00   \n",
              "\n",
              "   pizza_size  pizza_category  pizza_ingredients  pizza_name  \n",
              "0           1               1               2370          12  \n",
              "1           1               1               2416           7  \n",
              "2           0               3               1359           8  \n",
              "3           0               2               1849          14  \n",
              "4           1               3               1456          17  "
            ],
            "text/html": [
              "\n",
              "  <div id=\"df-52ca15df-a76d-4950-8430-9971cdb51d46\" class=\"colab-df-container\">\n",
              "    <div>\n",
              "<style scoped>\n",
              "    .dataframe tbody tr th:only-of-type {\n",
              "        vertical-align: middle;\n",
              "    }\n",
              "\n",
              "    .dataframe tbody tr th {\n",
              "        vertical-align: top;\n",
              "    }\n",
              "\n",
              "    .dataframe thead th {\n",
              "        text-align: right;\n",
              "    }\n",
              "</style>\n",
              "<table border=\"1\" class=\"dataframe\">\n",
              "  <thead>\n",
              "    <tr style=\"text-align: right;\">\n",
              "      <th></th>\n",
              "      <th>pizza_name_id</th>\n",
              "      <th>quantity</th>\n",
              "      <th>order_date</th>\n",
              "      <th>order_time</th>\n",
              "      <th>unit_price</th>\n",
              "      <th>total_price</th>\n",
              "      <th>pizza_size</th>\n",
              "      <th>pizza_category</th>\n",
              "      <th>pizza_ingredients</th>\n",
              "      <th>pizza_name</th>\n",
              "    </tr>\n",
              "  </thead>\n",
              "  <tbody>\n",
              "    <tr>\n",
              "      <th>0</th>\n",
              "      <td>1201</td>\n",
              "      <td>1.0</td>\n",
              "      <td>4</td>\n",
              "      <td>11</td>\n",
              "      <td>13.25</td>\n",
              "      <td>13.25</td>\n",
              "      <td>1</td>\n",
              "      <td>1</td>\n",
              "      <td>2370</td>\n",
              "      <td>12</td>\n",
              "    </tr>\n",
              "    <tr>\n",
              "      <th>1</th>\n",
              "      <td>701</td>\n",
              "      <td>1.0</td>\n",
              "      <td>4</td>\n",
              "      <td>11</td>\n",
              "      <td>16.00</td>\n",
              "      <td>16.00</td>\n",
              "      <td>1</td>\n",
              "      <td>1</td>\n",
              "      <td>2416</td>\n",
              "      <td>7</td>\n",
              "    </tr>\n",
              "    <tr>\n",
              "      <th>2</th>\n",
              "      <td>800</td>\n",
              "      <td>1.0</td>\n",
              "      <td>4</td>\n",
              "      <td>11</td>\n",
              "      <td>18.50</td>\n",
              "      <td>18.50</td>\n",
              "      <td>0</td>\n",
              "      <td>3</td>\n",
              "      <td>1359</td>\n",
              "      <td>8</td>\n",
              "    </tr>\n",
              "    <tr>\n",
              "      <th>3</th>\n",
              "      <td>1400</td>\n",
              "      <td>1.0</td>\n",
              "      <td>4</td>\n",
              "      <td>11</td>\n",
              "      <td>20.75</td>\n",
              "      <td>20.75</td>\n",
              "      <td>0</td>\n",
              "      <td>2</td>\n",
              "      <td>1849</td>\n",
              "      <td>14</td>\n",
              "    </tr>\n",
              "    <tr>\n",
              "      <th>4</th>\n",
              "      <td>1701</td>\n",
              "      <td>1.0</td>\n",
              "      <td>4</td>\n",
              "      <td>11</td>\n",
              "      <td>16.00</td>\n",
              "      <td>16.00</td>\n",
              "      <td>1</td>\n",
              "      <td>3</td>\n",
              "      <td>1456</td>\n",
              "      <td>17</td>\n",
              "    </tr>\n",
              "  </tbody>\n",
              "</table>\n",
              "</div>\n",
              "    <div class=\"colab-df-buttons\">\n",
              "\n",
              "  <div class=\"colab-df-container\">\n",
              "    <button class=\"colab-df-convert\" onclick=\"convertToInteractive('df-52ca15df-a76d-4950-8430-9971cdb51d46')\"\n",
              "            title=\"Convert this dataframe to an interactive table.\"\n",
              "            style=\"display:none;\">\n",
              "\n",
              "  <svg xmlns=\"http://www.w3.org/2000/svg\" height=\"24px\" viewBox=\"0 -960 960 960\">\n",
              "    <path d=\"M120-120v-720h720v720H120Zm60-500h600v-160H180v160Zm220 220h160v-160H400v160Zm0 220h160v-160H400v160ZM180-400h160v-160H180v160Zm440 0h160v-160H620v160ZM180-180h160v-160H180v160Zm440 0h160v-160H620v160Z\"/>\n",
              "  </svg>\n",
              "    </button>\n",
              "\n",
              "  <style>\n",
              "    .colab-df-container {\n",
              "      display:flex;\n",
              "      gap: 12px;\n",
              "    }\n",
              "\n",
              "    .colab-df-convert {\n",
              "      background-color: #E8F0FE;\n",
              "      border: none;\n",
              "      border-radius: 50%;\n",
              "      cursor: pointer;\n",
              "      display: none;\n",
              "      fill: #1967D2;\n",
              "      height: 32px;\n",
              "      padding: 0 0 0 0;\n",
              "      width: 32px;\n",
              "    }\n",
              "\n",
              "    .colab-df-convert:hover {\n",
              "      background-color: #E2EBFA;\n",
              "      box-shadow: 0px 1px 2px rgba(60, 64, 67, 0.3), 0px 1px 3px 1px rgba(60, 64, 67, 0.15);\n",
              "      fill: #174EA6;\n",
              "    }\n",
              "\n",
              "    .colab-df-buttons div {\n",
              "      margin-bottom: 4px;\n",
              "    }\n",
              "\n",
              "    [theme=dark] .colab-df-convert {\n",
              "      background-color: #3B4455;\n",
              "      fill: #D2E3FC;\n",
              "    }\n",
              "\n",
              "    [theme=dark] .colab-df-convert:hover {\n",
              "      background-color: #434B5C;\n",
              "      box-shadow: 0px 1px 3px 1px rgba(0, 0, 0, 0.15);\n",
              "      filter: drop-shadow(0px 1px 2px rgba(0, 0, 0, 0.3));\n",
              "      fill: #FFFFFF;\n",
              "    }\n",
              "  </style>\n",
              "\n",
              "    <script>\n",
              "      const buttonEl =\n",
              "        document.querySelector('#df-52ca15df-a76d-4950-8430-9971cdb51d46 button.colab-df-convert');\n",
              "      buttonEl.style.display =\n",
              "        google.colab.kernel.accessAllowed ? 'block' : 'none';\n",
              "\n",
              "      async function convertToInteractive(key) {\n",
              "        const element = document.querySelector('#df-52ca15df-a76d-4950-8430-9971cdb51d46');\n",
              "        const dataTable =\n",
              "          await google.colab.kernel.invokeFunction('convertToInteractive',\n",
              "                                                    [key], {});\n",
              "        if (!dataTable) return;\n",
              "\n",
              "        const docLinkHtml = 'Like what you see? Visit the ' +\n",
              "          '<a target=\"_blank\" href=https://colab.research.google.com/notebooks/data_table.ipynb>data table notebook</a>'\n",
              "          + ' to learn more about interactive tables.';\n",
              "        element.innerHTML = '';\n",
              "        dataTable['output_type'] = 'display_data';\n",
              "        await google.colab.output.renderOutput(dataTable, element);\n",
              "        const docLink = document.createElement('div');\n",
              "        docLink.innerHTML = docLinkHtml;\n",
              "        element.appendChild(docLink);\n",
              "      }\n",
              "    </script>\n",
              "  </div>\n",
              "\n",
              "\n",
              "<div id=\"df-1f59b039-1200-4319-a5d2-b9bcd1f64642\">\n",
              "  <button class=\"colab-df-quickchart\" onclick=\"quickchart('df-1f59b039-1200-4319-a5d2-b9bcd1f64642')\"\n",
              "            title=\"Suggest charts\"\n",
              "            style=\"display:none;\">\n",
              "\n",
              "<svg xmlns=\"http://www.w3.org/2000/svg\" height=\"24px\"viewBox=\"0 0 24 24\"\n",
              "     width=\"24px\">\n",
              "    <g>\n",
              "        <path d=\"M19 3H5c-1.1 0-2 .9-2 2v14c0 1.1.9 2 2 2h14c1.1 0 2-.9 2-2V5c0-1.1-.9-2-2-2zM9 17H7v-7h2v7zm4 0h-2V7h2v10zm4 0h-2v-4h2v4z\"/>\n",
              "    </g>\n",
              "</svg>\n",
              "  </button>\n",
              "\n",
              "<style>\n",
              "  .colab-df-quickchart {\n",
              "      --bg-color: #E8F0FE;\n",
              "      --fill-color: #1967D2;\n",
              "      --hover-bg-color: #E2EBFA;\n",
              "      --hover-fill-color: #174EA6;\n",
              "      --disabled-fill-color: #AAA;\n",
              "      --disabled-bg-color: #DDD;\n",
              "  }\n",
              "\n",
              "  [theme=dark] .colab-df-quickchart {\n",
              "      --bg-color: #3B4455;\n",
              "      --fill-color: #D2E3FC;\n",
              "      --hover-bg-color: #434B5C;\n",
              "      --hover-fill-color: #FFFFFF;\n",
              "      --disabled-bg-color: #3B4455;\n",
              "      --disabled-fill-color: #666;\n",
              "  }\n",
              "\n",
              "  .colab-df-quickchart {\n",
              "    background-color: var(--bg-color);\n",
              "    border: none;\n",
              "    border-radius: 50%;\n",
              "    cursor: pointer;\n",
              "    display: none;\n",
              "    fill: var(--fill-color);\n",
              "    height: 32px;\n",
              "    padding: 0;\n",
              "    width: 32px;\n",
              "  }\n",
              "\n",
              "  .colab-df-quickchart:hover {\n",
              "    background-color: var(--hover-bg-color);\n",
              "    box-shadow: 0 1px 2px rgba(60, 64, 67, 0.3), 0 1px 3px 1px rgba(60, 64, 67, 0.15);\n",
              "    fill: var(--button-hover-fill-color);\n",
              "  }\n",
              "\n",
              "  .colab-df-quickchart-complete:disabled,\n",
              "  .colab-df-quickchart-complete:disabled:hover {\n",
              "    background-color: var(--disabled-bg-color);\n",
              "    fill: var(--disabled-fill-color);\n",
              "    box-shadow: none;\n",
              "  }\n",
              "\n",
              "  .colab-df-spinner {\n",
              "    border: 2px solid var(--fill-color);\n",
              "    border-color: transparent;\n",
              "    border-bottom-color: var(--fill-color);\n",
              "    animation:\n",
              "      spin 1s steps(1) infinite;\n",
              "  }\n",
              "\n",
              "  @keyframes spin {\n",
              "    0% {\n",
              "      border-color: transparent;\n",
              "      border-bottom-color: var(--fill-color);\n",
              "      border-left-color: var(--fill-color);\n",
              "    }\n",
              "    20% {\n",
              "      border-color: transparent;\n",
              "      border-left-color: var(--fill-color);\n",
              "      border-top-color: var(--fill-color);\n",
              "    }\n",
              "    30% {\n",
              "      border-color: transparent;\n",
              "      border-left-color: var(--fill-color);\n",
              "      border-top-color: var(--fill-color);\n",
              "      border-right-color: var(--fill-color);\n",
              "    }\n",
              "    40% {\n",
              "      border-color: transparent;\n",
              "      border-right-color: var(--fill-color);\n",
              "      border-top-color: var(--fill-color);\n",
              "    }\n",
              "    60% {\n",
              "      border-color: transparent;\n",
              "      border-right-color: var(--fill-color);\n",
              "    }\n",
              "    80% {\n",
              "      border-color: transparent;\n",
              "      border-right-color: var(--fill-color);\n",
              "      border-bottom-color: var(--fill-color);\n",
              "    }\n",
              "    90% {\n",
              "      border-color: transparent;\n",
              "      border-bottom-color: var(--fill-color);\n",
              "    }\n",
              "  }\n",
              "</style>\n",
              "\n",
              "  <script>\n",
              "    async function quickchart(key) {\n",
              "      const quickchartButtonEl =\n",
              "        document.querySelector('#' + key + ' button');\n",
              "      quickchartButtonEl.disabled = true;  // To prevent multiple clicks.\n",
              "      quickchartButtonEl.classList.add('colab-df-spinner');\n",
              "      try {\n",
              "        const charts = await google.colab.kernel.invokeFunction(\n",
              "            'suggestCharts', [key], {});\n",
              "      } catch (error) {\n",
              "        console.error('Error during call to suggestCharts:', error);\n",
              "      }\n",
              "      quickchartButtonEl.classList.remove('colab-df-spinner');\n",
              "      quickchartButtonEl.classList.add('colab-df-quickchart-complete');\n",
              "    }\n",
              "    (() => {\n",
              "      let quickchartButtonEl =\n",
              "        document.querySelector('#df-1f59b039-1200-4319-a5d2-b9bcd1f64642 button');\n",
              "      quickchartButtonEl.style.display =\n",
              "        google.colab.kernel.accessAllowed ? 'block' : 'none';\n",
              "    })();\n",
              "  </script>\n",
              "</div>\n",
              "\n",
              "    </div>\n",
              "  </div>\n"
            ]
          },
          "metadata": {},
          "execution_count": 147
        }
      ]
    },
    {
      "cell_type": "markdown",
      "source": [
        "# **Q3. What are the likely distributions of the numeric variables?**"
      ],
      "metadata": {
        "id": "9KOkd_3RZyK9"
      }
    },
    {
      "cell_type": "code",
      "source": [
        "# Selecting numeric columns\n",
        "numeric_columns = df.select_dtypes(include=['int64', 'float64']).columns\n",
        "\n",
        "# Plotting distributions of numeric variables\n",
        "plt.figure(figsize=(15, 10))\n",
        "\n",
        "for i, column in enumerate(numeric_columns):\n",
        "    plt.subplot(3, 4, i+1)\n",
        "    sns.histplot(df[column], kde=True)\n",
        "    plt.title(column)\n",
        "    plt.tight_layout()\n",
        "\n",
        "plt.show()"
      ],
      "metadata": {
        "colab": {
          "base_uri": "https://localhost:8080/",
          "height": 841
        },
        "id": "DUROnNwKPUTm",
        "outputId": "e9756547-9972-45b7-f8c1-3e055892379a"
      },
      "execution_count": 235,
      "outputs": [
        {
          "output_type": "display_data",
          "data": {
            "text/plain": [
              "<Figure size 1500x1000 with 12 Axes>"
            ],
            "image/png": "[encoded data removed]"
          },
          "metadata": {}
        }
      ]
    },
    {
      "cell_type": "markdown",
      "source": [
        "## **Q4. Which independent variables are useful to predict a target (dependent variable)? (Use at least three methods)**"
      ],
      "metadata": {
        "id": "jbLkJ_rubq3L"
      }
    },
    {
      "cell_type": "markdown",
      "source": [
        "**#4.1 Corelation matrix using heatmap**"
      ],
      "metadata": {
        "id": "pL0z3cwGZskC"
      }
    },
    {
      "cell_type": "code",
      "source": [
        "# Calculate the correlation matrix\n",
        "correlation_matrix = df.corr()\n",
        "\n",
        "# Plot the heatmap\n",
        "plt.figure(figsize=(10, 8))\n",
        "sns.heatmap(correlation_matrix, annot=True, cmap='coolwarm')\n",
        "plt.title(\"Correlation Matrix with Heatmap\")\n",
        "plt.show()"
      ],
      "metadata": {
        "colab": {
          "base_uri": "https://localhost:8080/",
          "height": 806
        },
        "id": "ksnI11gDQbvz",
        "outputId": "61c2a5d1-20db-4825-fe52-cedbf3569557"
      },
      "execution_count": 149,
      "outputs": [
        {
          "output_type": "display_data",
          "data": {
            "text/plain": [
              "<Figure size 1000x800 with 2 Axes>"
            ],
            "image/png": "[encoded data removed]"
          },
          "metadata": {}
        }
      ]
    },
    {
      "cell_type": "markdown",
      "source": [
        "**#4.2 Random Forest Regression**\n"
      ],
      "metadata": {
        "id": "YOaKLPbHZigO"
      }
    },
    {
      "cell_type": "code",
      "source": [
        "# Preparing the data\n",
        "X = df.drop('total_price', axis=1)  # Independent variables\n",
        "y = df['total_price']  # Dependent variable (target)\n",
        "\n",
        "# Creating and fitting the Random Forest model\n",
        "random_forest = RandomForestRegressor(n_estimators=100)\n",
        "random_forest.fit(X, y)\n",
        "\n",
        "# Extracting feature importances\n",
        "feature_importances = random_forest.feature_importances_\n",
        "features = X.columns\n",
        "rf_importances = pd.Series(feature_importances, index=features).sort_values(ascending=False)\n",
        "\n",
        "# Plotting feature importances\n",
        "plt.figure(figsize=(10, 6))\n",
        "sns.barplot(x=rf_importances, y=rf_importances.index)\n",
        "plt.title(\"Feature Importance using Random Forest\")\n",
        "plt.xlabel(\"Importance\")\n",
        "plt.ylabel(\"Features\")\n",
        "plt.show()"
      ],
      "metadata": {
        "colab": {
          "base_uri": "https://localhost:8080/",
          "height": 564
        },
        "id": "wbl9LcLzQm_x",
        "outputId": "69caccfe-8594-40b8-b560-db30c9cb9fdb"
      },
      "execution_count": 150,
      "outputs": [
        {
          "output_type": "display_data",
          "data": {
            "text/plain": [
              "<Figure size 1000x600 with 1 Axes>"
            ],
            "image/png": "[encoded data removed]"
          },
          "metadata": {}
        }
      ]
    },
    {
      "cell_type": "markdown",
      "source": [
        "**#4.3 LASSO Regression**\n"
      ],
      "metadata": {
        "id": "GQE9wV4WZYjR"
      }
    },
    {
      "cell_type": "code",
      "source": [
        "# Preparing the data\n",
        "X = df.drop('total_price', axis=1)  # Independent variables\n",
        "y = df['total_price']  # Dependent variable (target)\n",
        "\n",
        "# Lasso Regression with cross-validation to find the best alpha\n",
        "lasso = LassoCV(cv=5, random_state=0)\n",
        "lasso.fit(X, y)\n",
        "\n",
        "# Plotting the Lasso coefficients\n",
        "plt.figure(figsize=(10, 6))\n",
        "plt.plot(range(len(X.columns)), lasso.coef_)\n",
        "plt.xticks(range(len(X.columns)), X.columns, rotation=45)\n",
        "plt.ylabel('Coefficients')\n",
        "plt.title('Lasso Regression Coefficients')\n",
        "plt.show()"
      ],
      "metadata": {
        "colab": {
          "base_uri": "https://localhost:8080/",
          "height": 626
        },
        "id": "7hwztr37R-lA",
        "outputId": "8c3bb21a-0bdb-4737-c3d7-29283b67aaae"
      },
      "execution_count": 151,
      "outputs": [
        {
          "output_type": "display_data",
          "data": {
            "text/plain": [
              "<Figure size 1000x600 with 1 Axes>"
            ],
            "image/png": "[encoded data removed]"
          },
          "metadata": {}
        }
      ]
    },
    {
      "cell_type": "markdown",
      "source": [
        "## **Q5. Which independent variables have missing data? How much?**\n",
        "Ans: There are no null values in the dataset. Hence, there are no missing data in any of the independent variables."
      ],
      "metadata": {
        "id": "uVXna1Q6fW8f"
      }
    },
    {
      "cell_type": "markdown",
      "source": [
        "Splitting the dataset for model training"
      ],
      "metadata": {
        "id": "ekWpXyZ8ZTHT"
      }
    },
    {
      "cell_type": "code",
      "source": [
        "# Splitting the dataset into training and testing sets\n",
        "X = df.drop('total_price', axis=1)\n",
        "y = df['total_price']\n",
        "X_train, X_test, y_train, y_test = train_test_split(X, y, test_size=0.2, random_state=42)"
      ],
      "metadata": {
        "id": "VCo0FoXnX6MC"
      },
      "execution_count": 153,
      "outputs": []
    },
    {
      "cell_type": "markdown",
      "source": [
        "## **Q6. Do the training and test sets have the same data?**\n",
        "No, the tarining and testing dataset does not have the same data."
      ],
      "metadata": {
        "id": "eYzQz5mDgEFF"
      }
    },
    {
      "cell_type": "markdown",
      "source": [
        "## **Q7. In the predictor variables independent of all the other predictor variables?**\n",
        "Ans: No, not all the predictor variables are not independent of all other predictor variables. For example, pizza_name_id is dependent on the pizza_name and pizza_size column. Similarly, order_time and order_date are dependent on each other"
      ],
      "metadata": {
        "id": "WjFknJj0ji-P"
      }
    },
    {
      "cell_type": "markdown",
      "source": [
        "## **Q8. Which predictor variables are the most important?**\n",
        "Ans: According to the outputs of the above three methods used in predicting the target variable, **quantity **and** the unit_price** are the most important predictor variables.\n",
        "As the total_price will change according to the quantity of the pizza and prize of each pizza. Hence, unit_price and quantity are the most important predictor variables."
      ],
      "metadata": {
        "id": "btexu8AZgk0q"
      }
    },
    {
      "cell_type": "markdown",
      "source": [
        "## **Q9. Do the ranges of the predictor variables make sense?**"
      ],
      "metadata": {
        "id": "H1HwuvhRh9eR"
      }
    },
    {
      "cell_type": "code",
      "source": [
        "df.describe()"
      ],
      "metadata": {
        "colab": {
          "base_uri": "https://localhost:8080/",
          "height": 320
        },
        "id": "hZXCwh_qh724",
        "outputId": "eb3be0d1-954d-461c-8380-f2a5c6967a83"
      },
      "execution_count": 237,
      "outputs": [
        {
          "output_type": "execute_result",
          "data": {
            "text/plain": [
              "           pizza_id      order_id  pizza_name_id      quantity    order_date  \\\n",
              "count  48620.000000  48620.000000   48620.000000  48620.000000  48620.000000   \n",
              "mean   24310.500000  10701.479761    1552.243994      1.019622      2.934369   \n",
              "std    14035.529381   6180.119770     932.947049      0.143077      2.033692   \n",
              "min        1.000000      1.000000       0.000000      1.000000      0.000000   \n",
              "25%    12155.750000   5337.000000     702.000000      1.000000      1.000000   \n",
              "50%    24310.500000  10682.500000    1502.000000      1.000000      3.000000   \n",
              "75%    36465.250000  16100.000000    2302.000000      1.000000      5.000000   \n",
              "max    48620.000000  21350.000000    3102.000000      4.000000      6.000000   \n",
              "\n",
              "         order_time    unit_price   total_price    pizza_size  pizza_category  \\\n",
              "count  48620.000000  48620.000000  48620.000000  48620.000000    48620.000000   \n",
              "mean      15.911806     16.494132     16.821474      0.933834        1.490745   \n",
              "std        3.149836      3.621789      4.437398      0.846981        1.079711   \n",
              "min        9.000000      9.750000      9.750000      0.000000        0.000000   \n",
              "25%       13.000000     12.750000     12.750000      0.000000        1.000000   \n",
              "50%       16.000000     16.500000     16.500000      1.000000        1.000000   \n",
              "75%       18.000000     20.250000     20.500000      2.000000        2.000000   \n",
              "max       23.000000     35.950000     83.000000      4.000000        3.000000   \n",
              "\n",
              "       pizza_ingredients    pizza_name  \n",
              "count       48620.000000  48620.000000  \n",
              "mean         1704.109255     15.513102  \n",
              "std           517.757133      9.330179  \n",
              "min           480.000000      0.000000  \n",
              "25%          1406.000000      7.000000  \n",
              "50%          1811.000000     15.000000  \n",
              "75%          2302.000000     23.000000  \n",
              "max          2416.000000     31.000000  "
            ],
            "text/html": [
              "\n",
              "  <div id=\"df-8fe3806e-faf5-41b2-ae98-de2d7fd52e4c\" class=\"colab-df-container\">\n",
              "    <div>\n",
              "<style scoped>\n",
              "    .dataframe tbody tr th:only-of-type {\n",
              "        vertical-align: middle;\n",
              "    }\n",
              "\n",
              "    .dataframe tbody tr th {\n",
              "        vertical-align: top;\n",
              "    }\n",
              "\n",
              "    .dataframe thead th {\n",
              "        text-align: right;\n",
              "    }\n",
              "</style>\n",
              "<table border=\"1\" class=\"dataframe\">\n",
              "  <thead>\n",
              "    <tr style=\"text-align: right;\">\n",
              "      <th></th>\n",
              "      <th>pizza_id</th>\n",
              "      <th>order_id</th>\n",
              "      <th>pizza_name_id</th>\n",
              "      <th>quantity</th>\n",
              "      <th>order_date</th>\n",
              "      <th>order_time</th>\n",
              "      <th>unit_price</th>\n",
              "      <th>total_price</th>\n",
              "      <th>pizza_size</th>\n",
              "      <th>pizza_category</th>\n",
              "      <th>pizza_ingredients</th>\n",
              "      <th>pizza_name</th>\n",
              "    </tr>\n",
              "  </thead>\n",
              "  <tbody>\n",
              "    <tr>\n",
              "      <th>count</th>\n",
              "      <td>48620.000000</td>\n",
              "      <td>48620.000000</td>\n",
              "      <td>48620.000000</td>\n",
              "      <td>48620.000000</td>\n",
              "      <td>48620.000000</td>\n",
              "      <td>48620.000000</td>\n",
              "      <td>48620.000000</td>\n",
              "      <td>48620.000000</td>\n",
              "      <td>48620.000000</td>\n",
              "      <td>48620.000000</td>\n",
              "      <td>48620.000000</td>\n",
              "      <td>48620.000000</td>\n",
              "    </tr>\n",
              "    <tr>\n",
              "      <th>mean</th>\n",
              "      <td>24310.500000</td>\n",
              "      <td>10701.479761</td>\n",
              "      <td>1552.243994</td>\n",
              "      <td>1.019622</td>\n",
              "      <td>2.934369</td>\n",
              "      <td>15.911806</td>\n",
              "      <td>16.494132</td>\n",
              "      <td>16.821474</td>\n",
              "      <td>0.933834</td>\n",
              "      <td>1.490745</td>\n",
              "      <td>1704.109255</td>\n",
              "      <td>15.513102</td>\n",
              "    </tr>\n",
              "    <tr>\n",
              "      <th>std</th>\n",
              "      <td>14035.529381</td>\n",
              "      <td>6180.119770</td>\n",
              "      <td>932.947049</td>\n",
              "      <td>0.143077</td>\n",
              "      <td>2.033692</td>\n",
              "      <td>3.149836</td>\n",
              "      <td>3.621789</td>\n",
              "      <td>4.437398</td>\n",
              "      <td>0.846981</td>\n",
              "      <td>1.079711</td>\n",
              "      <td>517.757133</td>\n",
              "      <td>9.330179</td>\n",
              "    </tr>\n",
              "    <tr>\n",
              "      <th>min</th>\n",
              "      <td>1.000000</td>\n",
              "      <td>1.000000</td>\n",
              "      <td>0.000000</td>\n",
              "      <td>1.000000</td>\n",
              "      <td>0.000000</td>\n",
              "      <td>9.000000</td>\n",
              "      <td>9.750000</td>\n",
              "      <td>9.750000</td>\n",
              "      <td>0.000000</td>\n",
              "      <td>0.000000</td>\n",
              "      <td>480.000000</td>\n",
              "      <td>0.000000</td>\n",
              "    </tr>\n",
              "    <tr>\n",
              "      <th>25%</th>\n",
              "      <td>12155.750000</td>\n",
              "      <td>5337.000000</td>\n",
              "      <td>702.000000</td>\n",
              "      <td>1.000000</td>\n",
              "      <td>1.000000</td>\n",
              "      <td>13.000000</td>\n",
              "      <td>12.750000</td>\n",
              "      <td>12.750000</td>\n",
              "      <td>0.000000</td>\n",
              "      <td>1.000000</td>\n",
              "      <td>1406.000000</td>\n",
              "      <td>7.000000</td>\n",
              "    </tr>\n",
              "    <tr>\n",
              "      <th>50%</th>\n",
              "      <td>24310.500000</td>\n",
              "      <td>10682.500000</td>\n",
              "      <td>1502.000000</td>\n",
              "      <td>1.000000</td>\n",
              "      <td>3.000000</td>\n",
              "      <td>16.000000</td>\n",
              "      <td>16.500000</td>\n",
              "      <td>16.500000</td>\n",
              "      <td>1.000000</td>\n",
              "      <td>1.000000</td>\n",
              "      <td>1811.000000</td>\n",
              "      <td>15.000000</td>\n",
              "    </tr>\n",
              "    <tr>\n",
              "      <th>75%</th>\n",
              "      <td>36465.250000</td>\n",
              "      <td>16100.000000</td>\n",
              "      <td>2302.000000</td>\n",
              "      <td>1.000000</td>\n",
              "      <td>5.000000</td>\n",
              "      <td>18.000000</td>\n",
              "      <td>20.250000</td>\n",
              "      <td>20.500000</td>\n",
              "      <td>2.000000</td>\n",
              "      <td>2.000000</td>\n",
              "      <td>2302.000000</td>\n",
              "      <td>23.000000</td>\n",
              "    </tr>\n",
              "    <tr>\n",
              "      <th>max</th>\n",
              "      <td>48620.000000</td>\n",
              "      <td>21350.000000</td>\n",
              "      <td>3102.000000</td>\n",
              "      <td>4.000000</td>\n",
              "      <td>6.000000</td>\n",
              "      <td>23.000000</td>\n",
              "      <td>35.950000</td>\n",
              "      <td>83.000000</td>\n",
              "      <td>4.000000</td>\n",
              "      <td>3.000000</td>\n",
              "      <td>2416.000000</td>\n",
              "      <td>31.000000</td>\n",
              "    </tr>\n",
              "  </tbody>\n",
              "</table>\n",
              "</div>\n",
              "    <div class=\"colab-df-buttons\">\n",
              "\n",
              "  <div class=\"colab-df-container\">\n",
              "    <button class=\"colab-df-convert\" onclick=\"convertToInteractive('df-8fe3806e-faf5-41b2-ae98-de2d7fd52e4c')\"\n",
              "            title=\"Convert this dataframe to an interactive table.\"\n",
              "            style=\"display:none;\">\n",
              "\n",
              "  <svg xmlns=\"http://www.w3.org/2000/svg\" height=\"24px\" viewBox=\"0 -960 960 960\">\n",
              "    <path d=\"M120-120v-720h720v720H120Zm60-500h600v-160H180v160Zm220 220h160v-160H400v160Zm0 220h160v-160H400v160ZM180-400h160v-160H180v160Zm440 0h160v-160H620v160ZM180-180h160v-160H180v160Zm440 0h160v-160H620v160Z\"/>\n",
              "  </svg>\n",
              "    </button>\n",
              "\n",
              "  <style>\n",
              "    .colab-df-container {\n",
              "      display:flex;\n",
              "      gap: 12px;\n",
              "    }\n",
              "\n",
              "    .colab-df-convert {\n",
              "      background-color: #E8F0FE;\n",
              "      border: none;\n",
              "      border-radius: 50%;\n",
              "      cursor: pointer;\n",
              "      display: none;\n",
              "      fill: #1967D2;\n",
              "      height: 32px;\n",
              "      padding: 0 0 0 0;\n",
              "      width: 32px;\n",
              "    }\n",
              "\n",
              "    .colab-df-convert:hover {\n",
              "      background-color: #E2EBFA;\n",
              "      box-shadow: 0px 1px 2px rgba(60, 64, 67, 0.3), 0px 1px 3px 1px rgba(60, 64, 67, 0.15);\n",
              "      fill: #174EA6;\n",
              "    }\n",
              "\n",
              "    .colab-df-buttons div {\n",
              "      margin-bottom: 4px;\n",
              "    }\n",
              "\n",
              "    [theme=dark] .colab-df-convert {\n",
              "      background-color: #3B4455;\n",
              "      fill: #D2E3FC;\n",
              "    }\n",
              "\n",
              "    [theme=dark] .colab-df-convert:hover {\n",
              "      background-color: #434B5C;\n",
              "      box-shadow: 0px 1px 3px 1px rgba(0, 0, 0, 0.15);\n",
              "      filter: drop-shadow(0px 1px 2px rgba(0, 0, 0, 0.3));\n",
              "      fill: #FFFFFF;\n",
              "    }\n",
              "  </style>\n",
              "\n",
              "    <script>\n",
              "      const buttonEl =\n",
              "        document.querySelector('#df-8fe3806e-faf5-41b2-ae98-de2d7fd52e4c button.colab-df-convert');\n",
              "      buttonEl.style.display =\n",
              "        google.colab.kernel.accessAllowed ? 'block' : 'none';\n",
              "\n",
              "      async function convertToInteractive(key) {\n",
              "        const element = document.querySelector('#df-8fe3806e-faf5-41b2-ae98-de2d7fd52e4c');\n",
              "        const dataTable =\n",
              "          await google.colab.kernel.invokeFunction('convertToInteractive',\n",
              "                                                    [key], {});\n",
              "        if (!dataTable) return;\n",
              "\n",
              "        const docLinkHtml = 'Like what you see? Visit the ' +\n",
              "          '<a target=\"_blank\" href=https://colab.research.google.com/notebooks/data_table.ipynb>data table notebook</a>'\n",
              "          + ' to learn more about interactive tables.';\n",
              "        element.innerHTML = '';\n",
              "        dataTable['output_type'] = 'display_data';\n",
              "        await google.colab.output.renderOutput(dataTable, element);\n",
              "        const docLink = document.createElement('div');\n",
              "        docLink.innerHTML = docLinkHtml;\n",
              "        element.appendChild(docLink);\n",
              "      }\n",
              "    </script>\n",
              "  </div>\n",
              "\n",
              "\n",
              "<div id=\"df-1d78ffa2-7206-4944-9234-a83247d43755\">\n",
              "  <button class=\"colab-df-quickchart\" onclick=\"quickchart('df-1d78ffa2-7206-4944-9234-a83247d43755')\"\n",
              "            title=\"Suggest charts\"\n",
              "            style=\"display:none;\">\n",
              "\n",
              "<svg xmlns=\"http://www.w3.org/2000/svg\" height=\"24px\"viewBox=\"0 0 24 24\"\n",
              "     width=\"24px\">\n",
              "    <g>\n",
              "        <path d=\"M19 3H5c-1.1 0-2 .9-2 2v14c0 1.1.9 2 2 2h14c1.1 0 2-.9 2-2V5c0-1.1-.9-2-2-2zM9 17H7v-7h2v7zm4 0h-2V7h2v10zm4 0h-2v-4h2v4z\"/>\n",
              "    </g>\n",
              "</svg>\n",
              "  </button>\n",
              "\n",
              "<style>\n",
              "  .colab-df-quickchart {\n",
              "      --bg-color: #E8F0FE;\n",
              "      --fill-color: #1967D2;\n",
              "      --hover-bg-color: #E2EBFA;\n",
              "      --hover-fill-color: #174EA6;\n",
              "      --disabled-fill-color: #AAA;\n",
              "      --disabled-bg-color: #DDD;\n",
              "  }\n",
              "\n",
              "  [theme=dark] .colab-df-quickchart {\n",
              "      --bg-color: #3B4455;\n",
              "      --fill-color: #D2E3FC;\n",
              "      --hover-bg-color: #434B5C;\n",
              "      --hover-fill-color: #FFFFFF;\n",
              "      --disabled-bg-color: #3B4455;\n",
              "      --disabled-fill-color: #666;\n",
              "  }\n",
              "\n",
              "  .colab-df-quickchart {\n",
              "    background-color: var(--bg-color);\n",
              "    border: none;\n",
              "    border-radius: 50%;\n",
              "    cursor: pointer;\n",
              "    display: none;\n",
              "    fill: var(--fill-color);\n",
              "    height: 32px;\n",
              "    padding: 0;\n",
              "    width: 32px;\n",
              "  }\n",
              "\n",
              "  .colab-df-quickchart:hover {\n",
              "    background-color: var(--hover-bg-color);\n",
              "    box-shadow: 0 1px 2px rgba(60, 64, 67, 0.3), 0 1px 3px 1px rgba(60, 64, 67, 0.15);\n",
              "    fill: var(--button-hover-fill-color);\n",
              "  }\n",
              "\n",
              "  .colab-df-quickchart-complete:disabled,\n",
              "  .colab-df-quickchart-complete:disabled:hover {\n",
              "    background-color: var(--disabled-bg-color);\n",
              "    fill: var(--disabled-fill-color);\n",
              "    box-shadow: none;\n",
              "  }\n",
              "\n",
              "  .colab-df-spinner {\n",
              "    border: 2px solid var(--fill-color);\n",
              "    border-color: transparent;\n",
              "    border-bottom-color: var(--fill-color);\n",
              "    animation:\n",
              "      spin 1s steps(1) infinite;\n",
              "  }\n",
              "\n",
              "  @keyframes spin {\n",
              "    0% {\n",
              "      border-color: transparent;\n",
              "      border-bottom-color: var(--fill-color);\n",
              "      border-left-color: var(--fill-color);\n",
              "    }\n",
              "    20% {\n",
              "      border-color: transparent;\n",
              "      border-left-color: var(--fill-color);\n",
              "      border-top-color: var(--fill-color);\n",
              "    }\n",
              "    30% {\n",
              "      border-color: transparent;\n",
              "      border-left-color: var(--fill-color);\n",
              "      border-top-color: var(--fill-color);\n",
              "      border-right-color: var(--fill-color);\n",
              "    }\n",
              "    40% {\n",
              "      border-color: transparent;\n",
              "      border-right-color: var(--fill-color);\n",
              "      border-top-color: var(--fill-color);\n",
              "    }\n",
              "    60% {\n",
              "      border-color: transparent;\n",
              "      border-right-color: var(--fill-color);\n",
              "    }\n",
              "    80% {\n",
              "      border-color: transparent;\n",
              "      border-right-color: var(--fill-color);\n",
              "      border-bottom-color: var(--fill-color);\n",
              "    }\n",
              "    90% {\n",
              "      border-color: transparent;\n",
              "      border-bottom-color: var(--fill-color);\n",
              "    }\n",
              "  }\n",
              "</style>\n",
              "\n",
              "  <script>\n",
              "    async function quickchart(key) {\n",
              "      const quickchartButtonEl =\n",
              "        document.querySelector('#' + key + ' button');\n",
              "      quickchartButtonEl.disabled = true;  // To prevent multiple clicks.\n",
              "      quickchartButtonEl.classList.add('colab-df-spinner');\n",
              "      try {\n",
              "        const charts = await google.colab.kernel.invokeFunction(\n",
              "            'suggestCharts', [key], {});\n",
              "      } catch (error) {\n",
              "        console.error('Error during call to suggestCharts:', error);\n",
              "      }\n",
              "      quickchartButtonEl.classList.remove('colab-df-spinner');\n",
              "      quickchartButtonEl.classList.add('colab-df-quickchart-complete');\n",
              "    }\n",
              "    (() => {\n",
              "      let quickchartButtonEl =\n",
              "        document.querySelector('#df-1d78ffa2-7206-4944-9234-a83247d43755 button');\n",
              "      quickchartButtonEl.style.display =\n",
              "        google.colab.kernel.accessAllowed ? 'block' : 'none';\n",
              "    })();\n",
              "  </script>\n",
              "</div>\n",
              "\n",
              "    </div>\n",
              "  </div>\n"
            ]
          },
          "metadata": {},
          "execution_count": 237
        }
      ]
    },
    {
      "cell_type": "markdown",
      "source": [
        "Scanning through the min and max values of each column we can infere that there are no negative values in any of the columns. Hence, the range of the predictor variables make full sense."
      ],
      "metadata": {
        "id": "j19y7nA3ilYd"
      }
    },
    {
      "cell_type": "markdown",
      "source": [
        "## **MODEL TRAINING FOR ORIGINAL DATASET**"
      ],
      "metadata": {
        "id": "cbAWuES0b2rW"
      }
    },
    {
      "cell_type": "markdown",
      "source": [
        "## **Linear Refression model**"
      ],
      "metadata": {
        "id": "2nPXtQHeZF8W"
      }
    },
    {
      "cell_type": "code",
      "source": [
        "linear_reg = LinearRegression()\n",
        "linear_reg.fit(X_train, y_train)\n",
        "\n",
        "# Predicting and evaluating the model\n",
        "y_pred_linear = linear_reg.predict(X_test)\n",
        "mse_linear = mean_squared_error(y_test, y_pred_linear)\n",
        "rmse_linear = np.sqrt(mse_linear)\n",
        "\n",
        "# Returning Mean Squared Error and Root Mean Squared Error for Random Forest Regressor Model\n",
        "print(\"Mean Squraed Error:\",mse_linear)\n",
        "print(\"Root Mean Squared Error: \",rmse_linear)"
      ],
      "metadata": {
        "colab": {
          "base_uri": "https://localhost:8080/"
        },
        "id": "jvok24h6X-qh",
        "outputId": "d037b659-77dc-4723-e307-b70170193cec"
      },
      "execution_count": 154,
      "outputs": [
        {
          "output_type": "execute_result",
          "data": {
            "text/plain": [
              "(0.31097606859529886, 0.5576522828746412)"
            ]
          },
          "metadata": {},
          "execution_count": 154
        }
      ]
    },
    {
      "cell_type": "markdown",
      "source": [
        "## **Random Forest Regressor Model**"
      ],
      "metadata": {
        "id": "YgM9W-RrZLyi"
      }
    },
    {
      "cell_type": "code",
      "source": [
        "random_forest_reg = RandomForestRegressor(n_estimators=100, random_state=42)\n",
        "random_forest_reg.fit(X_train, y_train)\n",
        "\n",
        "# Predicting and evaluating the model\n",
        "y_pred_rf = random_forest_reg.predict(X_test)\n",
        "mse_rf = mean_squared_error(y_test, y_pred_rf)\n",
        "rmse_rf = np.sqrt(mse_rf)\n",
        "\n",
        "# Returning Mean Squared Error and Root Mean Squared Error for Random Forest Regressor Model\n",
        "print(\"Mean Squraed Error:\",mse_rf)\n",
        "print(\"Root Mean Squared Error: \",rmse_rf)"
      ],
      "metadata": {
        "colab": {
          "base_uri": "https://localhost:8080/"
        },
        "id": "8zTiMP_LYa9u",
        "outputId": "613176bc-4f57-4434-ee42-db2344624df3"
      },
      "execution_count": 155,
      "outputs": [
        {
          "output_type": "execute_result",
          "data": {
            "text/plain": [
              "(0.006096958350473061, 0.07808302216534053)"
            ]
          },
          "metadata": {},
          "execution_count": 155
        }
      ]
    },
    {
      "cell_type": "markdown",
      "source": [
        "## **Gradient Boosting Regressor Model**"
      ],
      "metadata": {
        "id": "Kjhf5IVbb-fl"
      }
    },
    {
      "cell_type": "code",
      "source": [
        "gradient_boosting_reg = GradientBoostingRegressor(n_estimators=100, random_state=42)\n",
        "gradient_boosting_reg.fit(X_train, y_train)\n",
        "\n",
        "# Predicting and evaluating the model\n",
        "y_pred_gb = gradient_boosting_reg.predict(X_test)\n",
        "mse_gb = mean_squared_error(y_test, y_pred_gb)\n",
        "rmse_gb = np.sqrt(mse_gb)\n",
        "\n",
        "# Returning Mean Squared Error and Root Mean Squared Error for Random Forest Regressor Model\n",
        "print(\"Mean Squraed Error:\",mse_gb)\n",
        "print(\"Root Mean Squared Error: \",rmse_gb)"
      ],
      "metadata": {
        "colab": {
          "base_uri": "https://localhost:8080/"
        },
        "id": "GPHADfWkYnyu",
        "outputId": "7149799b-edff-4172-f34d-a819fc9d14a4"
      },
      "execution_count": 156,
      "outputs": [
        {
          "output_type": "execute_result",
          "data": {
            "text/plain": [
              "(0.002767579582471226, 0.052607790131036926)"
            ]
          },
          "metadata": {},
          "execution_count": 156
        }
      ]
    },
    {
      "cell_type": "markdown",
      "source": [
        "## **Q10. Remove outliers and keep outliers (does if have an effect of the final predictive model)?**"
      ],
      "metadata": {
        "id": "G-fRkTcSknOw"
      }
    },
    {
      "cell_type": "markdown",
      "source": [
        "## **DETECTING, COUNTING AND REMOVING THE OUTLIERS**"
      ],
      "metadata": {
        "id": "D8Z51ZmFcI5h"
      }
    },
    {
      "cell_type": "code",
      "source": [
        "# Exclude 'total_price' column\n",
        "numeric_columns = df.select_dtypes(include=['int64', 'float64']).columns\n",
        "numeric_columns = numeric_columns.drop(['total_price'])  # Remove 'total_price'\n",
        "\n",
        "# Detect and count outliers for each numeric column\n",
        "outliers_count = {}\n",
        "\n",
        "# Create a copy of the DataFrame with outliers removed\n",
        "df_cleaned = df.copy()\n",
        "\n",
        "# Detect and remove outliers for each numeric column\n",
        "for column in numeric_columns:\n",
        "    Q1 = df[column].quantile(0.25)\n",
        "    Q3 = df[column].quantile(0.75)\n",
        "    IQR = Q3 - Q1\n",
        "    lower_bound = Q1 - 1.5 * IQR\n",
        "    upper_bound = Q3 + 1.5 * IQR\n",
        "    outliers = df[(df[column] < lower_bound) | (df[column] > upper_bound)]\n",
        "    outliers_count[column] = len(outliers)\n",
        "    df_cleaned = df_cleaned[(df_cleaned[column] >= lower_bound) & (df_cleaned[column] <= upper_bound)]\n",
        "\n",
        "# Print the number of outliers removed for each column\n",
        "for column, count in outliers_count.items():\n",
        "    print(f'Outliers removed in {column}: {count}')\n",
        "\n",
        "# df_cleaned now contains the DataFrame with outliers removed"
      ],
      "metadata": {
        "colab": {
          "base_uri": "https://localhost:8080/"
        },
        "id": "BQOVBOkmawcC",
        "outputId": "bb681fcc-5ee1-42d3-b32a-773faadf8326"
      },
      "execution_count": 167,
      "outputs": [
        {
          "output_type": "stream",
          "name": "stdout",
          "text": [
            "Outliers removed in pizza_name_id: 0\n",
            "Outliers removed in quantity: 927\n",
            "Outliers removed in order_date: 0\n",
            "Outliers removed in order_time: 0\n",
            "Outliers removed in unit_price: 28\n",
            "Outliers removed in pizza_size: 0\n",
            "Outliers removed in pizza_category: 0\n",
            "Outliers removed in pizza_ingredients: 0\n",
            "Outliers removed in pizza_name: 0\n"
          ]
        }
      ]
    },
    {
      "cell_type": "code",
      "source": [
        "# Exclude 'total_price' column\n",
        "numeric_columns = df_cleaned.select_dtypes(include=['int64', 'float64']).columns\n",
        "numeric_columns = numeric_columns.drop(['total_price'])  # Remove 'total_price'\n",
        "\n",
        "# Dictionary to store outlier counts for each column\n",
        "outlier_counts = {}\n",
        "\n",
        "# Detect and count outliers for each numeric column\n",
        "for column in numeric_columns:\n",
        "    Q1 = df_cleaned[column].quantile(0.25)\n",
        "    Q3 = df_cleaned[column].quantile(0.75)\n",
        "    IQR = Q3 - Q1\n",
        "    lower_bound = Q1 - 1.5 * IQR\n",
        "    upper_bound = Q3 + 1.5 * IQR\n",
        "    outliers = df_cleaned[(df_cleaned[column] < lower_bound) | (df_cleaned[column] > upper_bound)]\n",
        "    outlier_counts[column] = len(outliers)\n",
        "    print(f'Outliers in {column}: {len(outliers)}')\n",
        "\n",
        "# Print the outlier counts for each column\n",
        "for column, count in outlier_counts.items():\n",
        "    print(f'Outliers in {column}: {count}')"
      ],
      "metadata": {
        "colab": {
          "base_uri": "https://localhost:8080/"
        },
        "id": "bphSjNf4a0S3",
        "outputId": "79f599de-db49-40a8-ad46-a257591fd97a"
      },
      "execution_count": 168,
      "outputs": [
        {
          "output_type": "stream",
          "name": "stdout",
          "text": [
            "Outliers in pizza_name_id: 0\n",
            "Outliers in quantity: 0\n",
            "Outliers in order_date: 0\n",
            "Outliers in order_time: 0\n",
            "Outliers in unit_price: 0\n",
            "Outliers in pizza_size: 0\n",
            "Outliers in pizza_category: 0\n",
            "Outliers in pizza_ingredients: 0\n",
            "Outliers in pizza_name: 0\n",
            "Outliers in pizza_name_id: 0\n",
            "Outliers in quantity: 0\n",
            "Outliers in order_date: 0\n",
            "Outliers in order_time: 0\n",
            "Outliers in unit_price: 0\n",
            "Outliers in pizza_size: 0\n",
            "Outliers in pizza_category: 0\n",
            "Outliers in pizza_ingredients: 0\n",
            "Outliers in pizza_name: 0\n"
          ]
        }
      ]
    },
    {
      "cell_type": "markdown",
      "source": [
        "## **SPLITTING OF DATA AND LINEAR REGRESSION MODEL FOR THE CLEANED DATASET**"
      ],
      "metadata": {
        "id": "qNqHePrBYoHa"
      }
    },
    {
      "cell_type": "code",
      "source": [
        "# Splitting the dataset into training and testing sets\n",
        "X = df_cleaned.drop('total_price', axis=1)\n",
        "y = df_cleaned['total_price']\n",
        "X_train, X_test, y_train, y_test = train_test_split(X, y, test_size=0.2, random_state=42)\n",
        "\n",
        "#Linear Refression model for df_cleaned\n",
        "linear_reg = LinearRegression()\n",
        "linear_reg.fit(X_train, y_train)\n",
        "\n",
        "# Predicting and evaluating the model\n",
        "y_pred_linear = linear_reg.predict(X_test)\n",
        "mse_linear = mean_squared_error(y_test, y_pred_linear)\n",
        "rmse_linear = np.sqrt(mse_linear)\n",
        "\n",
        "# Returning Mean Squared Error and Root Mean Squared Error for Random Forest Regressor Model\n",
        "print(\"Mean Squraed Error:\",mse_linear)\n",
        "print(\"Root Mean Squared Error: \",rmse_linear)"
      ],
      "metadata": {
        "colab": {
          "base_uri": "https://localhost:8080/"
        },
        "id": "rsxIe12ywnaM",
        "outputId": "89bad2e5-9153-4578-e0a9-7c2faaf34c0a"
      },
      "execution_count": 169,
      "outputs": [
        {
          "output_type": "execute_result",
          "data": {
            "text/plain": [
              "(7.242691431126186e-29, 8.510400361396745e-15)"
            ]
          },
          "metadata": {},
          "execution_count": 169
        }
      ]
    },
    {
      "cell_type": "markdown",
      "source": [
        "## **Random Forest Regressor Model for cleaned data**"
      ],
      "metadata": {
        "id": "pqjsJDKxYVmy"
      }
    },
    {
      "cell_type": "code",
      "source": [
        "#Random Forest Regression for df_cleaned\n",
        "random_forest_reg = RandomForestRegressor(n_estimators=100, random_state=42)\n",
        "random_forest_reg.fit(X_train, y_train)\n",
        "\n",
        "# Predicting and evaluating the model\n",
        "y_pred_rf = random_forest_reg.predict(X_test)\n",
        "mse_rf = mean_squared_error(y_test, y_pred_rf)\n",
        "rmse_rf = np.sqrt(mse_rf)\n",
        "\n",
        "# Returning Mean Squared Error and Root Mean Squared Error for Random Forest Regressor Model\n",
        "print(\"Mean Squraed Error:\",mse_rf)\n",
        "print(\"Root Mean Squared Error: \",rmse_rf)"
      ],
      "metadata": {
        "colab": {
          "base_uri": "https://localhost:8080/"
        },
        "id": "Ctx4Jgh9y1r5",
        "outputId": "db6ea496-025a-4a50-8f5a-9c8d7a68facb"
      },
      "execution_count": 170,
      "outputs": [
        {
          "output_type": "execute_result",
          "data": {
            "text/plain": [
              "(1.2106073113417931e-28, 1.1002760159804417e-14)"
            ]
          },
          "metadata": {},
          "execution_count": 170
        }
      ]
    },
    {
      "cell_type": "markdown",
      "source": [
        "## **GRADIENT BOOSTING MODEL FOR THE CLEANED DATA**"
      ],
      "metadata": {
        "id": "Sg7ruRKpYMrd"
      }
    },
    {
      "cell_type": "code",
      "source": [
        "#Gradient Boosting for df_cleaned\n",
        "gradient_boosting_reg = GradientBoostingRegressor(n_estimators=100, random_state=42)\n",
        "gradient_boosting_reg.fit(X_train, y_train)\n",
        "\n",
        "# Predicting and evaluating the model\n",
        "y_pred_gb = gradient_boosting_reg.predict(X_test)\n",
        "mse_gb = mean_squared_error(y_test, y_pred_gb)\n",
        "rmse_gb = np.sqrt(mse_gb)\n",
        "\n",
        "# Returning Mean Squared Error and Root Mean Squared Error for Random Forest Regressor Model\n",
        "print(\"Mean Squraed Error:\",mse_gb)\n",
        "print(\"Root Mean Squared Error: \",rmse_gb)"
      ],
      "metadata": {
        "colab": {
          "base_uri": "https://localhost:8080/"
        },
        "id": "1H2IC-IXyllI",
        "outputId": "f350adc7-3118-4edc-c433-84847f358bfa"
      },
      "execution_count": 171,
      "outputs": [
        {
          "output_type": "execute_result",
          "data": {
            "text/plain": [
              "(2.8813378310051824e-08, 0.0001697450391323759)"
            ]
          },
          "metadata": {},
          "execution_count": 171
        }
      ]
    },
    {
      "cell_type": "markdown",
      "source": [
        "## **Q11. Remove 1%, 5%, and 10% of your data randomly and impute the values back using at least 3 imputation methods. How well did the methods recover the missing values?  That is remove some data, check the % error on residuals for numeric data and check for bias and variance of the error.**"
      ],
      "metadata": {
        "id": "FpoHGohtcjnL"
      }
    },
    {
      "cell_type": "markdown",
      "source": [
        "## **FOR REMOVING AND IMPUTATION 1% OF DATA**"
      ],
      "metadata": {
        "id": "BiV_9jwjcprp"
      }
    },
    {
      "cell_type": "markdown",
      "source": [
        "# **MEAN FOR 1%**"
      ],
      "metadata": {
        "id": "E_J7vzA5YGRK"
      }
    },
    {
      "cell_type": "markdown",
      "source": [
        "Randomly remove 1% data for mean"
      ],
      "metadata": {
        "id": "Z_hDIExYYAzu"
      }
    },
    {
      "cell_type": "code",
      "source": [
        "# Make a copy of the DataFrame to work with\n",
        "df_copy = df.copy()\n",
        "\n",
        "# Remove 1% of data randomly from 'pizza_size' column\n",
        "n_to_remove = int(0.01 * len(df_copy))\n",
        "random_indices = np.random.choice(df_copy.index, size=n_to_remove, replace=False)\n",
        "df_copy.loc[random_indices, 'pizza_size'] = np.nan\n",
        "df_copy['pizza_size'].isnull().sum()"
      ],
      "metadata": {
        "id": "6ZotWpbAGRV8"
      },
      "execution_count": null,
      "outputs": []
    },
    {
      "cell_type": "markdown",
      "source": [
        "Imputing values by mean"
      ],
      "metadata": {
        "id": "Y1t7s-CRX36N"
      }
    },
    {
      "cell_type": "code",
      "source": [
        "mean_pizza_size = df_copy['pizza_size'].mean()\n",
        "df_copy['pizza_size'] = df_copy['pizza_size'].fillna(mean_pizza_size)\n",
        "df_copy['pizza_size'].isnull().sum()"
      ],
      "metadata": {
        "id": "nJci3e2vHBl3"
      },
      "execution_count": 178,
      "outputs": []
    },
    {
      "cell_type": "markdown",
      "source": [
        "RANDOM FOREST REGRESSION MODEL"
      ],
      "metadata": {
        "id": "M-4dYPM7Xxiy"
      }
    },
    {
      "cell_type": "code",
      "source": [
        "# Splitting the dataset into training and testing sets\n",
        "X = df_copy.drop('total_price', axis=1)\n",
        "y = df_copy['total_price']\n",
        "X_train, X_test, y_train, y_test = train_test_split(X, y, test_size=0.2, random_state=42)\n",
        "\n",
        "#Random Forest Regression for df_cleaned\n",
        "from sklearn.ensemble import RandomForestRegressor\n",
        "\n",
        "# Random Forest Regressor Model\n",
        "random_forest_reg = RandomForestRegressor(n_estimators=100, random_state=42)\n",
        "random_forest_reg.fit(X_train, y_train)\n",
        "\n",
        "# Predicting and evaluating the model\n",
        "y_pred_rf = random_forest_reg.predict(X_test)\n",
        "mse_rf = mean_squared_error(y_test, y_pred_rf)\n",
        "rmse_rf = np.sqrt(mse_rf)\n",
        "\n",
        "# Returning Mean Squared Error and Root Mean Squared Error for Random Forest Regressor Model\n",
        "print(\"Mean Squraed Error:\",mse_rf)\n",
        "print(\"Root Mean Squared Error: \",rmse_rf)"
      ],
      "metadata": {
        "colab": {
          "base_uri": "https://localhost:8080/"
        },
        "id": "FNe9wo2QHqo0",
        "outputId": "5f9cce59-5c7e-4d47-e5fd-0290cfac2516"
      },
      "execution_count": 180,
      "outputs": [
        {
          "output_type": "execute_result",
          "data": {
            "text/plain": [
              "(0.004880580548128338, 0.06986115192385778)"
            ]
          },
          "metadata": {},
          "execution_count": 180
        }
      ]
    },
    {
      "cell_type": "markdown",
      "source": [
        "## **MEDIAN FOR 1%**"
      ],
      "metadata": {
        "id": "Rw9h8qOFXo6P"
      }
    },
    {
      "cell_type": "markdown",
      "source": [
        "Randomly imputing 1% null values for meadian"
      ],
      "metadata": {
        "id": "f6q5dv56XgTk"
      }
    },
    {
      "cell_type": "code",
      "source": [
        "# Make a copy of the DataFrame to work with\n",
        "df_median1 = df.copy()\n",
        "\n",
        "# Remove 1% of data randomly from 'pizza_size' column\n",
        "n_to_remove = int(0.01 * len(df_median1))\n",
        "random_indices = np.random.choice(df_median1.index, size=n_to_remove, replace=False)\n",
        "df_median1.loc[random_indices, 'pizza_size'] = np.nan\n",
        "df_median1['pizza_size'].isnull().sum()"
      ],
      "metadata": {
        "colab": {
          "base_uri": "https://localhost:8080/"
        },
        "id": "htQNYIpYIF5W",
        "outputId": "fb83d70a-12b7-4cfd-adf6-ba6ce52dcc3f"
      },
      "execution_count": 189,
      "outputs": [
        {
          "output_type": "execute_result",
          "data": {
            "text/plain": [
              "486"
            ]
          },
          "metadata": {},
          "execution_count": 189
        }
      ]
    },
    {
      "cell_type": "markdown",
      "source": [
        "Imputing values by median for 1%"
      ],
      "metadata": {
        "id": "hjMrJknOXZxm"
      }
    },
    {
      "cell_type": "code",
      "source": [
        "median_pizza_size = df_copy['pizza_size'].median()\n",
        "df_median1['pizza_size'] = df_median1['pizza_size'].fillna(median_pizza_size)\n",
        "df_median1['pizza_size'].isnull().sum()"
      ],
      "metadata": {
        "colab": {
          "base_uri": "https://localhost:8080/"
        },
        "id": "mkgqiNF3IjHk",
        "outputId": "8410a675-4c24-4ebd-f8bb-75b04c801238"
      },
      "execution_count": 190,
      "outputs": [
        {
          "output_type": "execute_result",
          "data": {
            "text/plain": [
              "0"
            ]
          },
          "metadata": {},
          "execution_count": 190
        }
      ]
    },
    {
      "cell_type": "markdown",
      "source": [
        "Random Forest Regression Model"
      ],
      "metadata": {
        "id": "elacvazrXWWT"
      }
    },
    {
      "cell_type": "code",
      "source": [
        "# Splitting the dataset into training and testing sets\n",
        "X = df_median1.drop('total_price', axis=1)\n",
        "y = df_median1['total_price']\n",
        "X_train, X_test, y_train, y_test = train_test_split(X, y, test_size=0.2, random_state=42)\n",
        "\n",
        "#Random Forest Regression for df_cleaned\n",
        "random_forest_reg = RandomForestRegressor(n_estimators=100, random_state=42)\n",
        "random_forest_reg.fit(X_train, y_train)\n",
        "\n",
        "# Predicting and evaluating the model\n",
        "y_pred_rf = random_forest_reg.predict(X_test)\n",
        "mse_rf = mean_squared_error(y_test, y_pred_rf)\n",
        "rmse_rf = np.sqrt(mse_rf)\n",
        "\n",
        "# Returning Mean Squared Error and Root Mean Squared Error for Random Forest Regressor Model\n",
        "print(\"Mean Squraed Error:\",mse_rf)\n",
        "print(\"Root Mean Squared Error: \",rmse_rf)"
      ],
      "metadata": {
        "colab": {
          "base_uri": "https://localhost:8080/"
        },
        "id": "-W81RJyRI8BO",
        "outputId": "887ae528-b5ee-4c81-ff34-2b473d4703b3"
      },
      "execution_count": 191,
      "outputs": [
        {
          "output_type": "execute_result",
          "data": {
            "text/plain": [
              "(0.005772371040723979, 0.07597612151672378)"
            ]
          },
          "metadata": {},
          "execution_count": 191
        }
      ]
    },
    {
      "cell_type": "markdown",
      "source": [
        "## **MODE FOR 1%**"
      ],
      "metadata": {
        "id": "gB1_1rHzXOwI"
      }
    },
    {
      "cell_type": "markdown",
      "source": [
        "Remove 1% of data randomly from 'pizza_size' column for mode"
      ],
      "metadata": {
        "id": "FTmEmcZqXIoi"
      }
    },
    {
      "cell_type": "code",
      "source": [
        "# Make a copy of the DataFrame to work with\n",
        "df_mode1 = df.copy()\n",
        "\n",
        "# Remove 1% of data randomly from 'pizza_size' column\n",
        "n_to_remove = int(0.01 * len(df_mode1))\n",
        "random_indices = np.random.choice(df_mode1.index, size=n_to_remove, replace=False)\n",
        "df_mode1.loc[random_indices, 'pizza_size'] = np.nan\n",
        "df_mode1['pizza_size'].isnull().sum()"
      ],
      "metadata": {
        "colab": {
          "base_uri": "https://localhost:8080/"
        },
        "id": "a-zCBE0eJMMg",
        "outputId": "55c9582b-22ad-4194-ce64-1d6fcd47151e"
      },
      "execution_count": 184,
      "outputs": [
        {
          "output_type": "execute_result",
          "data": {
            "text/plain": [
              "486"
            ]
          },
          "metadata": {},
          "execution_count": 184
        }
      ]
    },
    {
      "cell_type": "markdown",
      "source": [
        "Imputing values by mode for 1%"
      ],
      "metadata": {
        "id": "T2xwyS2dXDws"
      }
    },
    {
      "cell_type": "code",
      "source": [
        "mode_pizza_size = df_mode1['pizza_size'].mode()[0]\n",
        "df_mode1['pizza_size'] = df_mode1['pizza_size'].fillna(mode_pizza_size)\n",
        "df_mode1['pizza_size'].isnull().sum()"
      ],
      "metadata": {
        "colab": {
          "base_uri": "https://localhost:8080/"
        },
        "id": "I5R-WZFCJgQ8",
        "outputId": "40d3a667-51ac-41c9-82e2-2e75b4cb84ad"
      },
      "execution_count": 187,
      "outputs": [
        {
          "output_type": "execute_result",
          "data": {
            "text/plain": [
              "0"
            ]
          },
          "metadata": {},
          "execution_count": 187
        }
      ]
    },
    {
      "cell_type": "markdown",
      "source": [
        "Random Forest"
      ],
      "metadata": {
        "id": "VNAatwW7XAJh"
      }
    },
    {
      "cell_type": "code",
      "source": [
        "# Splitting the dataset into training and testing sets\n",
        "X = df_mode1.drop('total_price', axis=1)\n",
        "y = df_mode1['total_price']\n",
        "X_train, X_test, y_train, y_test = train_test_split(X, y, test_size=0.2, random_state=42)\n",
        "\n",
        "#Random Forest Regression for df_mode1\n",
        "random_forest_reg = RandomForestRegressor(n_estimators=100, random_state=42)\n",
        "random_forest_reg.fit(X_train, y_train)\n",
        "\n",
        "# Predicting and evaluating the model\n",
        "y_pred_rf = random_forest_reg.predict(X_test)\n",
        "mse_rf = mean_squared_error(y_test, y_pred_rf)\n",
        "rmse_rf = np.sqrt(mse_rf)\n",
        "\n",
        "# Returning Mean Squared Error and Root Mean Squared Error for Random Forest Regressor Model\n",
        "print(\"Mean Squraed Error:\",mse_rf)\n",
        "print(\"Root Mean Squared Error: \",rmse_rf)"
      ],
      "metadata": {
        "colab": {
          "base_uri": "https://localhost:8080/"
        },
        "id": "qiZFiBKkJwlF",
        "outputId": "6b120f6e-ce4b-4e38-d2f1-35fce294aaf3"
      },
      "execution_count": 188,
      "outputs": [
        {
          "output_type": "execute_result",
          "data": {
            "text/plain": [
              "(0.010483196138420406, 0.10238748037929445)"
            ]
          },
          "metadata": {},
          "execution_count": 188
        }
      ]
    },
    {
      "cell_type": "markdown",
      "source": [
        "## **FOR REMOVING AND IMPUTATION 1% OF DATA**"
      ],
      "metadata": {
        "id": "Q2Mad9KIc3ii"
      }
    },
    {
      "cell_type": "markdown",
      "source": [
        "## **MEAN FOR 5%**"
      ],
      "metadata": {
        "id": "0JwByf3zW0f2"
      }
    },
    {
      "cell_type": "markdown",
      "source": [
        "Removing 5% of data randomly\n"
      ],
      "metadata": {
        "id": "L722Nz03WuwV"
      }
    },
    {
      "cell_type": "code",
      "source": [
        "# Make a copy of the DataFrame to work with\n",
        "df_mean5 = df.copy()\n",
        "\n",
        "# Remove 1% of data randomly from 'pizza_size' column\n",
        "n_to_remove = int(0.05 * len(df_mean5))\n",
        "random_indices = np.random.choice(df_mean5.index, size=n_to_remove, replace=False)\n",
        "df_mean5.loc[random_indices, 'pizza_size'] = np.nan\n",
        "df_mean5['pizza_size'].isnull().sum()"
      ],
      "metadata": {
        "colab": {
          "base_uri": "https://localhost:8080/"
        },
        "id": "dpzhRjNAKEZv",
        "outputId": "bd3177e3-094b-4044-a995-326f195e12c3"
      },
      "execution_count": 195,
      "outputs": [
        {
          "output_type": "execute_result",
          "data": {
            "text/plain": [
              "2431"
            ]
          },
          "metadata": {},
          "execution_count": 195
        }
      ]
    },
    {
      "cell_type": "markdown",
      "source": [
        "Imputing values by mean for 5%"
      ],
      "metadata": {
        "id": "VTd2nOTdWqFc"
      }
    },
    {
      "cell_type": "code",
      "source": [
        "mean5_pizza_size = df_mean5['pizza_size'].mean()\n",
        "df_mean5['pizza_size'] = df_mean5['pizza_size'].fillna(median_pizza_size)\n",
        "df_mean5['pizza_size'].isnull().sum()"
      ],
      "metadata": {
        "colab": {
          "base_uri": "https://localhost:8080/"
        },
        "id": "wF6tRExAK0E6",
        "outputId": "e21fd391-a4be-4956-c29b-a89f7d0951e4"
      },
      "execution_count": 197,
      "outputs": [
        {
          "output_type": "execute_result",
          "data": {
            "text/plain": [
              "0"
            ]
          },
          "metadata": {},
          "execution_count": 197
        }
      ]
    },
    {
      "cell_type": "markdown",
      "source": [
        "Regression Forest"
      ],
      "metadata": {
        "id": "AGjfu5o0WmCW"
      }
    },
    {
      "cell_type": "code",
      "source": [
        "# Splitting the dataset into training and testing sets\n",
        "X = df_mean5.drop('total_price', axis=1)\n",
        "y = df_mean5['total_price']\n",
        "X_train, X_test, y_train, y_test = train_test_split(X, y, test_size=0.2, random_state=42)\n",
        "\n",
        "#Random Forest Regression for df_cleaned\n",
        "random_forest_reg = RandomForestRegressor(n_estimators=100, random_state=42)\n",
        "random_forest_reg.fit(X_train, y_train)\n",
        "\n",
        "# Predicting and evaluating the model\n",
        "y_pred_rf = random_forest_reg.predict(X_test)\n",
        "mse_rf = mean_squared_error(y_test, y_pred_rf)\n",
        "rmse_rf = np.sqrt(mse_rf)\n",
        "\n",
        "# Returning Mean Squared Error and Root Mean Squared Error for Random Forest Regressor Model\n",
        "print(\"Mean Squraed Error:\",mse_rf)\n",
        "print(\"Root Mean Squared Error: \",rmse_rf)"
      ],
      "metadata": {
        "colab": {
          "base_uri": "https://localhost:8080/"
        },
        "id": "gWdHt9c3Lelb",
        "outputId": "d5f6e05e-0df1-4597-b791-b99779292499"
      },
      "execution_count": 199,
      "outputs": [
        {
          "output_type": "execute_result",
          "data": {
            "text/plain": [
              "(0.005774923076923074, 0.07599291464947949)"
            ]
          },
          "metadata": {},
          "execution_count": 199
        }
      ]
    },
    {
      "cell_type": "markdown",
      "source": [
        "### **MODE FOR 5%**"
      ],
      "metadata": {
        "id": "zm3S7GHaWQRa"
      }
    },
    {
      "cell_type": "markdown",
      "source": [
        "Removing 5% of data randomly for mode"
      ],
      "metadata": {
        "id": "B3uEjpYCWI7c"
      }
    },
    {
      "cell_type": "code",
      "source": [
        "# Make a copy of the DataFrame to work with\n",
        "df_mode5 = df.copy()\n",
        "\n",
        "# Remove 1% of data randomly from 'pizza_size' column\n",
        "n_to_remove = int(0.05 * len(df_mode5))\n",
        "random_indices = np.random.choice(df_mode5.index, size=n_to_remove, replace=False)\n",
        "df_mode5.loc[random_indices, 'pizza_size'] = np.nan\n",
        "df_mode5['pizza_size'].isnull().sum()"
      ],
      "metadata": {
        "colab": {
          "base_uri": "https://localhost:8080/"
        },
        "id": "6r82afERLrHr",
        "outputId": "7193fc6e-aa8f-4c81-aba5-d1e952791cdd"
      },
      "execution_count": 200,
      "outputs": [
        {
          "output_type": "execute_result",
          "data": {
            "text/plain": [
              "2431"
            ]
          },
          "metadata": {},
          "execution_count": 200
        }
      ]
    },
    {
      "cell_type": "markdown",
      "source": [
        "Imputing values by mode for 5%"
      ],
      "metadata": {
        "id": "b4n5rAaCWF5C"
      }
    },
    {
      "cell_type": "code",
      "source": [
        "mode5_pizza_size = df_mode5['pizza_size'].mode()[0]\n",
        "df_mode5['pizza_size'] = df_mode5['pizza_size'].fillna(mode5_pizza_size)\n",
        "df_mode5['pizza_size'].isnull().sum()"
      ],
      "metadata": {
        "colab": {
          "base_uri": "https://localhost:8080/"
        },
        "id": "hCKBvZR3L-Ws",
        "outputId": "05f6b587-6908-490f-8980-14724468ba50"
      },
      "execution_count": 201,
      "outputs": [
        {
          "output_type": "execute_result",
          "data": {
            "text/plain": [
              "0"
            ]
          },
          "metadata": {},
          "execution_count": 201
        }
      ]
    },
    {
      "cell_type": "markdown",
      "source": [
        "Regression Forest\n"
      ],
      "metadata": {
        "id": "fwQJTfF9WAi-"
      }
    },
    {
      "cell_type": "code",
      "source": [
        "# Splitting the dataset into training and testing sets\n",
        "X = df_mode5.drop('total_price', axis=1)\n",
        "y = df_mode5['total_price']\n",
        "X_train, X_test, y_train, y_test = train_test_split(X, y, test_size=0.2, random_state=42)\n",
        "\n",
        "#Random Forest Regression for df_cleaned\n",
        "random_forest_reg = RandomForestRegressor(n_estimators=100, random_state=42)\n",
        "random_forest_reg.fit(X_train, y_train)\n",
        "\n",
        "# Predicting and evaluating the model\n",
        "y_pred_rf = random_forest_reg.predict(X_test)\n",
        "mse_rf = mean_squared_error(y_test, y_pred_rf)\n",
        "rmse_rf = np.sqrt(mse_rf)\n",
        "\n",
        "# Returning Mean Squared Error and Root Mean Squared Error for Random Forest Regressor Model\n",
        "print(\"Mean Squraed Error:\",mse_rf)\n",
        "print(\"Root Mean Squared Error: \",rmse_rf)"
      ],
      "metadata": {
        "colab": {
          "base_uri": "https://localhost:8080/"
        },
        "id": "L49_G5vZMP_t",
        "outputId": "45e04b9e-8df9-462b-bfd6-3fdacdb652b8"
      },
      "execution_count": 202,
      "outputs": [
        {
          "output_type": "execute_result",
          "data": {
            "text/plain": [
              "(0.0047816133535582, 0.06914921079490495)"
            ]
          },
          "metadata": {},
          "execution_count": 202
        }
      ]
    },
    {
      "cell_type": "markdown",
      "source": [
        "## **MEDIAN FOR 5%**"
      ],
      "metadata": {
        "id": "DLe23nE8V5tS"
      }
    },
    {
      "cell_type": "markdown",
      "source": [
        "Removing 5% of data randomly for meadian\n"
      ],
      "metadata": {
        "id": "ceJ4BStPV3yn"
      }
    },
    {
      "cell_type": "code",
      "source": [
        "# Make a copy of the DataFrame to work with\n",
        "df_median5 = df.copy()\n",
        "\n",
        "# Remove 1% of data randomly from 'pizza_size' column\n",
        "n_to_remove = int(0.05 * len(df_median5))\n",
        "random_indices = np.random.choice(df_median5.index, size=n_to_remove, replace=False)\n",
        "df_median5.loc[random_indices, 'pizza_size'] = np.nan\n",
        "df_median5['pizza_size'].isnull().sum()"
      ],
      "metadata": {
        "colab": {
          "base_uri": "https://localhost:8080/"
        },
        "id": "wSAv0kIfMWi8",
        "outputId": "263ed286-cce3-474c-e6e1-cbd03eb25dd9"
      },
      "execution_count": 203,
      "outputs": [
        {
          "output_type": "execute_result",
          "data": {
            "text/plain": [
              "2431"
            ]
          },
          "metadata": {},
          "execution_count": 203
        }
      ]
    },
    {
      "cell_type": "markdown",
      "source": [
        "Imputing values by median for 5%"
      ],
      "metadata": {
        "id": "_kbf0kbIVxMD"
      }
    },
    {
      "cell_type": "code",
      "source": [
        "median5_pizza_size = df_median5['pizza_size'].median()\n",
        "df_median5['pizza_size'] = df_median5['pizza_size'].fillna(median5_pizza_size)\n",
        "df_median5['pizza_size'].isnull().sum()"
      ],
      "metadata": {
        "colab": {
          "base_uri": "https://localhost:8080/"
        },
        "id": "S_M31QhlMkp9",
        "outputId": "2031c9ea-9c4d-4a44-dd0d-5edcbb50f5ca"
      },
      "execution_count": 204,
      "outputs": [
        {
          "output_type": "execute_result",
          "data": {
            "text/plain": [
              "0"
            ]
          },
          "metadata": {},
          "execution_count": 204
        }
      ]
    },
    {
      "cell_type": "markdown",
      "source": [
        "Regression Forest"
      ],
      "metadata": {
        "id": "9SPoQMlJVtoG"
      }
    },
    {
      "cell_type": "code",
      "source": [
        "# Splitting the dataset into training and testing sets\n",
        "X = df_median5.drop('total_price', axis=1)\n",
        "y = df_median5['total_price']\n",
        "X_train, X_test, y_train, y_test = train_test_split(X, y, test_size=0.2, random_state=42)\n",
        "\n",
        "#Random Forest Regression for df_median5\n",
        "random_forest_reg = RandomForestRegressor(n_estimators=100, random_state=42)\n",
        "random_forest_reg.fit(X_train, y_train)\n",
        "\n",
        "# Predicting and evaluating the model\n",
        "y_pred_rf = random_forest_reg.predict(X_test)\n",
        "mse_rf = mean_squared_error(y_test, y_pred_rf)\n",
        "rmse_rf = np.sqrt(mse_rf)\n",
        "\n",
        "# Returning Mean Squared Error and Root Mean Squared Error for Random Forest Regressor Model\n",
        "print(\"Mean Squraed Error:\",mse_rf)\n",
        "print(\"Root Mean Squared Error: \",rmse_rf)"
      ],
      "metadata": {
        "colab": {
          "base_uri": "https://localhost:8080/"
        },
        "id": "TvyaIfPWM0hU",
        "outputId": "24e64335-337d-42d2-9974-000f03d7eca7"
      },
      "execution_count": 205,
      "outputs": [
        {
          "output_type": "execute_result",
          "data": {
            "text/plain": [
              "(0.0072240545300287905, 0.08499443822997356)"
            ]
          },
          "metadata": {},
          "execution_count": 205
        }
      ]
    },
    {
      "cell_type": "markdown",
      "source": [
        "## **FOR REMOVING AND IMPUTATION 10% OF DATA**"
      ],
      "metadata": {
        "id": "XunT1ORSdNxI"
      }
    },
    {
      "cell_type": "markdown",
      "source": [
        "## **MEDIAN FOR 10%**"
      ],
      "metadata": {
        "id": "yYiC5ZJ7ViMk"
      }
    },
    {
      "cell_type": "markdown",
      "source": [
        "Removing 10% of data randomly for meadian"
      ],
      "metadata": {
        "id": "oD-quJGKVez5"
      }
    },
    {
      "cell_type": "code",
      "source": [
        "# Make a copy of the DataFrame to work with\n",
        "df_median10 = df.copy()\n",
        "\n",
        "# Remove 10% of data randomly from 'pizza_size' column\n",
        "n_to_remove = int(0.10 * len(df_median10))\n",
        "random_indices = np.random.choice(df_median10.index, size=n_to_remove, replace=False)\n",
        "df_median10.loc[random_indices, 'pizza_size'] = np.nan\n",
        "df_median10['pizza_size'].isnull().sum()"
      ],
      "metadata": {
        "colab": {
          "base_uri": "https://localhost:8080/"
        },
        "id": "DOAOIDyfM583",
        "outputId": "ad2bb522-9e62-47a1-dc36-a1020a7a70c7"
      },
      "execution_count": 206,
      "outputs": [
        {
          "output_type": "execute_result",
          "data": {
            "text/plain": [
              "4862"
            ]
          },
          "metadata": {},
          "execution_count": 206
        }
      ]
    },
    {
      "cell_type": "code",
      "source": [
        "#imputing values by median for 10%\n",
        "median10_pizza_size = df_median10['pizza_size'].median()\n",
        "df_median10['pizza_size'] = df_median10['pizza_size'].fillna(median5_pizza_size)\n",
        "df_median10['pizza_size'].isnull().sum()"
      ],
      "metadata": {
        "colab": {
          "base_uri": "https://localhost:8080/"
        },
        "id": "2abLvQKdNQzR",
        "outputId": "0019e884-1579-402c-b86e-28d8ee7f9c76"
      },
      "execution_count": 207,
      "outputs": [
        {
          "output_type": "execute_result",
          "data": {
            "text/plain": [
              "0"
            ]
          },
          "metadata": {},
          "execution_count": 207
        }
      ]
    },
    {
      "cell_type": "markdown",
      "source": [
        "Regression Forest"
      ],
      "metadata": {
        "id": "8Da3_OgIVYJa"
      }
    },
    {
      "cell_type": "code",
      "source": [
        "# Splitting the dataset into training and testing sets\n",
        "X = df_median10.drop('total_price', axis=1)\n",
        "y = df_median10['total_price']\n",
        "X_train, X_test, y_train, y_test = train_test_split(X, y, test_size=0.2, random_state=42)\n",
        "\n",
        "#Random Forest Regression for df_median10\n",
        "# Random Forest Regressor Model\n",
        "random_forest_reg = RandomForestRegressor(n_estimators=100, random_state=42)\n",
        "random_forest_reg.fit(X_train, y_train)\n",
        "\n",
        "# Predicting and evaluating the model\n",
        "y_pred_rf = random_forest_reg.predict(X_test)\n",
        "mse_rf = mean_squared_error(y_test, y_pred_rf)\n",
        "rmse_rf = np.sqrt(mse_rf)\n",
        "\n",
        "# Returning Mean Squared Error and Root Mean Squared Error for Random Forest Regressor Model\n",
        "print(\"Mean Squraed Error:\",mse_rf)\n",
        "print(\"Root Mean Squared Error: \",rmse_rf)"
      ],
      "metadata": {
        "colab": {
          "base_uri": "https://localhost:8080/"
        },
        "id": "j6ODBGjoNaSh",
        "outputId": "05e894f5-f880-4d26-afbd-0f1336faed6e"
      },
      "execution_count": 208,
      "outputs": [
        {
          "output_type": "execute_result",
          "data": {
            "text/plain": [
              "(0.0072689968377211206, 0.08525841212291677)"
            ]
          },
          "metadata": {},
          "execution_count": 208
        }
      ]
    },
    {
      "cell_type": "markdown",
      "source": [
        "## **MODE FOR 10%**"
      ],
      "metadata": {
        "id": "y9Um_R_gU6ks"
      }
    },
    {
      "cell_type": "markdown",
      "source": [
        "Removing 10% of data randomly for mode\n"
      ],
      "metadata": {
        "id": "Eo6TlfpUUx7H"
      }
    },
    {
      "cell_type": "code",
      "source": [
        "# Make a copy of the DataFrame to work with\n",
        "df_mode10 = df.copy()\n",
        "\n",
        "# Remove 10% of data randomly from 'pizza_size' column\n",
        "n_to_remove = int(0.10 * len(df_mode10))\n",
        "random_indices = np.random.choice(df_mode5.index, size=n_to_remove, replace=False)\n",
        "df_mode10.loc[random_indices, 'pizza_size'] = np.nan\n",
        "df_mode10['pizza_size'].isnull().sum()"
      ],
      "metadata": {
        "colab": {
          "base_uri": "https://localhost:8080/"
        },
        "id": "O1n9ujABNlTw",
        "outputId": "7d038bda-9c13-4116-d3f6-70abf3b27b0d"
      },
      "execution_count": 209,
      "outputs": [
        {
          "output_type": "execute_result",
          "data": {
            "text/plain": [
              "4862"
            ]
          },
          "metadata": {},
          "execution_count": 209
        }
      ]
    },
    {
      "cell_type": "markdown",
      "source": [
        "Imputing values by mode for 10%"
      ],
      "metadata": {
        "id": "K-DD_9lTUnvl"
      }
    },
    {
      "cell_type": "code",
      "source": [
        "mode10_pizza_size = df_mode10['pizza_size'].mode()[0]\n",
        "df_mode10['pizza_size'] = df_mode10['pizza_size'].fillna(mode10_pizza_size)\n",
        "df_mode10['pizza_size'].isnull().sum()"
      ],
      "metadata": {
        "colab": {
          "base_uri": "https://localhost:8080/"
        },
        "id": "h9TCbwjlNwq5",
        "outputId": "904224d2-1f08-4cc9-b3c8-f3fa26d1e8b6"
      },
      "execution_count": 210,
      "outputs": [
        {
          "output_type": "execute_result",
          "data": {
            "text/plain": [
              "0"
            ]
          },
          "metadata": {},
          "execution_count": 210
        }
      ]
    },
    {
      "cell_type": "markdown",
      "source": [
        "Regression Forest Regression"
      ],
      "metadata": {
        "id": "4eVWjKT_Ue_b"
      }
    },
    {
      "cell_type": "code",
      "source": [
        "# Splitting the dataset into training and testing sets\n",
        "X = df_mode10.drop('total_price', axis=1)\n",
        "y = df_mode10['total_price']\n",
        "X_train, X_test, y_train, y_test = train_test_split(X, y, test_size=0.2, random_state=42)\n",
        "\n",
        "#Random Forest Regression for df_mode10\n",
        "# Random Forest Regressor Model\n",
        "random_forest_reg = RandomForestRegressor(n_estimators=100, random_state=42)\n",
        "random_forest_reg.fit(X_train, y_train)\n",
        "\n",
        "# Predicting and evaluating the model\n",
        "y_pred_rf = random_forest_reg.predict(X_test)\n",
        "mse_rf = mean_squared_error(y_test, y_pred_rf)\n",
        "rmse_rf = np.sqrt(mse_rf)\n",
        "\n",
        "# Returning Mean Squared Error and Root Mean Squared Error for Random Forest Regressor Model\n",
        "print(\"Mean Squraed Error:\",mse_rf)\n",
        "print(\"Root Mean Squared Error: \",rmse_rf)"
      ],
      "metadata": {
        "colab": {
          "base_uri": "https://localhost:8080/"
        },
        "id": "jzCpC6jaN6-f",
        "outputId": "d445ca98-e626-41bc-a5f0-cf243b995513"
      },
      "execution_count": 211,
      "outputs": [
        {
          "output_type": "execute_result",
          "data": {
            "text/plain": [
              "(0.004843478403948979, 0.06959510330439189)"
            ]
          },
          "metadata": {},
          "execution_count": 211
        }
      ]
    },
    {
      "cell_type": "markdown",
      "source": [
        "# **MEAN FOR 10%**"
      ],
      "metadata": {
        "id": "mBebt4R2UYVn"
      }
    },
    {
      "cell_type": "markdown",
      "source": [
        "Removing 10% of data randomly"
      ],
      "metadata": {
        "id": "F32n4OQ-UQGq"
      }
    },
    {
      "cell_type": "code",
      "source": [
        "# Make a copy of the DataFrame to work with\n",
        "df_mean10 = df.copy()\n",
        "\n",
        "# Remove 10% of data randomly from 'pizza_size' column\n",
        "n_to_remove = int(0.10 * len(df_mean10))\n",
        "random_indices = np.random.choice(df_mode5.index, size=n_to_remove, replace=False)\n",
        "df_mean10.loc[random_indices, 'pizza_size'] = np.nan\n",
        "df_mean10['pizza_size'].isnull().sum()"
      ],
      "metadata": {
        "colab": {
          "base_uri": "https://localhost:8080/"
        },
        "id": "3uP_6fBMODIN",
        "outputId": "e48c05c7-a4fa-4754-cba2-98c5db62c9ad"
      },
      "execution_count": 212,
      "outputs": [
        {
          "output_type": "execute_result",
          "data": {
            "text/plain": [
              "4862"
            ]
          },
          "metadata": {},
          "execution_count": 212
        }
      ]
    },
    {
      "cell_type": "markdown",
      "source": [
        "Imputing values by mean for 10%"
      ],
      "metadata": {
        "id": "aacEAVdrUIqA"
      }
    },
    {
      "cell_type": "code",
      "source": [
        "mean10_pizza_size = df_mode10['pizza_size'].mean()\n",
        "df_mean10['pizza_size'] = df_mean10['pizza_size'].fillna(mean10_pizza_size)\n",
        "df_mean10['pizza_size'].isnull().sum()"
      ],
      "metadata": {
        "colab": {
          "base_uri": "https://localhost:8080/"
        },
        "id": "RdensNuhOMbj",
        "outputId": "ab55ac7a-6c9b-4a30-e9aa-9644c53a56a5"
      },
      "execution_count": 213,
      "outputs": [
        {
          "output_type": "execute_result",
          "data": {
            "text/plain": [
              "0"
            ]
          },
          "metadata": {},
          "execution_count": 213
        }
      ]
    },
    {
      "cell_type": "markdown",
      "source": [
        "Random Forest Regression"
      ],
      "metadata": {
        "id": "8JWwnb00TNtK"
      }
    },
    {
      "cell_type": "code",
      "source": [
        "# Splitting the dataset into training and testing sets\n",
        "X = df_mean10.drop('total_price', axis=1)\n",
        "y = df_mean10['total_price']\n",
        "X_train, X_test, y_train, y_test = train_test_split(X, y, test_size=0.2, random_state=42)\n",
        "\n",
        "#Random Forest Regression for df_mean10\n",
        "# Random Forest Regressor Model\n",
        "random_forest_reg = RandomForestRegressor(n_estimators=100, random_state=42)\n",
        "random_forest_reg.fit(X_train, y_train)\n",
        "\n",
        "# Predicting and evaluating the model\n",
        "y_pred_rf = random_forest_reg.predict(X_test)\n",
        "mse_rf = mean_squared_error(y_test, y_pred_rf)\n",
        "rmse_rf = np.sqrt(mse_rf)\n",
        "\n",
        "# Returning Mean Squared Error and Root Mean Squared Error for Random Forest Regressor Model\n",
        "print(\"Mean Squraed Error:\",mse_rf)\n",
        "print(\"Root Mean Squared Error: \",rmse_rf)"
      ],
      "metadata": {
        "colab": {
          "base_uri": "https://localhost:8080/"
        },
        "id": "_iRge6JvOZIg",
        "outputId": "64c12a8f-a49d-4155-d5a4-2d8e01173eb5"
      },
      "execution_count": 216,
      "outputs": [
        {
          "output_type": "stream",
          "name": "stdout",
          "text": [
            "Mean Squraed Error: 0.005403150478198291\n",
            "Root Mean Squared Error:  0.07350612544678362\n"
          ]
        }
      ]
    },
    {
      "cell_type": "markdown",
      "source": [
        "## **REFERENCES**\n",
        "\n",
        "\n",
        "\n",
        "1.   Sckit learn offcial documentation\n",
        "2.   Refered Towards Data Science\n",
        "3.   Correlation Matrix and Heatmap\n",
        "4.   Random forest regression\n",
        "5.   Linear regression\n",
        "6.   Gradient boosting\n",
        "\n",
        "**Correlation Matrix and Heatmap:**\n",
        "The correlation matrix and heatmap were created using the Seaborn library in Python, as outlined in the Seaborn documentation: https://seaborn.pydata.org/\n",
        "Interpretation of the correlation matrices and heatmap followed the guidance from relevant tutorials and guides used in this analysis.\n",
        "\n",
        "**Random Forest Regression:**\n",
        "Random forest regression was implemented in this analysis using Scikit-Learn in Python, and reference was made to the Scikit-Learn documentation: https://scikit-learn.org/stable/documentation.html\n",
        "The analysis benefited from academic sources such as \"Breiman, L. (2001). Random forests. Machine learning, 45(1), 5-32,\" which provided insights into the random forest algorithm.\n",
        "\n",
        "**Linear Regression:**\n",
        "Linear regression was employed in this analysis through the Scikit-Learn library in Python, with reference to its documentation: https://scikit-learn.org/stable/documentation.html\n",
        "The analysis drew from foundational resources like \"Hastie, T., Tibshirani, R., & Friedman, J. (2009). The elements of statistical learning: Data mining, inference, and prediction. Springer,\" to deepen the understanding of linear regression.\n",
        "\n",
        "**Gradient Boosting:**\n",
        "Gradient boosting techniques, including XGBoost, were utilized in this analysis, with reference to the XGBoost documentation: https://xgboost.readthedocs.io/\n",
        "The analysis incorporated insights from academic sources, such as \"Friedman, J. H. (2001). Greedy function approximation: A gradient boosting machine. The Annals of Statistics, 29(5), 1189-1232,\" which contributed to the understanding of gradient boosting methods.\n",
        "\n",
        "The algorithms were referred directly from the Sckit learn official documentation. Visualization was referred from the Machine Learning with scikit-learn Quick Start Guide and Towards Data Science (How do you check the quality of your regression model in Python?)."
      ],
      "metadata": {
        "id": "S4lUC3kdnwil"
      }
    },
    {
      "cell_type": "markdown",
      "source": [
        "## **LICENSE**\n",
        "\n",
        "MIT License\n",
        "\n",
        "Copyright (c) 2024 sakshiraade\n",
        "\n",
        "Permission is hereby granted, free of charge, to any person obtaining a copy\n",
        "of this software and associated documentation files (the \"Software\"), to deal\n",
        "in the Software without restriction, including without limitation the rights\n",
        "to use, copy, modify, merge, publish, distribute, sublicense, and/or sell\n",
        "copies of the Software, and to permit persons to whom the Software is\n",
        "furnished to do so, subject to the following conditions:\n",
        "\n",
        "The above copyright notice and this permission notice shall be included in all\n",
        "copies or substantial portions of the Software.\n",
        "\n",
        "THE SOFTWARE IS PROVIDED \"AS IS\", WITHOUT WARRANTY OF ANY KIND, EXPRESS OR\n",
        "IMPLIED, INCLUDING BUT NOT LIMITED TO THE WARRANTIES OF MERCHANTABILITY,\n",
        "FITNESS FOR A PARTICULAR PURPOSE AND NONINFRINGEMENT. IN NO EVENT SHALL THE\n",
        "AUTHORS OR COPYRIGHT HOLDERS BE LIABLE FOR ANY CLAIM, DAMAGES OR OTHER\n",
        "LIABILITY, WHETHER IN AN ACTION OF CONTRACT, TORT OR OTHERWISE, ARISING FROM,\n",
        "OUT OF OR IN CONNECTION WITH THE SOFTWARE OR THE USE OR OTHER DEALINGS IN THE\n",
        "SOFTWARE."
      ],
      "metadata": {
        "id": "6hsCKIxLnz39"
      }
    }
  ],
  "metadata": {
    "colab": {
      "provenance": []
    },
    "kernelspec": {
      "display_name": "Python 3",
      "name": "python3"
    },
    "language_info": {
      "name": "python"
    }
  },
  "nbformat": 4,
  "nbformat_minor": 0
}